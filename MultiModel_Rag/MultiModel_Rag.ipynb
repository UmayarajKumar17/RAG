{
 "cells": [
  {
   "cell_type": "code",
   "execution_count": 2,
   "metadata": {},
   "outputs": [],
   "source": [
    "import requests\n",
    "\n",
    "# You can use your own uploaded images and captions. \n",
    "# You will be responsible for the legal use of images that \n",
    "#  you are going to use.\n",
    "\n",
    "url1='http://farm3.staticflickr.com/2519/4126738647_cc436c111b_z.jpg'\n",
    "cap1='A motorcycle sits parked across from a herd of livestock'\n",
    "\n",
    "url2='http://farm3.staticflickr.com/2046/2003879022_1b4b466d1d_z.jpg'\n",
    "cap2='Motorcycle on platform to be worked on in garage'\n",
    "\n",
    "url3='http://farm1.staticflickr.com/133/356148800_9bf03b6116_z.jpg'\n",
    "cap3='a cat laying down stretched out near a laptop'\n",
    "\n",
    "img1 = {\n",
    "  'flickr_url': url1,\n",
    "  'caption': cap1,\n",
    "  'image_path' : './shared_data/motorcycle_1.jpg'\n",
    "}\n",
    "\n",
    "img2 = {\n",
    "    'flickr_url': url2,\n",
    "    'caption': cap2,\n",
    "    'image_path' : './shared_data/motorcycle_2.jpg'\n",
    "}\n",
    "\n",
    "img3 = {\n",
    "    'flickr_url' : url3,\n",
    "    'caption': cap3,\n",
    "    'image_path' : './shared_data/cat_1.jpg'\n",
    "}\n",
    "\n",
    "# download images\n",
    "imgs = [img1, img2, img3]\n",
    "for img in imgs:\n",
    "    data = requests.get(img['flickr_url']).content\n",
    "    with open(img['image_path'], 'wb') as f:\n",
    "        f.write(data)"
   ]
  }
 ],
 "metadata": {
  "kernelspec": {
   "display_name": "Python 3",
   "language": "python",
   "name": "python3"
  },
  "language_info": {
   "codemirror_mode": {
    "name": "ipython",
    "version": 3
   },
   "file_extension": ".py",
   "mimetype": "text/x-python",
   "name": "python",
   "nbconvert_exporter": "python",
   "pygments_lexer": "ipython3",
   "version": "3.11.8"
  }
 },
 "nbformat": 4,
 "nbformat_minor": 2
}
