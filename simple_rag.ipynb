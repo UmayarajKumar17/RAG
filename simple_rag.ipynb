{
 "cells": [
  {
   "cell_type": "code",
   "execution_count": 1,
   "metadata": {},
   "outputs": [
    {
     "name": "stdout",
     "output_type": "stream",
     "text": [
      "Collecting langchain-ollama\n",
      "  Downloading langchain_ollama-0.2.2-py3-none-any.whl.metadata (1.9 kB)\n",
      "Requirement already satisfied: langchain-core<0.4.0,>=0.3.27 in c:\\users\\umayaraj kumar\\appdata\\local\\programs\\python\\python311\\lib\\site-packages (from langchain-ollama) (0.3.29)\n",
      "Collecting ollama<1,>=0.4.4 (from langchain-ollama)\n",
      "  Downloading ollama-0.4.7-py3-none-any.whl.metadata (4.7 kB)\n",
      "Requirement already satisfied: PyYAML>=5.3 in c:\\users\\umayaraj kumar\\appdata\\local\\programs\\python\\python311\\lib\\site-packages (from langchain-core<0.4.0,>=0.3.27->langchain-ollama) (6.0.2)\n",
      "Requirement already satisfied: jsonpatch<2.0,>=1.33 in c:\\users\\umayaraj kumar\\appdata\\local\\programs\\python\\python311\\lib\\site-packages (from langchain-core<0.4.0,>=0.3.27->langchain-ollama) (1.33)\n",
      "Requirement already satisfied: langsmith<0.3,>=0.1.125 in c:\\users\\umayaraj kumar\\appdata\\local\\programs\\python\\python311\\lib\\site-packages (from langchain-core<0.4.0,>=0.3.27->langchain-ollama) (0.1.145)\n",
      "Requirement already satisfied: packaging<25,>=23.2 in c:\\users\\umayaraj kumar\\appdata\\roaming\\python\\python311\\site-packages (from langchain-core<0.4.0,>=0.3.27->langchain-ollama) (24.1)\n",
      "Requirement already satisfied: pydantic<3.0.0,>=2.5.2 in c:\\users\\umayaraj kumar\\appdata\\local\\programs\\python\\python311\\lib\\site-packages (from langchain-core<0.4.0,>=0.3.27->langchain-ollama) (2.10.1)\n",
      "Requirement already satisfied: tenacity!=8.4.0,<10.0.0,>=8.1.0 in c:\\users\\umayaraj kumar\\appdata\\local\\programs\\python\\python311\\lib\\site-packages (from langchain-core<0.4.0,>=0.3.27->langchain-ollama) (9.0.0)\n",
      "Requirement already satisfied: typing-extensions>=4.7 in c:\\users\\umayaraj kumar\\appdata\\roaming\\python\\python311\\site-packages (from langchain-core<0.4.0,>=0.3.27->langchain-ollama) (4.12.2)\n",
      "Requirement already satisfied: httpx<0.29,>=0.27 in c:\\users\\umayaraj kumar\\appdata\\local\\programs\\python\\python311\\lib\\site-packages (from ollama<1,>=0.4.4->langchain-ollama) (0.27.2)\n",
      "Requirement already satisfied: anyio in c:\\users\\umayaraj kumar\\appdata\\local\\programs\\python\\python311\\lib\\site-packages (from httpx<0.29,>=0.27->ollama<1,>=0.4.4->langchain-ollama) (4.6.2.post1)\n",
      "Requirement already satisfied: certifi in c:\\users\\umayaraj kumar\\appdata\\local\\programs\\python\\python311\\lib\\site-packages (from httpx<0.29,>=0.27->ollama<1,>=0.4.4->langchain-ollama) (2024.8.30)\n",
      "Requirement already satisfied: httpcore==1.* in c:\\users\\umayaraj kumar\\appdata\\local\\programs\\python\\python311\\lib\\site-packages (from httpx<0.29,>=0.27->ollama<1,>=0.4.4->langchain-ollama) (1.0.7)\n",
      "Requirement already satisfied: idna in c:\\users\\umayaraj kumar\\appdata\\local\\programs\\python\\python311\\lib\\site-packages (from httpx<0.29,>=0.27->ollama<1,>=0.4.4->langchain-ollama) (3.7)\n",
      "Requirement already satisfied: sniffio in c:\\users\\umayaraj kumar\\appdata\\local\\programs\\python\\python311\\lib\\site-packages (from httpx<0.29,>=0.27->ollama<1,>=0.4.4->langchain-ollama) (1.3.1)\n",
      "Requirement already satisfied: h11<0.15,>=0.13 in c:\\users\\umayaraj kumar\\appdata\\local\\programs\\python\\python311\\lib\\site-packages (from httpcore==1.*->httpx<0.29,>=0.27->ollama<1,>=0.4.4->langchain-ollama) (0.14.0)\n",
      "Requirement already satisfied: jsonpointer>=1.9 in c:\\users\\umayaraj kumar\\appdata\\local\\programs\\python\\python311\\lib\\site-packages (from jsonpatch<2.0,>=1.33->langchain-core<0.4.0,>=0.3.27->langchain-ollama) (3.0.0)\n",
      "Requirement already satisfied: orjson<4.0.0,>=3.9.14 in c:\\users\\umayaraj kumar\\appdata\\local\\programs\\python\\python311\\lib\\site-packages (from langsmith<0.3,>=0.1.125->langchain-core<0.4.0,>=0.3.27->langchain-ollama) (3.10.11)\n",
      "Requirement already satisfied: requests<3,>=2 in c:\\users\\umayaraj kumar\\appdata\\local\\programs\\python\\python311\\lib\\site-packages (from langsmith<0.3,>=0.1.125->langchain-core<0.4.0,>=0.3.27->langchain-ollama) (2.32.3)\n",
      "Requirement already satisfied: requests-toolbelt<2.0.0,>=1.0.0 in c:\\users\\umayaraj kumar\\appdata\\local\\programs\\python\\python311\\lib\\site-packages (from langsmith<0.3,>=0.1.125->langchain-core<0.4.0,>=0.3.27->langchain-ollama) (1.0.0)\n",
      "Requirement already satisfied: annotated-types>=0.6.0 in c:\\users\\umayaraj kumar\\appdata\\local\\programs\\python\\python311\\lib\\site-packages (from pydantic<3.0.0,>=2.5.2->langchain-core<0.4.0,>=0.3.27->langchain-ollama) (0.7.0)\n",
      "Requirement already satisfied: pydantic-core==2.27.1 in c:\\users\\umayaraj kumar\\appdata\\local\\programs\\python\\python311\\lib\\site-packages (from pydantic<3.0.0,>=2.5.2->langchain-core<0.4.0,>=0.3.27->langchain-ollama) (2.27.1)\n",
      "Requirement already satisfied: charset-normalizer<4,>=2 in c:\\users\\umayaraj kumar\\appdata\\local\\programs\\python\\python311\\lib\\site-packages (from requests<3,>=2->langsmith<0.3,>=0.1.125->langchain-core<0.4.0,>=0.3.27->langchain-ollama) (3.4.0)\n",
      "Requirement already satisfied: urllib3<3,>=1.21.1 in c:\\users\\umayaraj kumar\\appdata\\local\\programs\\python\\python311\\lib\\site-packages (from requests<3,>=2->langsmith<0.3,>=0.1.125->langchain-core<0.4.0,>=0.3.27->langchain-ollama) (2.2.3)\n",
      "Downloading langchain_ollama-0.2.2-py3-none-any.whl (18 kB)\n",
      "Downloading ollama-0.4.7-py3-none-any.whl (13 kB)\n",
      "Installing collected packages: ollama, langchain-ollama\n",
      "Successfully installed langchain-ollama-0.2.2 ollama-0.4.7\n",
      "Note: you may need to restart the kernel to use updated packages.\n"
     ]
    }
   ],
   "source": [
    "%pip install -U langchain-ollama\n",
    "\n"
   ]
  },
  {
   "cell_type": "code",
   "execution_count": 2,
   "metadata": {},
   "outputs": [
    {
     "data": {
      "text/plain": [
       "OllamaLLM(model='llama2:7b ')"
      ]
     },
     "execution_count": 2,
     "metadata": {},
     "output_type": "execute_result"
    }
   ],
   "source": [
    "from langchain_ollama import  OllamaLLM\n",
    "OllamaLLM(model = \"llama2:7b \")"
   ]
  },
  {
   "cell_type": "code",
   "execution_count": 4,
   "metadata": {},
   "outputs": [
    {
     "name": "stdout",
     "output_type": "stream",
     "text": [
      "Response: I'm not familiar with the term \"LangChain.\" Can you please provide more context or clarify what you mean by this term? I want to make sure I give you an accurate and helpful response.\n",
      "\n",
      "Source Documents:\n",
      "- This is a sample text document. \n",
      "It contains some information about a specific topic. \n",
      "You can use this text to test the RAG chain.\n"
     ]
    }
   ],
   "source": [
    "from langchain.chains import RetrievalQA\n",
    "from langchain.prompts import PromptTemplate\n",
    "from langchain_groq import ChatGroq\n",
    "from langchain.vectorstores import FAISS\n",
    "from langchain.docstore import InMemoryDocstore\n",
    "from langchain_ollama.llms import OllamaLLM\n",
    "from langchain.embeddings import HuggingFaceEmbeddings\n",
    "from langchain.text_splitter import CharacterTextSplitter\n",
    "\n",
    "from sentence_transformers import SentenceTransformer\n",
    "from langchain.schema import Document\n",
    "llm = OllamaLLM(model=\"llama2:7b\")\n",
    "\n",
    "\n",
    "embeddings = HuggingFaceEmbeddings(model_name=\"sentence-transformers/all-MiniLM-L6-v2\")\n",
    "\"\"\"llm = ChatGroq (\n",
    "    temperature=0,\n",
    "    groq_api_key = \"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\", \n",
    "    model_name=\"llama-3.3-70b-versatile\"\n",
    ")\"\"\"\n",
    "text = \"\"\"This is a sample text document. \n",
    "It contains some information about a specific topic. \n",
    "You can use this text to test the RAG chain.\"\"\"\n",
    "\n",
    "text_splitter = CharacterTextSplitter(chunk_size=1000, chunk_overlap=200)\n",
    "texts = text_splitter.split_text(text)\n",
    "\n",
    "vectorstore = FAISS.from_texts(texts, embeddings)\n",
    "\n",
    "retriever = vectorstore.as_retriever()\n",
    "\n",
    "retrieval_qa_chain = RetrievalQA.from_chain_type(\n",
    "    llm=llm,\n",
    "    retriever=retriever,\n",
    "    return_source_documents=True, \n",
    "    chain_type=\"stuff\"  \n",
    ")\n",
    "\n",
    "query = \"What is LangChain?\"\n",
    "response = retrieval_qa_chain(query)\n",
    "\n",
    "print(\"Response:\", response[\"result\"])\n",
    "print(\"\\nSource Documents:\")\n",
    "for doc in response[\"source_documents\"]:\n",
    "    print(\"-\", doc.page_content)\n"
   ]
  },
  {
   "cell_type": "code",
   "execution_count": 5,
   "metadata": {},
   "outputs": [],
   "source": [
    "from langchain.chains import RetrievalQA\n",
    "from langchain.prompts import PromptTemplate\n",
    "from langchain_groq import ChatGroq\n",
    "from langchain.vectorstores import FAISS\n",
    "from langchain.docstore import InMemoryDocstore\n",
    "from langchain.embeddings import HuggingFaceEmbeddings\n",
    "from langchain.text_splitter import CharacterTextSplitter\n",
    "from langchain.document_loaders import PyPDFLoader\n",
    "from sentence_transformers import SentenceTransformer\n",
    "from langchain_ollama import OllamaLLM\n",
    "from langchain.schema import Document"
   ]
  },
  {
   "cell_type": "code",
   "execution_count": 6,
   "metadata": {},
   "outputs": [],
   "source": [
    "pdf_files = [\n",
    "    \"D:\\groq\\hybrids\\J_K_Rowling_HP_1_Harry_Potter_and_the_Sorcerer's_Stone_www_theg.pdf\",\n",
    "    \"D:\\groq\\hybrids\\J_K_Rowling_HP_2_Harry_Potter_and_the_Chamber_of_Secrets_www_th.pdf\",\n",
    "    \"D:\\groq\\hybrids\\J_K_Rowling_HP_3_Harry_Potter_and_the_Prisoner_of_Azkaban_www_t.pdf\",\n",
    "    \"D:\\groq\\hybrids\\J_K_Rowling_HP_4_Harry_Potter_and_the_Goblet_of_Fire_www_thegeniusandherquirks.pdf\",\n",
    "    \"D:\\groq\\hybrids\\J_K_Rowling_HP_5_Harry_Potter_and_the_Order_of_the_Phoenix_www_.pdf\",\n",
    "    \"D:\\groq\\hybrids\\J_K_Rowling_HP_6_Harry_Potter_and_the_Half_Blood_Prince_www_the.pdf\",\n",
    "    \"D:\\groq\\hybrids\\J_K_Rowling_HP_7_Harry_Potter_and_the_Deathly_Hallows_www_thege.pdf\"\n",
    "]"
   ]
  },
  {
   "cell_type": "code",
   "execution_count": 7,
   "metadata": {},
   "outputs": [],
   "source": [
    "embeddings = HuggingFaceEmbeddings(model_name=\"sentence-transformers/all-MiniLM-L6-v2\")\n",
    "\"\"\"llm = ChatGroq (\n",
    "    temperature=0,\n",
    "    groq_api_key = \"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\", \n",
    "    model_name=\"llama-3.3-70b-versatile\"\n",
    ")\"\"\"\n"
   ]
  },
  {
   "cell_type": "code",
   "execution_count": 13,
   "metadata": {},
   "outputs": [],
   "source": [
    "llm = OllamaLLM(model = \"deepseek-r1:7b\")"
   ]
  },
  {
   "cell_type": "code",
   "execution_count": 8,
   "metadata": {},
   "outputs": [],
   "source": [
    "all_documents = []\n",
    "for pdf_file in pdf_files:\n",
    "    loader = PyPDFLoader(pdf_file)\n",
    "    all_documents.extend(loader.load())\n",
    "text_splitter = CharacterTextSplitter(chunk_size=1000, chunk_overlap=200)\n",
    "texts = text_splitter.split_documents(all_documents) "
   ]
  },
  {
   "cell_type": "code",
   "execution_count": 9,
   "metadata": {},
   "outputs": [],
   "source": [
    "vectorstore = FAISS.from_documents(texts, embeddings)\n",
    "\n",
    "retriever = vectorstore.as_retriever()"
   ]
  },
  {
   "cell_type": "code",
   "execution_count": 14,
   "metadata": {},
   "outputs": [],
   "source": [
    "retrieval_qa_chain = RetrievalQA.from_chain_type(\n",
    "    llm=llm,\n",
    "    retriever=retriever,\n",
    "    return_source_documents=True, \n",
    "    chain_type=\"stuff\" \n",
    ")"
   ]
  },
  {
   "cell_type": "code",
   "execution_count": 15,
   "metadata": {},
   "outputs": [],
   "source": [
    "query = input()\n",
    "response = retrieval_qa_chain(query)"
   ]
  },
  {
   "cell_type": "code",
   "execution_count": 16,
   "metadata": {},
   "outputs": [
    {
     "name": "stdout",
     "output_type": "stream",
     "text": [
      "Response: <think>\n",
      "Okay, so I need to figure out what the four Hogwarts houses are. From the given context, there's a chapter called \"Seven\" where Professor McGonagall explains that there are four houses: Gryffindor, Hufflepuff, Ravenclaw, and Slytherin. Each house has its own history and is associated with different noble families. The sorting process happens at the start of term, and each student goes into a house based on their personality traits.\n",
      "\n",
      "In another passage, there's mention of thehog’s head pub where they meet before going to Hogwarts. Then in \"M oody, Prongs, and Remus,\" it talks about the Marauder's Map with names like Padfoot (Sirius), Wormtail (Peter), and Prongs (James). These are probably references to their animal forms.\n",
      "\n",
      "Looking at chapter twenty-five, they go to Hogsmeade and the Hog’s Head pub. Dumbledore mentions guiding Harry through a squeeze tube, which isn't directly related to the houses but shows the rigorous testing process for entering Hogwarts.\n",
      "\n",
      "Putting it all together, the four houses must be Gryffindor, Hufflepuff, Ravenclaw, and Slytherin as they are explicitly named in the seventh chapter. The other passages talk about student traits or activities but don't mention changing house names beyond that.\n",
      "</think>\n",
      "\n",
      "The four Hogwarts houses are:\n",
      "\n",
      "1. **Gryffindor**: Known for its loyal and strict traditions, associated with the Weasleys.\n",
      "2. **Hufflepuff**: Represents bravery and kindness, linked to the Hufflepuffs.\n",
      "3. **Ravenclaw**: Symbolizes intelligence and humility, connected with the Ravenclaws.\n",
      "4. **Slytherin**: Often depicted as cunning and ambitious, associated with the Slytherins.\n",
      "\n",
      "These houses are introduced in Chapter 7 when Professor McGonagall explains their existence during the sorting process at the start of term. The other passages provide context about student activities but do not alter or expand upon these established house names.\n",
      "\n",
      "Source Documents:\n",
      "- CHAPTER  SEVEN \n",
      " 114  \n",
      "rather closer together than they would usually have done, peering \n",
      "about nervously. \n",
      "“Welcome to Hogwarts,” said  Professor McGonagall. “The \n",
      "start-of-term banquet will begin shortly, but before you take your \n",
      "seats in the Great Hall, you will be sorted into your Houses. The \n",
      "Sorting is a very important ceremo ny because, while you are here, \n",
      "your House will be something like  your family within Hogwarts. \n",
      "You will have classes wi th the rest of your House, sleep in your \n",
      "House dormitory, and spend free time in your House common \n",
      "room. \n",
      "“The four Houses are called G ryffindor, Hufflepuff, Ravenclaw, \n",
      "and Slytherin. Each House has its own noble history and each has \n",
      "produced outstanding witches and wizards. While you are at Hog-\n",
      "warts, your triumphs will earn yo ur House points, while any rule-\n",
      "breaking will lose House points. At the end of the year, the House \n",
      "with the most points is awarded the House cup, a great honor. I \n",
      "hope each of you will be a credit to whichever House becomes \n",
      "yours. \n",
      "“The Sorting Ceremony will take place in a few minutes in front \n",
      "of the rest of the school. I suggest  you all smarten yourselves up as \n",
      "much as you can while you are waiting.” \n",
      "Her eyes lingered for a moment on Neville’s cloak, which was \n",
      "fastened under his left ear, and on Ron’s smudged nose. Harry ner-\n",
      "vously tried to flatten his hair. \n",
      "“I shall return when we are read y for you,” said Professor Mc-\n",
      "Gonagall. “Please wait quietly.” \n",
      "She left the chamber. Harry swallowed. \n",
      "“How exactly do they sort us into Houses?” he asked Ron.\n",
      "- IN  THE  HOG’S  HEAD \n",
      " 335  \n",
      "boars and turned left onto the road  into the village, the wind whip-\n",
      "ping their hair into their eyes. \n",
      "“Malfoy?” said Hermione, very skeptically. “Well . . . yes . . . \n",
      "maybe . . .” \n",
      "And she remained deep in thought all the way into the outskirts of \n",
      "Hogsmeade. \n",
      "“Where are we going anyway?” Harry asked. “The Three Broom-\n",
      "sticks?” \n",
      "“Oh — no,” said Hermione, coming out of her reverie, “no, it’s al-\n",
      "w a y s  p a c k e d  a n d  r e a l l y  n o i s y .  I ’ v e  t o l d  t h e  o t h e r s  t o  m e e t  u s  i n  t h e  \n",
      "Hog’s Head, that other pub, you know  the one, it’s not on the main \n",
      "road. I think it’s a bit . . . you know . . . dodgy . . . but students don’t \n",
      "normally go in there, so I don ’t think we’ll be overheard.” \n",
      "They walked down the main street past Zonko’s Joke Shop, where \n",
      "they were unsurprised to see Fred, George, and Lee Jordan, past the \n",
      "post office, from which owls issued at regular intervals, and turned up \n",
      "a side street at the top of which stood a small inn. A battered wooden \n",
      "sign hung from a rusty bracket over the door, with a picture upon it of \n",
      "a wild boar’s severed head leaking blood onto the white cloth around \n",
      "it. The sign creaked in the wind as they approached. All three of them \n",
      "hesitated outside the door. \n",
      "“Well, come on,” said Hermione slightly nervously. Harry led the \n",
      "way inside. \n",
      "It was not at all like the Three Broomsticks, whose large bar gave an \n",
      "impression of gleaming warmth an d cleanliness. The Hog’s Head bar \n",
      "comprised one small, dingy, and very dirty room that smelled strongly \n",
      "of something that might have been  goats. The bay windows were so \n",
      "encrusted with grime that very lit tle daylight could permeate the \n",
      "room, which was lit instead with the stubs of candles sitting on rough \n",
      "wooden tables. The floor seemed at first glance to be earthy, though as \n",
      "Harry stepped onto it he realized that there was stone beneath what \n",
      "seemed to be the accumulated filth of centuries.\n",
      "- MOODY,  WORMTAIL, PADFOOT,  AND  PRONGS \n",
      " 355  \n",
      "me. Under their influence, I beca me less dangerous. My body was \n",
      "still wolfish, but my mind seemed  to become less so while I was \n",
      "with them.” \n",
      "“Hurry up, Remus,” snarled Black, who was still watching Scab-\n",
      "bers with a horrible sort of hunger on his face. \n",
      "“I’m getting there, Sirius, I’m ge tting there . . . well, highly ex-\n",
      "citing possibilities were open to us  now that we could all transform. \n",
      "Soon we were leaving the Shriek ing Shack and roaming the school \n",
      "grounds and the village by night. Sirius and James transformed into \n",
      "such large animals, they were able to keep a werewolf in check. \n",
      "I doubt whether any Hogwarts stud ents ever found out more about \n",
      "the Hogwarts grounds and Hogsmeade than we did. . . . And that’s \n",
      "how we came to write the Marauder ’ s  M a p ,  a n d  s i g n  i t  w i t h  o u r  \n",
      "nicknames. Sirius is Padfoot. Pete r is Wormtail. James was Prongs.” \n",
      "“What sort of animal — ?” Harry began, but Hermione cut him \n",
      "off. \n",
      "“That was still really dangerous!  Running around in the dark \n",
      "with a werewolf! What if you’d given the others the slip, and bitten \n",
      "somebody?” \n",
      "“A thought that still haunts me,” said Lupin heavily. “And there \n",
      "w e r e  n e a r  m i s s e s ,  m a n y  o f  t h e m .  W e  l a u g h e d  a b o u t  t h e m  a f t e r -\n",
      "wards. We were young, thoughtl ess — carried away with our own \n",
      "cleverness.” \n",
      "“I sometimes felt guilty about be traying Dumbledore’s trust, of \n",
      "course . . . he had admitted me to Hogwarts when no other head-\n",
      "master would have done so, and he had no idea I was breaking the \n",
      "rules he had set down for my own and others’ safety. He never \n",
      "knew I had led three fellow student s into becoming Animagi ille-\n",
      "gally. But I always managed to forget my guilty feelings every time\n",
      "- CHAPTER  TWENTY-FIVE \n",
      " 554  \n",
      "They turned out of the gates into the twilit, deserted lane to \n",
      "Hogsmeade. Darkness descended fast  as they walked, and by the \n",
      "time they reached the High Street  night was falling in earnest. \n",
      "Lights twinkled from windows ov er shops and as they neared the \n",
      "Three Broomsticks they heard raucous shouting. \n",
      "“— and stay out!” shouted Madam Rosmerta, forcibly ejecting a \n",
      "grubby-looking wizard. “O h, hello, Albus . . . Yo u’re out late . . .” \n",
      "“Good evening, Rosmerta, good evening . . . forgive me, I’m off \n",
      "to the Hog’s Head. . . . No offense,  but I feel like a quieter atmo-\n",
      "sphere tonight. . . .” \n",
      "A minute later they turned the co rner into the side street where \n",
      "the Hog’s Head’s sign creaked a li ttle, though there was no breeze. \n",
      "In contrast to the Three Broomstic ks, the pub appeared to be com-\n",
      "pletely empty. \n",
      "“It will not be necessary for us to enter,” muttered Dumbledore, \n",
      "glancing around. “As long as nobody  sees us go . . . now place your \n",
      "hand upon my arm, Harry. There is no need to grip too hard, I am \n",
      "merely guiding you. On the count of three . . . One . . . two . . . \n",
      "three . . .” \n",
      "Harry turned. At once, there was th at horrible sensation that he \n",
      "was being squeezed through a thick rubber tube; he could not draw \n",
      "breath, every part of him was be ing compressed almost past en-\n",
      "durance and then, just when he thought he must suffocate, the in-\n",
      "visible bands seemed to burst open, and he was stan ding in cool \n",
      "darkness, breathing in lungfuls of fresh, salty air.\n"
     ]
    }
   ],
   "source": [
    "print(\"Response:\", response[\"result\"])\n",
    "print(\"\\nSource Documents:\")\n",
    "for doc in response[\"source_documents\"]:\n",
    "    print(\"-\", doc.page_content)"
   ]
  },
  {
   "cell_type": "code",
   "execution_count": null,
   "metadata": {},
   "outputs": [],
   "source": []
  }
 ],
 "metadata": {
  "kernelspec": {
   "display_name": "Python 3",
   "language": "python",
   "name": "python3"
  },
  "language_info": {
   "codemirror_mode": {
    "name": "ipython",
    "version": 3
   },
   "file_extension": ".py",
   "mimetype": "text/x-python",
   "name": "python",
   "nbconvert_exporter": "python",
   "pygments_lexer": "ipython3",
   "version": "3.11.8"
  }
 },
 "nbformat": 4,
 "nbformat_minor": 2
}
