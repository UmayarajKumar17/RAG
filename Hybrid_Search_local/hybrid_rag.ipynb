{
 "cells": [
  {
   "cell_type": "code",
   "execution_count": 8,
   "metadata": {},
   "outputs": [],
   "source": [
    "from langchain.document_loaders import UnstructuredPDFLoader\n",
    "from langchain.text_splitter import RecursiveCharacterTextSplitter\n",
    "from langchain.vectorstores import Chroma\n",
    "from langchain.embeddings import HuggingFaceEmbeddings\n",
    "from langchain.llms import HuggingFaceHub\n",
    "from langchain.document_loaders import PyPDFLoader, DirectoryLoader\n",
    "import torch\n",
    "from transformers import ( AutoModelForCausalLM, AutoTokenizer, BitsAndBytesConfig, pipeline, )\n",
    "from langchain import HuggingFacePipeline\n",
    "from langchain.retrievers import BM25Retriever, EnsembleRetriever\n",
    "import os"
   ]
  },
  {
   "cell_type": "code",
   "execution_count": 5,
   "metadata": {},
   "outputs": [],
   "source": [
    "loader = DirectoryLoader(r\"D:\\groq\\hybrids\\hyb\\data\",\n",
    "                    glob=\"*.pdf\",\n",
    "                    loader_cls=PyPDFLoader)\n",
    "\n",
    "documents = loader.load()"
   ]
  },
  {
   "cell_type": "code",
   "execution_count": 6,
   "metadata": {},
   "outputs": [],
   "source": [
    "text_splitter = RecursiveCharacterTextSplitter(chunk_size = 500, chunk_overlap = 20)\n",
    "text_chunks = text_splitter.split_documents(documents)"
   ]
  },
  {
   "cell_type": "code",
   "execution_count": 9,
   "metadata": {},
   "outputs": [
    {
     "name": "stderr",
     "output_type": "stream",
     "text": [
      "C:\\Users\\UMAYARAJ KUMAR\\AppData\\Local\\Temp\\ipykernel_44088\\3409896792.py:1: LangChainDeprecationWarning: The class `HuggingFaceEmbeddings` was deprecated in LangChain 0.2.2 and will be removed in 1.0. An updated version of the class exists in the :class:`~langchain-huggingface package and should be used instead. To use it run `pip install -U :class:`~langchain-huggingface` and import as `from :class:`~langchain_huggingface import HuggingFaceEmbeddings``.\n",
      "  embeddings = HuggingFaceEmbeddings(model_name=\"sentence-transformers/all-MiniLM-L6-v2\")\n"
     ]
    }
   ],
   "source": [
    "embeddings = HuggingFaceEmbeddings(model_name=\"sentence-transformers/all-MiniLM-L6-v2\")"
   ]
  },
  {
   "cell_type": "code",
   "execution_count": 10,
   "metadata": {},
   "outputs": [],
   "source": [
    "vectorstore = Chroma.from_documents(text_chunks, embeddings)"
   ]
  },
  {
   "cell_type": "code",
   "execution_count": 12,
   "metadata": {},
   "outputs": [],
   "source": [
    "vectorstore_retreiver = vectorstore.as_retriever(search_kwargs={\"k\": 3})\n",
    "keyword_retriever = BM25Retriever.from_documents(text_chunks)\n",
    "keyword_retriever.k =  3"
   ]
  },
  {
   "cell_type": "code",
   "execution_count": 13,
   "metadata": {},
   "outputs": [],
   "source": [
    "ensemble_retriever = EnsembleRetriever(retrievers=[vectorstore_retreiver,\n",
    "                                                   keyword_retriever],\n",
    "                                       weights=[0.3, 0.7])"
   ]
  },
  {
   "cell_type": "code",
   "execution_count": 19,
   "metadata": {},
   "outputs": [],
   "source": [
    "from langchain_ollama import OllamaLLM\n",
    "llm = OllamaLLM(model = \"deepseek-r1:7b\")\n"
   ]
  },
  {
   "cell_type": "code",
   "execution_count": 20,
   "metadata": {},
   "outputs": [],
   "source": [
    "from langchain.chains import RetrievalQA\n",
    "\n",
    "normal_chain = RetrievalQA.from_chain_type(\n",
    "    llm=llm, chain_type=\"stuff\", retriever=vectorstore_retreiver\n",
    ")\n",
    "\n",
    "hybrid_chain = RetrievalQA.from_chain_type(\n",
    "    llm=llm, chain_type=\"stuff\", retriever=ensemble_retriever\n",
    ")\n",
    "response = normal_chain.invoke(\"Who is Harry Potter\")"
   ]
  },
  {
   "cell_type": "code",
   "execution_count": 21,
   "metadata": {},
   "outputs": [
    {
     "name": "stdout",
     "output_type": "stream",
     "text": [
      "Response: <think>\n",
      "Okay, so I need to figure out who Harry Potter is based on the context provided. Let me read through the text carefully. \n",
      "\n",
      "The first paragraph mentions that \"HARRY POTTER and all related characters and elements are trademarks of Warner Bros.\" That tells me that Harry Potter is a character owned by Warner Bros., probably from a book or movie series.\n",
      "\n",
      "Looking further down, there's a section titled \"Harry Potter And the Sorcerer’s Stone\" followed by some information about not being able to reproduce parts of the publication without permission. But this doesn't directly tell me who Harry Potter is; it just mentions a specific book in the series and copyright info.\n",
      "\n",
      "The helpful answer provided says, \"Harry Potter is one of the main characters from J.K. Rowling's 'Harry Potter' book series.\" That makes sense because I know that J.K. Rowling wrote the original books about Harry and his adventures with other characters like Hermione and Ron.\n",
      "\n",
      "Wait, but in the context given, there isn't any mention of J.K. Rowling directly. The context starts with Warner Bros. trademarks and some publication rights info. So maybe the answer expects me to infer who the author is based on the series name? \n",
      "\n",
      "In that case, I know that \"Harry Potter\" refers to a series written by J.K. Rowling. So, Harry is one of the main characters created by her in her 'Harry Potter' books.\n",
      "\n",
      "I should make sure there's no other way to interpret this from the context given. The only mention of Harry Potter is as a character owned by Warner Bros., but without additional info, I can conclude that he's part of J.K. Rowling's series.\n",
      "</think>\n",
      "\n",
      "Harry Potter is one of the main characters in J.K. Rowling's \"Harry Potter\" book series. He is a young wizard who embarks on an extraordinary adventure alongside his friends Hermione Granger and Ron Weasley, seeking to end Voldemort's dark rule.\n"
     ]
    }
   ],
   "source": [
    "print(\"Response:\", response[\"result\"])"
   ]
  },
  {
   "cell_type": "code",
   "execution_count": 22,
   "metadata": {},
   "outputs": [],
   "source": [
    "from langchain.chains import RetrievalQA\n",
    "\n",
    "normal_chain = RetrievalQA.from_chain_type(\n",
    "    llm=llm, chain_type=\"stuff\", retriever=vectorstore_retreiver\n",
    ")\n",
    "\n",
    "hybrid_chain = RetrievalQA.from_chain_type(\n",
    "    llm=llm, chain_type=\"stuff\", retriever=ensemble_retriever\n",
    ")\n",
    "respons = hybrid_chain.invoke(\"Who is Harry Potter\")"
   ]
  },
  {
   "cell_type": "code",
   "execution_count": 23,
   "metadata": {},
   "outputs": [
    {
     "name": "stdout",
     "output_type": "stream",
     "text": [
      "Response: <think>\n",
      "Okay, so I need to figure out who Harry Potter is based on the context provided. Let's start by looking at the text snippets given. \n",
      "\n",
      "First, there are two identical sections with \"THE ROGUE BLUDGER\" and details about a conversation between Harry and Dobby. It mentions that someone opened a water jug, and Harry refuses to go home because his friend is Muggle-born and might be first in line if the Chamber has been opened. Dobby tries to reassure him but says Harry risks his own life for his friends.\n",
      "\n",
      "Next, there are lists of books written by J.K. Rowling, each corresponding to a year at Hogwarts: Year One through Year Seven. These are from \"Harry Potter and the...\" series.\n",
      "\n",
      "Then, it mentions that \"Harry Potter\" is a trademark of Warner Bros., so I shouldn't copy any content without permission.\n",
      "\n",
      "Looking back at the helpful answer provided earlier, it correctly identifies Harry Potter as the main character. But since I need to simulate thinking through this, let me go step by step.\n",
      "\n",
      "I know from previous knowledge that Harry Potter is a famous fictional character created by J.K. Rowling. He's a wizard who attends Hogwarts School of Witchcraft and Wizardry. The books establish his story from Year One onwards until he turns 18 in the seventh book.\n",
      "\n",
      "In the context given, there are mentions of events related to Harry attending Hogwarts each year, such as \"Year One at Hogwarts\" up to \"Year Seven.\" This implies that the main character is indeed Harry Potter, who goes through each year of his education.\n",
      "\n",
      "The conversation with Dobby suggests that Harry's life is in danger because someone might be entering the Chamber, which could relate to a dark wizard or magical threat. Harry's decision to stay puts him at risk, indicating he's a key figure in the series.\n",
      "\n",
      "Since there are no contradictions in the provided text, and it all fits together as part of the Harry Potter series, I can confidently say that Harry Potter is the protagonist who attends Hogwarts each year, facing various adventures and challenges throughout his seven years.\n",
      "</think>\n",
      "\n",
      "Harry Potter is the main character in J.K. Rowling's \"Harry Potter\" series. He is a student at Hogwarts School of Witchcraft and Wizardry, attending each year from Year One through Year Seven as he turns 18 in the seventh book. His story involves various adventures and challenges throughout his education.\n"
     ]
    }
   ],
   "source": [
    "print(\"Response:\", respons[\"result\"])"
   ]
  }
 ],
 "metadata": {
  "kernelspec": {
   "display_name": "Python 3",
   "language": "python",
   "name": "python3"
  },
  "language_info": {
   "codemirror_mode": {
    "name": "ipython",
    "version": 3
   },
   "file_extension": ".py",
   "mimetype": "text/x-python",
   "name": "python",
   "nbconvert_exporter": "python",
   "pygments_lexer": "ipython3",
   "version": "3.11.8"
  }
 },
 "nbformat": 4,
 "nbformat_minor": 2
}
