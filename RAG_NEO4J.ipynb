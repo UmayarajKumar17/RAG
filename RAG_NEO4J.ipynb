{
  "nbformat": 4,
  "nbformat_minor": 0,
  "metadata": {
    "colab": {
      "provenance": []
    },
    "kernelspec": {
      "name": "python3",
      "display_name": "Python 3"
    },
    "language_info": {
      "name": "python"
    },
    "widgets": {
      "application/vnd.jupyter.widget-state+json": {
        "e2f3a1fddfb04ab7a4cd750bf21af6ed": {
          "model_module": "yfiles-jupyter-graphs",
          "model_name": "GraphModel",
          "model_module_version": "^1.10.1",
          "state": {
            "_context_pane_mapping": [
              {
                "id": "Neighborhood",
                "title": "Neighborhood"
              },
              {
                "id": "Data",
                "title": "Data"
              },
              {
                "id": "Search",
                "title": "Search"
              },
              {
                "id": "About",
                "title": "About"
              }
            ],
            "_data_importer": "neo4j",
            "_directed": true,
            "_dom_classes": [],
            "_edges": [
              {
                "id": 1152922604118474800,
                "start": 1,
                "end": 2,
                "properties": {
                  "label": "CREATED"
                },
                "color": "#673AB7",
                "thickness_factor": 1,
                "directed": true,
                "styles": {},
                "label": "CREATED"
              },
              {
                "id": 1152923703630102500,
                "start": 1,
                "end": 3,
                "properties": {
                  "label": "DEPICTS"
                },
                "color": "#CDDC39",
                "thickness_factor": 1,
                "directed": true,
                "styles": {},
                "label": "DEPICTS"
              },
              {
                "id": 1152924803141730300,
                "start": 1,
                "end": 4,
                "properties": {
                  "label": "OWNED"
                },
                "color": "#9E9E9E",
                "thickness_factor": 1,
                "directed": true,
                "styles": {},
                "label": "OWNED"
              },
              {
                "id": 1152925902653358000,
                "start": 1,
                "end": 5,
                "properties": {
                  "label": "STOLEN"
                },
                "color": "#9C27B0",
                "thickness_factor": 1,
                "directed": true,
                "styles": {},
                "label": "STOLEN"
              },
              {
                "id": 1152932499723124700,
                "start": 1,
                "end": 38,
                "properties": {
                  "label": "STARRING"
                },
                "color": "#2196F3",
                "thickness_factor": 1,
                "directed": true,
                "styles": {},
                "label": "STARRING"
              },
              {
                "id": 1152942395327774700,
                "start": 1,
                "end": 37,
                "properties": {
                  "label": "PRODUCED"
                },
                "color": "#4CAF50",
                "thickness_factor": 1,
                "directed": true,
                "styles": {},
                "label": "PRODUCED"
              },
              {
                "id": 1155194195141460000,
                "start": 1,
                "end": 39,
                "properties": {
                  "label": "PRODUCED"
                },
                "color": "#4CAF50",
                "thickness_factor": 1,
                "directed": true,
                "styles": {},
                "label": "PRODUCED"
              },
              {
                "id": 1157445994955145200,
                "start": 1,
                "end": 40,
                "properties": {
                  "label": "PRODUCED"
                },
                "color": "#4CAF50",
                "thickness_factor": 1,
                "directed": true,
                "styles": {},
                "label": "PRODUCED"
              },
              {
                "id": 1152927002164985900,
                "start": 7,
                "end": 3,
                "properties": {
                  "label": "PROFESSOR"
                },
                "color": "#F44336",
                "thickness_factor": 1,
                "directed": true,
                "styles": {},
                "label": "PROFESSOR"
              },
              {
                "id": 1152928101676613600,
                "start": 8,
                "end": 3,
                "properties": {
                  "label": "MARRIED_TO"
                },
                "color": "#607D8B",
                "thickness_factor": 1,
                "directed": true,
                "styles": {},
                "label": "MARRIED_TO"
              },
              {
                "id": 1152929201188241400,
                "start": 9,
                "end": 7,
                "properties": {
                  "label": "WROTE_ABOUT"
                },
                "color": "#673AB7",
                "thickness_factor": 1,
                "directed": true,
                "styles": {},
                "label": "WROTE_ABOUT"
              },
              {
                "id": 1152930300699869200,
                "start": 10,
                "end": 7,
                "properties": {
                  "label": "ASSISTANT"
                },
                "color": "#CDDC39",
                "thickness_factor": 1,
                "directed": true,
                "styles": {},
                "label": "ASSISTANT"
              },
              {
                "id": 1152929201188241400,
                "start": 11,
                "end": 7,
                "properties": {
                  "label": "WROTE_ABOUT"
                },
                "color": "#673AB7",
                "thickness_factor": 1,
                "directed": true,
                "styles": {},
                "label": "WROTE_ABOUT"
              },
              {
                "id": 1152931400211497000,
                "start": 12,
                "end": 7,
                "properties": {
                  "label": "COMPARED_TO"
                },
                "color": "#9E9E9E",
                "thickness_factor": 1,
                "directed": true,
                "styles": {},
                "label": "COMPARED_TO"
              },
              {
                "id": 1152932499723124700,
                "start": 14,
                "end": 15,
                "properties": {
                  "label": "STARRING"
                },
                "color": "#2196F3",
                "thickness_factor": 1,
                "directed": true,
                "styles": {},
                "label": "STARRING"
              },
              {
                "id": 1155184299536810000,
                "start": 14,
                "end": 16,
                "properties": {
                  "label": "STARRING"
                },
                "color": "#2196F3",
                "thickness_factor": 1,
                "directed": true,
                "styles": {},
                "label": "STARRING"
              },
              {
                "id": 1157436099350495200,
                "start": 14,
                "end": 17,
                "properties": {
                  "label": "STARRING"
                },
                "color": "#2196F3",
                "thickness_factor": 1,
                "directed": true,
                "styles": {},
                "label": "STARRING"
              },
              {
                "id": 1159687899164180500,
                "start": 14,
                "end": 18,
                "properties": {
                  "label": "STARRING"
                },
                "color": "#2196F3",
                "thickness_factor": 1,
                "directed": true,
                "styles": {},
                "label": "STARRING"
              },
              {
                "id": 1152933599234752500,
                "start": 14,
                "end": 2,
                "properties": {
                  "label": "INSPIRATION"
                },
                "color": "#9C27B0",
                "thickness_factor": 1,
                "directed": true,
                "styles": {},
                "label": "INSPIRATION"
              },
              {
                "id": 1155185399048437800,
                "start": 14,
                "end": 19,
                "properties": {
                  "label": "INSPIRATION"
                },
                "color": "#9C27B0",
                "thickness_factor": 1,
                "directed": true,
                "styles": {},
                "label": "INSPIRATION"
              },
              {
                "id": 1157437198862123000,
                "start": 14,
                "end": 20,
                "properties": {
                  "label": "INSPIRATION"
                },
                "color": "#9C27B0",
                "thickness_factor": 1,
                "directed": true,
                "styles": {},
                "label": "INSPIRATION"
              },
              {
                "id": 1152934698746380300,
                "start": 21,
                "end": 14,
                "properties": {
                  "label": "TEACHER"
                },
                "color": "#2196F3",
                "thickness_factor": 1,
                "directed": true,
                "styles": {},
                "label": "TEACHER"
              },
              {
                "id": 1152935798258008000,
                "start": 22,
                "end": 14,
                "properties": {
                  "label": "STUDENT"
                },
                "color": "#4CAF50",
                "thickness_factor": 1,
                "directed": true,
                "styles": {},
                "label": "STUDENT"
              },
              {
                "id": 1152935798258008000,
                "start": 23,
                "end": 14,
                "properties": {
                  "label": "STUDENT"
                },
                "color": "#4CAF50",
                "thickness_factor": 1,
                "directed": true,
                "styles": {},
                "label": "STUDENT"
              },
              {
                "id": 1152936897769635800,
                "start": 24,
                "end": 22,
                "properties": {
                  "label": "FIANCÉ"
                },
                "color": "#F44336",
                "thickness_factor": 1,
                "directed": true,
                "styles": {},
                "label": "FIANCÉ"
              },
              {
                "id": 1152937997281263600,
                "start": 25,
                "end": 26,
                "properties": {
                  "label": "ROMANTIC_PARTNER"
                },
                "color": "#607D8B",
                "thickness_factor": 1,
                "directed": true,
                "styles": {},
                "label": "ROMANTIC_PARTNER"
              },
              {
                "id": 6919797320129184000,
                "start": 26,
                "end": 25,
                "properties": {
                  "label": "ROMANTIC_PARTNER"
                },
                "color": "#607D8B",
                "thickness_factor": 1,
                "directed": true,
                "styles": {},
                "label": "ROMANTIC_PARTNER"
              },
              {
                "id": 6917543321292243000,
                "start": 28,
                "end": 29,
                "properties": {
                  "label": "STUDENT"
                },
                "color": "#4CAF50",
                "thickness_factor": 1,
                "directed": true,
                "styles": {},
                "label": "STUDENT"
              },
              {
                "id": 1152939096792891400,
                "start": 28,
                "end": 31,
                "properties": {
                  "label": "FRIEND"
                },
                "color": "#673AB7",
                "thickness_factor": 1,
                "directed": true,
                "styles": {},
                "label": "FRIEND"
              },
              {
                "id": 1152940196304519200,
                "start": 28,
                "end": 32,
                "properties": {
                  "label": "SPOUSE"
                },
                "color": "#CDDC39",
                "thickness_factor": 1,
                "directed": true,
                "styles": {},
                "label": "SPOUSE"
              },
              {
                "id": 1152941295816147000,
                "start": 31,
                "end": 34,
                "properties": {
                  "label": "LOVER"
                },
                "color": "#9E9E9E",
                "thickness_factor": 1,
                "directed": true,
                "styles": {},
                "label": "LOVER"
              },
              {
                "id": 1152941295816147000,
                "start": 33,
                "end": 34,
                "properties": {
                  "label": "LOVER"
                },
                "color": "#9E9E9E",
                "thickness_factor": 1,
                "directed": true,
                "styles": {},
                "label": "LOVER"
              },
              {
                "id": 1152940196304519200,
                "start": 35,
                "end": 24,
                "properties": {
                  "label": "SPOUSE"
                },
                "color": "#CDDC39",
                "thickness_factor": 1,
                "directed": true,
                "styles": {},
                "label": "SPOUSE"
              },
              {
                "id": 1152939096792891400,
                "start": 37,
                "end": 38,
                "properties": {
                  "label": "FRIEND"
                },
                "color": "#673AB7",
                "thickness_factor": 1,
                "directed": true,
                "styles": {},
                "label": "FRIEND"
              },
              {
                "id": 1155190896606576600,
                "start": 37,
                "end": 43,
                "properties": {
                  "label": "FRIEND"
                },
                "color": "#673AB7",
                "thickness_factor": 1,
                "directed": true,
                "styles": {},
                "label": "FRIEND"
              },
              {
                "id": 1152943494839402500,
                "start": 37,
                "end": 41,
                "properties": {
                  "label": "PARENT"
                },
                "color": "#9C27B0",
                "thickness_factor": 1,
                "directed": true,
                "styles": {},
                "label": "PARENT"
              },
              {
                "id": 1152939096792891400,
                "start": 38,
                "end": 42,
                "properties": {
                  "label": "FRIEND"
                },
                "color": "#673AB7",
                "thickness_factor": 1,
                "directed": true,
                "styles": {},
                "label": "FRIEND"
              },
              {
                "id": 1152944594351030300,
                "start": 45,
                "end": 41,
                "properties": {
                  "label": "SPENDS_TIME_WITH"
                },
                "color": "#2196F3",
                "thickness_factor": 1,
                "directed": true,
                "styles": {},
                "label": "SPENDS_TIME_WITH"
              },
              {
                "id": 1152945693862658000,
                "start": 45,
                "end": 43,
                "properties": {
                  "label": "WORKS_FOR"
                },
                "color": "#4CAF50",
                "thickness_factor": 1,
                "directed": true,
                "styles": {},
                "label": "WORKS_FOR"
              }
            ],
            "_graph_layout": {},
            "_highlight": [],
            "_license": {},
            "_model_module": "yfiles-jupyter-graphs",
            "_model_module_version": "^1.10.1",
            "_model_name": "GraphModel",
            "_neighborhood": {},
            "_nodes": [
              {
                "id": 1,
                "properties": {
                  "id": "Mona Lisa",
                  "label": "__Entity__:Film:Person"
                },
                "color": "#2196F3",
                "styles": {},
                "label": "Mona Lisa",
                "scale_factor": 1,
                "type": "#2196F3",
                "size": [
                  55,
                  55
                ],
                "position": [
                  0,
                  0
                ]
              },
              {
                "id": 2,
                "properties": {
                  "id": "Leonardo Da Vinci",
                  "label": "__Entity__:Person"
                },
                "color": "#4CAF50",
                "styles": {},
                "label": "Leonardo Da Vinci",
                "scale_factor": 1,
                "type": "#4CAF50",
                "size": [
                  55,
                  55
                ],
                "position": [
                  0,
                  0
                ]
              },
              {
                "id": 3,
                "properties": {
                  "id": "Lisa Del Giocondo",
                  "label": "__Entity__:Person"
                },
                "color": "#4CAF50",
                "styles": {},
                "label": "Lisa Del Giocondo",
                "scale_factor": 1,
                "type": "#4CAF50",
                "size": [
                  55,
                  55
                ],
                "position": [
                  0,
                  0
                ]
              },
              {
                "id": 4,
                "properties": {
                  "id": "King Francis I Of France",
                  "label": "__Entity__:Person"
                },
                "color": "#4CAF50",
                "styles": {},
                "label": "King Francis I Of France",
                "scale_factor": 1,
                "type": "#4CAF50",
                "size": [
                  55,
                  55
                ],
                "position": [
                  0,
                  0
                ]
              },
              {
                "id": 5,
                "properties": {
                  "id": "Vincenzo Peruggia",
                  "label": "__Entity__:Person"
                },
                "color": "#4CAF50",
                "styles": {},
                "label": "Vincenzo Peruggia",
                "scale_factor": 1,
                "type": "#4CAF50",
                "size": [
                  55,
                  55
                ],
                "position": [
                  0,
                  0
                ]
              },
              {
                "id": 38,
                "properties": {
                  "id": "Simone",
                  "label": "__Entity__:Person"
                },
                "color": "#4CAF50",
                "styles": {},
                "label": "Simone",
                "scale_factor": 1,
                "type": "#4CAF50",
                "size": [
                  55,
                  55
                ],
                "position": [
                  0,
                  0
                ]
              },
              {
                "id": 37,
                "properties": {
                  "id": "George",
                  "label": "__Entity__:Person"
                },
                "color": "#4CAF50",
                "styles": {},
                "label": "George",
                "scale_factor": 1,
                "type": "#4CAF50",
                "size": [
                  55,
                  55
                ],
                "position": [
                  0,
                  0
                ]
              },
              {
                "id": 39,
                "properties": {
                  "id": "Denny Mortwell",
                  "label": "__Entity__:Person"
                },
                "color": "#4CAF50",
                "styles": {},
                "label": "Denny Mortwell",
                "scale_factor": 1,
                "type": "#4CAF50",
                "size": [
                  55,
                  55
                ],
                "position": [
                  0,
                  0
                ]
              },
              {
                "id": 40,
                "properties": {
                  "id": "Anderson",
                  "label": "__Entity__:Person"
                },
                "color": "#4CAF50",
                "styles": {},
                "label": "Anderson",
                "scale_factor": 1,
                "type": "#4CAF50",
                "size": [
                  55,
                  55
                ],
                "position": [
                  0,
                  0
                ]
              },
              {
                "id": 7,
                "properties": {
                  "id": "Leonardo",
                  "label": "__Entity__:Person"
                },
                "color": "#4CAF50",
                "styles": {},
                "label": "Leonardo",
                "scale_factor": 1,
                "type": "#4CAF50",
                "size": [
                  55,
                  55
                ],
                "position": [
                  0,
                  0
                ]
              },
              {
                "id": 8,
                "properties": {
                  "id": "Francesco Del Giocondo",
                  "label": "__Entity__:Person"
                },
                "color": "#4CAF50",
                "styles": {},
                "label": "Francesco Del Giocondo",
                "scale_factor": 1,
                "type": "#4CAF50",
                "size": [
                  55,
                  55
                ],
                "position": [
                  0,
                  0
                ]
              },
              {
                "id": 9,
                "properties": {
                  "id": "Giorgio Vasari",
                  "label": "__Entity__:Person"
                },
                "color": "#4CAF50",
                "styles": {},
                "label": "Giorgio Vasari",
                "scale_factor": 1,
                "type": "#4CAF50",
                "size": [
                  55,
                  55
                ],
                "position": [
                  0,
                  0
                ]
              },
              {
                "id": 10,
                "properties": {
                  "id": "Salaì",
                  "label": "__Entity__:Person"
                },
                "color": "#4CAF50",
                "styles": {},
                "label": "Salaì",
                "scale_factor": 1,
                "type": "#4CAF50",
                "size": [
                  55,
                  55
                ],
                "position": [
                  0,
                  0
                ]
              },
              {
                "id": 11,
                "properties": {
                  "id": "Agostino Vespucci",
                  "label": "__Entity__:Person"
                },
                "color": "#4CAF50",
                "styles": {},
                "label": "Agostino Vespucci",
                "scale_factor": 1,
                "type": "#4CAF50",
                "size": [
                  55,
                  55
                ],
                "position": [
                  0,
                  0
                ]
              },
              {
                "id": 12,
                "properties": {
                  "id": "Apelles",
                  "label": "__Entity__:Person"
                },
                "color": "#4CAF50",
                "styles": {},
                "label": "Apelles",
                "scale_factor": 1,
                "type": "#4CAF50",
                "size": [
                  55,
                  55
                ],
                "position": [
                  0,
                  0
                ]
              },
              {
                "id": 14,
                "properties": {
                  "id": "Mona Lisa Smile",
                  "label": "Movie:__Entity__"
                },
                "color": "#F44336",
                "styles": {},
                "label": "Mona Lisa Smile",
                "scale_factor": 1,
                "type": "#F44336",
                "size": [
                  55,
                  55
                ],
                "position": [
                  0,
                  0
                ]
              },
              {
                "id": 15,
                "properties": {
                  "id": "Julia Roberts",
                  "label": "__Entity__:Person"
                },
                "color": "#4CAF50",
                "styles": {},
                "label": "Julia Roberts",
                "scale_factor": 1,
                "type": "#4CAF50",
                "size": [
                  55,
                  55
                ],
                "position": [
                  0,
                  0
                ]
              },
              {
                "id": 16,
                "properties": {
                  "id": "Kirsten Dunst",
                  "label": "__Entity__:Person"
                },
                "color": "#4CAF50",
                "styles": {},
                "label": "Kirsten Dunst",
                "scale_factor": 1,
                "type": "#4CAF50",
                "size": [
                  55,
                  55
                ],
                "position": [
                  0,
                  0
                ]
              },
              {
                "id": 17,
                "properties": {
                  "id": "Julia Stiles",
                  "label": "__Entity__:Person"
                },
                "color": "#4CAF50",
                "styles": {},
                "label": "Julia Stiles",
                "scale_factor": 1,
                "type": "#4CAF50",
                "size": [
                  55,
                  55
                ],
                "position": [
                  0,
                  0
                ]
              },
              {
                "id": 18,
                "properties": {
                  "id": "Maggie Gyllenhaal",
                  "label": "__Entity__:Person"
                },
                "color": "#4CAF50",
                "styles": {},
                "label": "Maggie Gyllenhaal",
                "scale_factor": 1,
                "type": "#4CAF50",
                "size": [
                  55,
                  55
                ],
                "position": [
                  0,
                  0
                ]
              },
              {
                "id": 19,
                "properties": {
                  "id": "Nat King Cole",
                  "label": "__Entity__:Person"
                },
                "color": "#4CAF50",
                "styles": {},
                "label": "Nat King Cole",
                "scale_factor": 1,
                "type": "#4CAF50",
                "size": [
                  55,
                  55
                ],
                "position": [
                  0,
                  0
                ]
              },
              {
                "id": 20,
                "properties": {
                  "id": "Seal",
                  "label": "__Entity__:Person"
                },
                "color": "#4CAF50",
                "styles": {},
                "label": "Seal",
                "scale_factor": 1,
                "type": "#4CAF50",
                "size": [
                  55,
                  55
                ],
                "position": [
                  0,
                  0
                ]
              },
              {
                "id": 21,
                "properties": {
                  "id": "Katherine Ann Watson",
                  "label": "__Entity__:Person"
                },
                "color": "#4CAF50",
                "styles": {},
                "label": "Katherine Ann Watson",
                "scale_factor": 1,
                "type": "#4CAF50",
                "size": [
                  55,
                  55
                ],
                "position": [
                  0,
                  0
                ]
              },
              {
                "id": 22,
                "properties": {
                  "id": "Betty Warren",
                  "label": "__Entity__:Person"
                },
                "color": "#4CAF50",
                "styles": {},
                "label": "Betty Warren",
                "scale_factor": 1,
                "type": "#4CAF50",
                "size": [
                  55,
                  55
                ],
                "position": [
                  0,
                  0
                ]
              },
              {
                "id": 23,
                "properties": {
                  "id": "Amanda Armstrong",
                  "label": "__Entity__:Person"
                },
                "color": "#4CAF50",
                "styles": {},
                "label": "Amanda Armstrong",
                "scale_factor": 1,
                "type": "#4CAF50",
                "size": [
                  55,
                  55
                ],
                "position": [
                  0,
                  0
                ]
              },
              {
                "id": 24,
                "properties": {
                  "id": "Spencer",
                  "label": "__Entity__:Person"
                },
                "color": "#4CAF50",
                "styles": {},
                "label": "Spencer",
                "scale_factor": 1,
                "type": "#4CAF50",
                "size": [
                  55,
                  55
                ],
                "position": [
                  0,
                  0
                ]
              },
              {
                "id": 25,
                "properties": {
                  "id": "Connie Baker",
                  "label": "__Entity__:Person"
                },
                "color": "#4CAF50",
                "styles": {},
                "label": "Connie Baker",
                "scale_factor": 1,
                "type": "#4CAF50",
                "size": [
                  55,
                  55
                ],
                "position": [
                  0,
                  0
                ]
              },
              {
                "id": 26,
                "properties": {
                  "id": "Charlie",
                  "label": "__Entity__:Person"
                },
                "color": "#4CAF50",
                "styles": {},
                "label": "Charlie",
                "scale_factor": 1,
                "type": "#4CAF50",
                "size": [
                  55,
                  55
                ],
                "position": [
                  0,
                  0
                ]
              },
              {
                "id": 28,
                "properties": {
                  "id": "Joan Brandwyn",
                  "label": "__Entity__:Person"
                },
                "color": "#4CAF50",
                "styles": {},
                "label": "Joan Brandwyn",
                "scale_factor": 1,
                "type": "#4CAF50",
                "size": [
                  55,
                  55
                ],
                "position": [
                  0,
                  0
                ]
              },
              {
                "id": 29,
                "properties": {
                  "id": "Yale Law School",
                  "label": "__Entity__"
                },
                "color": "#607D8B",
                "styles": {},
                "label": "Yale Law School",
                "scale_factor": 1,
                "type": "#607D8B",
                "size": [
                  55,
                  55
                ],
                "position": [
                  0,
                  0
                ]
              },
              {
                "id": 31,
                "properties": {
                  "id": "Katherine",
                  "label": "__Entity__:Person"
                },
                "color": "#4CAF50",
                "styles": {},
                "label": "Katherine",
                "scale_factor": 1,
                "type": "#4CAF50",
                "size": [
                  55,
                  55
                ],
                "position": [
                  0,
                  0
                ]
              },
              {
                "id": 32,
                "properties": {
                  "id": "Tom Donegal",
                  "label": "__Entity__:Person"
                },
                "color": "#4CAF50",
                "styles": {},
                "label": "Tom Donegal",
                "scale_factor": 1,
                "type": "#4CAF50",
                "size": [
                  55,
                  55
                ],
                "position": [
                  0,
                  0
                ]
              },
              {
                "id": 34,
                "properties": {
                  "id": "Bill Dunbar",
                  "label": "__Entity__:Person"
                },
                "color": "#4CAF50",
                "styles": {},
                "label": "Bill Dunbar",
                "scale_factor": 1,
                "type": "#4CAF50",
                "size": [
                  55,
                  55
                ],
                "position": [
                  0,
                  0
                ]
              },
              {
                "id": 33,
                "properties": {
                  "id": "Giselle Levy",
                  "label": "__Entity__:Person"
                },
                "color": "#4CAF50",
                "styles": {},
                "label": "Giselle Levy",
                "scale_factor": 1,
                "type": "#4CAF50",
                "size": [
                  55,
                  55
                ],
                "position": [
                  0,
                  0
                ]
              },
              {
                "id": 35,
                "properties": {
                  "id": "Betty",
                  "label": "__Entity__:Person"
                },
                "color": "#4CAF50",
                "styles": {},
                "label": "Betty",
                "scale_factor": 1,
                "type": "#4CAF50",
                "size": [
                  55,
                  55
                ],
                "position": [
                  0,
                  0
                ]
              },
              {
                "id": 43,
                "properties": {
                  "id": "Thomas",
                  "label": "__Entity__:Person"
                },
                "color": "#4CAF50",
                "styles": {},
                "label": "Thomas",
                "scale_factor": 1,
                "type": "#4CAF50",
                "size": [
                  55,
                  55
                ],
                "position": [
                  0,
                  0
                ]
              },
              {
                "id": 41,
                "properties": {
                  "id": "Jeannie",
                  "label": "__Entity__:Person"
                },
                "color": "#4CAF50",
                "styles": {},
                "label": "Jeannie",
                "scale_factor": 1,
                "type": "#4CAF50",
                "size": [
                  55,
                  55
                ],
                "position": [
                  0,
                  0
                ]
              },
              {
                "id": 42,
                "properties": {
                  "id": "Cathy",
                  "label": "__Entity__:Person"
                },
                "color": "#4CAF50",
                "styles": {},
                "label": "Cathy",
                "scale_factor": 1,
                "type": "#4CAF50",
                "size": [
                  55,
                  55
                ],
                "position": [
                  0,
                  0
                ]
              },
              {
                "id": 45,
                "properties": {
                  "id": "Bob Hoskins",
                  "label": "__Entity__:Person"
                },
                "color": "#4CAF50",
                "styles": {},
                "label": "Bob Hoskins",
                "scale_factor": 1,
                "type": "#4CAF50",
                "size": [
                  55,
                  55
                ],
                "position": [
                  0,
                  0
                ]
              }
            ],
            "_overview": {
              "enabled": null,
              "overview_set": false
            },
            "_selected_graph": [
              [],
              []
            ],
            "_sidebar": {
              "enabled": false,
              "start_with": null
            },
            "_view_count": null,
            "_view_module": "yfiles-jupyter-graphs",
            "_view_module_version": "^1.10.1",
            "_view_name": "GraphView",
            "layout": "IPY_MODEL_40cb878c7ffa468786665f0b3178d751",
            "tabbable": null,
            "tooltip": null
          }
        },
        "40cb878c7ffa468786665f0b3178d751": {
          "model_module": "@jupyter-widgets/base",
          "model_name": "LayoutModel",
          "model_module_version": "2.0.0",
          "state": {
            "_model_module": "@jupyter-widgets/base",
            "_model_module_version": "2.0.0",
            "_model_name": "LayoutModel",
            "_view_count": null,
            "_view_module": "@jupyter-widgets/base",
            "_view_module_version": "2.0.0",
            "_view_name": "LayoutView",
            "align_content": null,
            "align_items": null,
            "align_self": null,
            "border_bottom": null,
            "border_left": null,
            "border_right": null,
            "border_top": null,
            "bottom": null,
            "display": null,
            "flex": null,
            "flex_flow": null,
            "grid_area": null,
            "grid_auto_columns": null,
            "grid_auto_flow": null,
            "grid_auto_rows": null,
            "grid_column": null,
            "grid_gap": null,
            "grid_row": null,
            "grid_template_areas": null,
            "grid_template_columns": null,
            "grid_template_rows": null,
            "height": "800px",
            "justify_content": null,
            "justify_items": null,
            "left": null,
            "margin": null,
            "max_height": null,
            "max_width": null,
            "min_height": null,
            "min_width": null,
            "object_fit": null,
            "object_position": null,
            "order": null,
            "overflow": null,
            "padding": null,
            "right": null,
            "top": null,
            "visibility": null,
            "width": "100%"
          }
        },
        "ae05cfc1c915482bb19265208de85937": {
          "model_module": "@jupyter-widgets/base",
          "model_name": "LayoutModel",
          "model_module_version": "2.0.0",
          "state": {
            "_model_module": "@jupyter-widgets/base",
            "_model_module_version": "2.0.0",
            "_model_name": "LayoutModel",
            "_view_count": null,
            "_view_module": "@jupyter-widgets/base",
            "_view_module_version": "2.0.0",
            "_view_name": "LayoutView",
            "align_content": null,
            "align_items": null,
            "align_self": null,
            "border_bottom": null,
            "border_left": null,
            "border_right": null,
            "border_top": null,
            "bottom": null,
            "display": null,
            "flex": null,
            "flex_flow": null,
            "grid_area": null,
            "grid_auto_columns": null,
            "grid_auto_flow": null,
            "grid_auto_rows": null,
            "grid_column": null,
            "grid_gap": null,
            "grid_row": null,
            "grid_template_areas": null,
            "grid_template_columns": null,
            "grid_template_rows": null,
            "height": "800px",
            "justify_content": null,
            "justify_items": null,
            "left": null,
            "margin": null,
            "max_height": null,
            "max_width": null,
            "min_height": null,
            "min_width": null,
            "object_fit": null,
            "object_position": null,
            "order": null,
            "overflow": null,
            "padding": null,
            "right": null,
            "top": null,
            "visibility": null,
            "width": "100%"
          }
        },
        "c6eb287b5f424d3db61a5e3296d1803e": {
          "model_module": "@jupyter-widgets/controls",
          "model_name": "HBoxModel",
          "model_module_version": "2.0.0",
          "state": {
            "_dom_classes": [],
            "_model_module": "@jupyter-widgets/controls",
            "_model_module_version": "2.0.0",
            "_model_name": "HBoxModel",
            "_view_count": null,
            "_view_module": "@jupyter-widgets/controls",
            "_view_module_version": "2.0.0",
            "_view_name": "HBoxView",
            "box_style": "",
            "children": [
              "IPY_MODEL_fb155510b5af4f38b58b7d06f6cfb936",
              "IPY_MODEL_e4321872267a45df8ce5bed7dfc70bbc",
              "IPY_MODEL_f107030191184e90b99ebb350d0d581f"
            ],
            "layout": "IPY_MODEL_b0231f9a9b36428b936e39bc578c542d",
            "tabbable": null,
            "tooltip": null
          }
        },
        "fb155510b5af4f38b58b7d06f6cfb936": {
          "model_module": "@jupyter-widgets/controls",
          "model_name": "HTMLModel",
          "model_module_version": "2.0.0",
          "state": {
            "_dom_classes": [],
            "_model_module": "@jupyter-widgets/controls",
            "_model_module_version": "2.0.0",
            "_model_name": "HTMLModel",
            "_view_count": null,
            "_view_module": "@jupyter-widgets/controls",
            "_view_module_version": "2.0.0",
            "_view_name": "HTMLView",
            "description": "",
            "description_allow_html": false,
            "layout": "IPY_MODEL_790652d973614ff3837528fe5a24f585",
            "placeholder": "​",
            "style": "IPY_MODEL_735832f7927c42f5a69e863702f8734c",
            "tabbable": null,
            "tooltip": null,
            "value": "modules.json: 100%"
          }
        },
        "e4321872267a45df8ce5bed7dfc70bbc": {
          "model_module": "@jupyter-widgets/controls",
          "model_name": "FloatProgressModel",
          "model_module_version": "2.0.0",
          "state": {
            "_dom_classes": [],
            "_model_module": "@jupyter-widgets/controls",
            "_model_module_version": "2.0.0",
            "_model_name": "FloatProgressModel",
            "_view_count": null,
            "_view_module": "@jupyter-widgets/controls",
            "_view_module_version": "2.0.0",
            "_view_name": "ProgressView",
            "bar_style": "success",
            "description": "",
            "description_allow_html": false,
            "layout": "IPY_MODEL_755b0d422a564f61ae957ecdf4fa801f",
            "max": 349,
            "min": 0,
            "orientation": "horizontal",
            "style": "IPY_MODEL_ee0ad5efc1f84196957563bc8a8ab790",
            "tabbable": null,
            "tooltip": null,
            "value": 349
          }
        },
        "f107030191184e90b99ebb350d0d581f": {
          "model_module": "@jupyter-widgets/controls",
          "model_name": "HTMLModel",
          "model_module_version": "2.0.0",
          "state": {
            "_dom_classes": [],
            "_model_module": "@jupyter-widgets/controls",
            "_model_module_version": "2.0.0",
            "_model_name": "HTMLModel",
            "_view_count": null,
            "_view_module": "@jupyter-widgets/controls",
            "_view_module_version": "2.0.0",
            "_view_name": "HTMLView",
            "description": "",
            "description_allow_html": false,
            "layout": "IPY_MODEL_73dbe1813d9e49ed972cb9fd06c998cd",
            "placeholder": "​",
            "style": "IPY_MODEL_95ffcc8b4f5e4468a2ef02aa574ec8cc",
            "tabbable": null,
            "tooltip": null,
            "value": " 349/349 [00:00&lt;00:00, 13.2kB/s]"
          }
        },
        "b0231f9a9b36428b936e39bc578c542d": {
          "model_module": "@jupyter-widgets/base",
          "model_name": "LayoutModel",
          "model_module_version": "2.0.0",
          "state": {
            "_model_module": "@jupyter-widgets/base",
            "_model_module_version": "2.0.0",
            "_model_name": "LayoutModel",
            "_view_count": null,
            "_view_module": "@jupyter-widgets/base",
            "_view_module_version": "2.0.0",
            "_view_name": "LayoutView",
            "align_content": null,
            "align_items": null,
            "align_self": null,
            "border_bottom": null,
            "border_left": null,
            "border_right": null,
            "border_top": null,
            "bottom": null,
            "display": null,
            "flex": null,
            "flex_flow": null,
            "grid_area": null,
            "grid_auto_columns": null,
            "grid_auto_flow": null,
            "grid_auto_rows": null,
            "grid_column": null,
            "grid_gap": null,
            "grid_row": null,
            "grid_template_areas": null,
            "grid_template_columns": null,
            "grid_template_rows": null,
            "height": null,
            "justify_content": null,
            "justify_items": null,
            "left": null,
            "margin": null,
            "max_height": null,
            "max_width": null,
            "min_height": null,
            "min_width": null,
            "object_fit": null,
            "object_position": null,
            "order": null,
            "overflow": null,
            "padding": null,
            "right": null,
            "top": null,
            "visibility": null,
            "width": null
          }
        },
        "790652d973614ff3837528fe5a24f585": {
          "model_module": "@jupyter-widgets/base",
          "model_name": "LayoutModel",
          "model_module_version": "2.0.0",
          "state": {
            "_model_module": "@jupyter-widgets/base",
            "_model_module_version": "2.0.0",
            "_model_name": "LayoutModel",
            "_view_count": null,
            "_view_module": "@jupyter-widgets/base",
            "_view_module_version": "2.0.0",
            "_view_name": "LayoutView",
            "align_content": null,
            "align_items": null,
            "align_self": null,
            "border_bottom": null,
            "border_left": null,
            "border_right": null,
            "border_top": null,
            "bottom": null,
            "display": null,
            "flex": null,
            "flex_flow": null,
            "grid_area": null,
            "grid_auto_columns": null,
            "grid_auto_flow": null,
            "grid_auto_rows": null,
            "grid_column": null,
            "grid_gap": null,
            "grid_row": null,
            "grid_template_areas": null,
            "grid_template_columns": null,
            "grid_template_rows": null,
            "height": null,
            "justify_content": null,
            "justify_items": null,
            "left": null,
            "margin": null,
            "max_height": null,
            "max_width": null,
            "min_height": null,
            "min_width": null,
            "object_fit": null,
            "object_position": null,
            "order": null,
            "overflow": null,
            "padding": null,
            "right": null,
            "top": null,
            "visibility": null,
            "width": null
          }
        },
        "735832f7927c42f5a69e863702f8734c": {
          "model_module": "@jupyter-widgets/controls",
          "model_name": "HTMLStyleModel",
          "model_module_version": "2.0.0",
          "state": {
            "_model_module": "@jupyter-widgets/controls",
            "_model_module_version": "2.0.0",
            "_model_name": "HTMLStyleModel",
            "_view_count": null,
            "_view_module": "@jupyter-widgets/base",
            "_view_module_version": "2.0.0",
            "_view_name": "StyleView",
            "background": null,
            "description_width": "",
            "font_size": null,
            "text_color": null
          }
        },
        "755b0d422a564f61ae957ecdf4fa801f": {
          "model_module": "@jupyter-widgets/base",
          "model_name": "LayoutModel",
          "model_module_version": "2.0.0",
          "state": {
            "_model_module": "@jupyter-widgets/base",
            "_model_module_version": "2.0.0",
            "_model_name": "LayoutModel",
            "_view_count": null,
            "_view_module": "@jupyter-widgets/base",
            "_view_module_version": "2.0.0",
            "_view_name": "LayoutView",
            "align_content": null,
            "align_items": null,
            "align_self": null,
            "border_bottom": null,
            "border_left": null,
            "border_right": null,
            "border_top": null,
            "bottom": null,
            "display": null,
            "flex": null,
            "flex_flow": null,
            "grid_area": null,
            "grid_auto_columns": null,
            "grid_auto_flow": null,
            "grid_auto_rows": null,
            "grid_column": null,
            "grid_gap": null,
            "grid_row": null,
            "grid_template_areas": null,
            "grid_template_columns": null,
            "grid_template_rows": null,
            "height": null,
            "justify_content": null,
            "justify_items": null,
            "left": null,
            "margin": null,
            "max_height": null,
            "max_width": null,
            "min_height": null,
            "min_width": null,
            "object_fit": null,
            "object_position": null,
            "order": null,
            "overflow": null,
            "padding": null,
            "right": null,
            "top": null,
            "visibility": null,
            "width": null
          }
        },
        "ee0ad5efc1f84196957563bc8a8ab790": {
          "model_module": "@jupyter-widgets/controls",
          "model_name": "ProgressStyleModel",
          "model_module_version": "2.0.0",
          "state": {
            "_model_module": "@jupyter-widgets/controls",
            "_model_module_version": "2.0.0",
            "_model_name": "ProgressStyleModel",
            "_view_count": null,
            "_view_module": "@jupyter-widgets/base",
            "_view_module_version": "2.0.0",
            "_view_name": "StyleView",
            "bar_color": null,
            "description_width": ""
          }
        },
        "73dbe1813d9e49ed972cb9fd06c998cd": {
          "model_module": "@jupyter-widgets/base",
          "model_name": "LayoutModel",
          "model_module_version": "2.0.0",
          "state": {
            "_model_module": "@jupyter-widgets/base",
            "_model_module_version": "2.0.0",
            "_model_name": "LayoutModel",
            "_view_count": null,
            "_view_module": "@jupyter-widgets/base",
            "_view_module_version": "2.0.0",
            "_view_name": "LayoutView",
            "align_content": null,
            "align_items": null,
            "align_self": null,
            "border_bottom": null,
            "border_left": null,
            "border_right": null,
            "border_top": null,
            "bottom": null,
            "display": null,
            "flex": null,
            "flex_flow": null,
            "grid_area": null,
            "grid_auto_columns": null,
            "grid_auto_flow": null,
            "grid_auto_rows": null,
            "grid_column": null,
            "grid_gap": null,
            "grid_row": null,
            "grid_template_areas": null,
            "grid_template_columns": null,
            "grid_template_rows": null,
            "height": null,
            "justify_content": null,
            "justify_items": null,
            "left": null,
            "margin": null,
            "max_height": null,
            "max_width": null,
            "min_height": null,
            "min_width": null,
            "object_fit": null,
            "object_position": null,
            "order": null,
            "overflow": null,
            "padding": null,
            "right": null,
            "top": null,
            "visibility": null,
            "width": null
          }
        },
        "95ffcc8b4f5e4468a2ef02aa574ec8cc": {
          "model_module": "@jupyter-widgets/controls",
          "model_name": "HTMLStyleModel",
          "model_module_version": "2.0.0",
          "state": {
            "_model_module": "@jupyter-widgets/controls",
            "_model_module_version": "2.0.0",
            "_model_name": "HTMLStyleModel",
            "_view_count": null,
            "_view_module": "@jupyter-widgets/base",
            "_view_module_version": "2.0.0",
            "_view_name": "StyleView",
            "background": null,
            "description_width": "",
            "font_size": null,
            "text_color": null
          }
        },
        "6a4553b587964bc7836067030ddcd027": {
          "model_module": "@jupyter-widgets/controls",
          "model_name": "HBoxModel",
          "model_module_version": "2.0.0",
          "state": {
            "_dom_classes": [],
            "_model_module": "@jupyter-widgets/controls",
            "_model_module_version": "2.0.0",
            "_model_name": "HBoxModel",
            "_view_count": null,
            "_view_module": "@jupyter-widgets/controls",
            "_view_module_version": "2.0.0",
            "_view_name": "HBoxView",
            "box_style": "",
            "children": [
              "IPY_MODEL_605b317f30be433999f49465ea467622",
              "IPY_MODEL_572e19cb95274a89b2a8ac749aafa4a8",
              "IPY_MODEL_1f89c16102a64c9aa790808645f7a2d2"
            ],
            "layout": "IPY_MODEL_15589d7603f94bef873c4d1e6905b844",
            "tabbable": null,
            "tooltip": null
          }
        },
        "605b317f30be433999f49465ea467622": {
          "model_module": "@jupyter-widgets/controls",
          "model_name": "HTMLModel",
          "model_module_version": "2.0.0",
          "state": {
            "_dom_classes": [],
            "_model_module": "@jupyter-widgets/controls",
            "_model_module_version": "2.0.0",
            "_model_name": "HTMLModel",
            "_view_count": null,
            "_view_module": "@jupyter-widgets/controls",
            "_view_module_version": "2.0.0",
            "_view_name": "HTMLView",
            "description": "",
            "description_allow_html": false,
            "layout": "IPY_MODEL_a714afe370b84c6582abd13b64970546",
            "placeholder": "​",
            "style": "IPY_MODEL_ab49502a01344a1b921c932874dfb0e4",
            "tabbable": null,
            "tooltip": null,
            "value": "config_sentence_transformers.json: 100%"
          }
        },
        "572e19cb95274a89b2a8ac749aafa4a8": {
          "model_module": "@jupyter-widgets/controls",
          "model_name": "FloatProgressModel",
          "model_module_version": "2.0.0",
          "state": {
            "_dom_classes": [],
            "_model_module": "@jupyter-widgets/controls",
            "_model_module_version": "2.0.0",
            "_model_name": "FloatProgressModel",
            "_view_count": null,
            "_view_module": "@jupyter-widgets/controls",
            "_view_module_version": "2.0.0",
            "_view_name": "ProgressView",
            "bar_style": "success",
            "description": "",
            "description_allow_html": false,
            "layout": "IPY_MODEL_680309a6b569469f8baab457a30f1a5a",
            "max": 116,
            "min": 0,
            "orientation": "horizontal",
            "style": "IPY_MODEL_e19744346866465682b943f3ce54a50a",
            "tabbable": null,
            "tooltip": null,
            "value": 116
          }
        },
        "1f89c16102a64c9aa790808645f7a2d2": {
          "model_module": "@jupyter-widgets/controls",
          "model_name": "HTMLModel",
          "model_module_version": "2.0.0",
          "state": {
            "_dom_classes": [],
            "_model_module": "@jupyter-widgets/controls",
            "_model_module_version": "2.0.0",
            "_model_name": "HTMLModel",
            "_view_count": null,
            "_view_module": "@jupyter-widgets/controls",
            "_view_module_version": "2.0.0",
            "_view_name": "HTMLView",
            "description": "",
            "description_allow_html": false,
            "layout": "IPY_MODEL_3fb0a140301241ce9058ba60c0db2844",
            "placeholder": "​",
            "style": "IPY_MODEL_4566983b48b64bd4a149885aeb416316",
            "tabbable": null,
            "tooltip": null,
            "value": " 116/116 [00:00&lt;00:00, 5.05kB/s]"
          }
        },
        "15589d7603f94bef873c4d1e6905b844": {
          "model_module": "@jupyter-widgets/base",
          "model_name": "LayoutModel",
          "model_module_version": "2.0.0",
          "state": {
            "_model_module": "@jupyter-widgets/base",
            "_model_module_version": "2.0.0",
            "_model_name": "LayoutModel",
            "_view_count": null,
            "_view_module": "@jupyter-widgets/base",
            "_view_module_version": "2.0.0",
            "_view_name": "LayoutView",
            "align_content": null,
            "align_items": null,
            "align_self": null,
            "border_bottom": null,
            "border_left": null,
            "border_right": null,
            "border_top": null,
            "bottom": null,
            "display": null,
            "flex": null,
            "flex_flow": null,
            "grid_area": null,
            "grid_auto_columns": null,
            "grid_auto_flow": null,
            "grid_auto_rows": null,
            "grid_column": null,
            "grid_gap": null,
            "grid_row": null,
            "grid_template_areas": null,
            "grid_template_columns": null,
            "grid_template_rows": null,
            "height": null,
            "justify_content": null,
            "justify_items": null,
            "left": null,
            "margin": null,
            "max_height": null,
            "max_width": null,
            "min_height": null,
            "min_width": null,
            "object_fit": null,
            "object_position": null,
            "order": null,
            "overflow": null,
            "padding": null,
            "right": null,
            "top": null,
            "visibility": null,
            "width": null
          }
        },
        "a714afe370b84c6582abd13b64970546": {
          "model_module": "@jupyter-widgets/base",
          "model_name": "LayoutModel",
          "model_module_version": "2.0.0",
          "state": {
            "_model_module": "@jupyter-widgets/base",
            "_model_module_version": "2.0.0",
            "_model_name": "LayoutModel",
            "_view_count": null,
            "_view_module": "@jupyter-widgets/base",
            "_view_module_version": "2.0.0",
            "_view_name": "LayoutView",
            "align_content": null,
            "align_items": null,
            "align_self": null,
            "border_bottom": null,
            "border_left": null,
            "border_right": null,
            "border_top": null,
            "bottom": null,
            "display": null,
            "flex": null,
            "flex_flow": null,
            "grid_area": null,
            "grid_auto_columns": null,
            "grid_auto_flow": null,
            "grid_auto_rows": null,
            "grid_column": null,
            "grid_gap": null,
            "grid_row": null,
            "grid_template_areas": null,
            "grid_template_columns": null,
            "grid_template_rows": null,
            "height": null,
            "justify_content": null,
            "justify_items": null,
            "left": null,
            "margin": null,
            "max_height": null,
            "max_width": null,
            "min_height": null,
            "min_width": null,
            "object_fit": null,
            "object_position": null,
            "order": null,
            "overflow": null,
            "padding": null,
            "right": null,
            "top": null,
            "visibility": null,
            "width": null
          }
        },
        "ab49502a01344a1b921c932874dfb0e4": {
          "model_module": "@jupyter-widgets/controls",
          "model_name": "HTMLStyleModel",
          "model_module_version": "2.0.0",
          "state": {
            "_model_module": "@jupyter-widgets/controls",
            "_model_module_version": "2.0.0",
            "_model_name": "HTMLStyleModel",
            "_view_count": null,
            "_view_module": "@jupyter-widgets/base",
            "_view_module_version": "2.0.0",
            "_view_name": "StyleView",
            "background": null,
            "description_width": "",
            "font_size": null,
            "text_color": null
          }
        },
        "680309a6b569469f8baab457a30f1a5a": {
          "model_module": "@jupyter-widgets/base",
          "model_name": "LayoutModel",
          "model_module_version": "2.0.0",
          "state": {
            "_model_module": "@jupyter-widgets/base",
            "_model_module_version": "2.0.0",
            "_model_name": "LayoutModel",
            "_view_count": null,
            "_view_module": "@jupyter-widgets/base",
            "_view_module_version": "2.0.0",
            "_view_name": "LayoutView",
            "align_content": null,
            "align_items": null,
            "align_self": null,
            "border_bottom": null,
            "border_left": null,
            "border_right": null,
            "border_top": null,
            "bottom": null,
            "display": null,
            "flex": null,
            "flex_flow": null,
            "grid_area": null,
            "grid_auto_columns": null,
            "grid_auto_flow": null,
            "grid_auto_rows": null,
            "grid_column": null,
            "grid_gap": null,
            "grid_row": null,
            "grid_template_areas": null,
            "grid_template_columns": null,
            "grid_template_rows": null,
            "height": null,
            "justify_content": null,
            "justify_items": null,
            "left": null,
            "margin": null,
            "max_height": null,
            "max_width": null,
            "min_height": null,
            "min_width": null,
            "object_fit": null,
            "object_position": null,
            "order": null,
            "overflow": null,
            "padding": null,
            "right": null,
            "top": null,
            "visibility": null,
            "width": null
          }
        },
        "e19744346866465682b943f3ce54a50a": {
          "model_module": "@jupyter-widgets/controls",
          "model_name": "ProgressStyleModel",
          "model_module_version": "2.0.0",
          "state": {
            "_model_module": "@jupyter-widgets/controls",
            "_model_module_version": "2.0.0",
            "_model_name": "ProgressStyleModel",
            "_view_count": null,
            "_view_module": "@jupyter-widgets/base",
            "_view_module_version": "2.0.0",
            "_view_name": "StyleView",
            "bar_color": null,
            "description_width": ""
          }
        },
        "3fb0a140301241ce9058ba60c0db2844": {
          "model_module": "@jupyter-widgets/base",
          "model_name": "LayoutModel",
          "model_module_version": "2.0.0",
          "state": {
            "_model_module": "@jupyter-widgets/base",
            "_model_module_version": "2.0.0",
            "_model_name": "LayoutModel",
            "_view_count": null,
            "_view_module": "@jupyter-widgets/base",
            "_view_module_version": "2.0.0",
            "_view_name": "LayoutView",
            "align_content": null,
            "align_items": null,
            "align_self": null,
            "border_bottom": null,
            "border_left": null,
            "border_right": null,
            "border_top": null,
            "bottom": null,
            "display": null,
            "flex": null,
            "flex_flow": null,
            "grid_area": null,
            "grid_auto_columns": null,
            "grid_auto_flow": null,
            "grid_auto_rows": null,
            "grid_column": null,
            "grid_gap": null,
            "grid_row": null,
            "grid_template_areas": null,
            "grid_template_columns": null,
            "grid_template_rows": null,
            "height": null,
            "justify_content": null,
            "justify_items": null,
            "left": null,
            "margin": null,
            "max_height": null,
            "max_width": null,
            "min_height": null,
            "min_width": null,
            "object_fit": null,
            "object_position": null,
            "order": null,
            "overflow": null,
            "padding": null,
            "right": null,
            "top": null,
            "visibility": null,
            "width": null
          }
        },
        "4566983b48b64bd4a149885aeb416316": {
          "model_module": "@jupyter-widgets/controls",
          "model_name": "HTMLStyleModel",
          "model_module_version": "2.0.0",
          "state": {
            "_model_module": "@jupyter-widgets/controls",
            "_model_module_version": "2.0.0",
            "_model_name": "HTMLStyleModel",
            "_view_count": null,
            "_view_module": "@jupyter-widgets/base",
            "_view_module_version": "2.0.0",
            "_view_name": "StyleView",
            "background": null,
            "description_width": "",
            "font_size": null,
            "text_color": null
          }
        },
        "06940ddc4eed4a49b583e7bd3ba1bfe7": {
          "model_module": "@jupyter-widgets/base",
          "model_name": "LayoutModel",
          "model_module_version": "2.0.0",
          "state": {
            "_model_module": "@jupyter-widgets/base",
            "_model_module_version": "2.0.0",
            "_model_name": "LayoutModel",
            "_view_count": null,
            "_view_module": "@jupyter-widgets/base",
            "_view_module_version": "2.0.0",
            "_view_name": "LayoutView",
            "align_content": null,
            "align_items": null,
            "align_self": null,
            "border_bottom": null,
            "border_left": null,
            "border_right": null,
            "border_top": null,
            "bottom": null,
            "display": null,
            "flex": null,
            "flex_flow": null,
            "grid_area": null,
            "grid_auto_columns": null,
            "grid_auto_flow": null,
            "grid_auto_rows": null,
            "grid_column": null,
            "grid_gap": null,
            "grid_row": null,
            "grid_template_areas": null,
            "grid_template_columns": null,
            "grid_template_rows": null,
            "height": null,
            "justify_content": null,
            "justify_items": null,
            "left": null,
            "margin": null,
            "max_height": null,
            "max_width": null,
            "min_height": null,
            "min_width": null,
            "object_fit": null,
            "object_position": null,
            "order": null,
            "overflow": null,
            "padding": null,
            "right": null,
            "top": null,
            "visibility": null,
            "width": null
          }
        },
        "e6321fe613c24518b02db60571f9ec28": {
          "model_module": "@jupyter-widgets/controls",
          "model_name": "ProgressStyleModel",
          "model_module_version": "2.0.0",
          "state": {
            "_model_module": "@jupyter-widgets/controls",
            "_model_module_version": "2.0.0",
            "_model_name": "ProgressStyleModel",
            "_view_count": null,
            "_view_module": "@jupyter-widgets/base",
            "_view_module_version": "2.0.0",
            "_view_name": "StyleView",
            "bar_color": null,
            "description_width": ""
          }
        },
        "4b2fd57f9e18461fb7e6dc8dd2d9144b": {
          "model_module": "@jupyter-widgets/base",
          "model_name": "LayoutModel",
          "model_module_version": "2.0.0",
          "state": {
            "_model_module": "@jupyter-widgets/base",
            "_model_module_version": "2.0.0",
            "_model_name": "LayoutModel",
            "_view_count": null,
            "_view_module": "@jupyter-widgets/base",
            "_view_module_version": "2.0.0",
            "_view_name": "LayoutView",
            "align_content": null,
            "align_items": null,
            "align_self": null,
            "border_bottom": null,
            "border_left": null,
            "border_right": null,
            "border_top": null,
            "bottom": null,
            "display": null,
            "flex": null,
            "flex_flow": null,
            "grid_area": null,
            "grid_auto_columns": null,
            "grid_auto_flow": null,
            "grid_auto_rows": null,
            "grid_column": null,
            "grid_gap": null,
            "grid_row": null,
            "grid_template_areas": null,
            "grid_template_columns": null,
            "grid_template_rows": null,
            "height": null,
            "justify_content": null,
            "justify_items": null,
            "left": null,
            "margin": null,
            "max_height": null,
            "max_width": null,
            "min_height": null,
            "min_width": null,
            "object_fit": null,
            "object_position": null,
            "order": null,
            "overflow": null,
            "padding": null,
            "right": null,
            "top": null,
            "visibility": null,
            "width": null
          }
        },
        "d3cae3ff83bb4347992bfa22cf23f7f2": {
          "model_module": "@jupyter-widgets/controls",
          "model_name": "HTMLStyleModel",
          "model_module_version": "2.0.0",
          "state": {
            "_model_module": "@jupyter-widgets/controls",
            "_model_module_version": "2.0.0",
            "_model_name": "HTMLStyleModel",
            "_view_count": null,
            "_view_module": "@jupyter-widgets/base",
            "_view_module_version": "2.0.0",
            "_view_name": "StyleView",
            "background": null,
            "description_width": "",
            "font_size": null,
            "text_color": null
          }
        },
        "a6fa575d791842119d107f18b91bf147": {
          "model_module": "@jupyter-widgets/base",
          "model_name": "LayoutModel",
          "model_module_version": "2.0.0",
          "state": {
            "_model_module": "@jupyter-widgets/base",
            "_model_module_version": "2.0.0",
            "_model_name": "LayoutModel",
            "_view_count": null,
            "_view_module": "@jupyter-widgets/base",
            "_view_module_version": "2.0.0",
            "_view_name": "LayoutView",
            "align_content": null,
            "align_items": null,
            "align_self": null,
            "border_bottom": null,
            "border_left": null,
            "border_right": null,
            "border_top": null,
            "bottom": null,
            "display": null,
            "flex": null,
            "flex_flow": null,
            "grid_area": null,
            "grid_auto_columns": null,
            "grid_auto_flow": null,
            "grid_auto_rows": null,
            "grid_column": null,
            "grid_gap": null,
            "grid_row": null,
            "grid_template_areas": null,
            "grid_template_columns": null,
            "grid_template_rows": null,
            "height": null,
            "justify_content": null,
            "justify_items": null,
            "left": null,
            "margin": null,
            "max_height": null,
            "max_width": null,
            "min_height": null,
            "min_width": null,
            "object_fit": null,
            "object_position": null,
            "order": null,
            "overflow": null,
            "padding": null,
            "right": null,
            "top": null,
            "visibility": null,
            "width": null
          }
        },
        "4e103b5ed67e4bcbadde18a1c95d77d3": {
          "model_module": "@jupyter-widgets/controls",
          "model_name": "HTMLStyleModel",
          "model_module_version": "2.0.0",
          "state": {
            "_model_module": "@jupyter-widgets/controls",
            "_model_module_version": "2.0.0",
            "_model_name": "HTMLStyleModel",
            "_view_count": null,
            "_view_module": "@jupyter-widgets/base",
            "_view_module_version": "2.0.0",
            "_view_name": "StyleView",
            "background": null,
            "description_width": "",
            "font_size": null,
            "text_color": null
          }
        },
        "126a83150451414484ed544bcaaacb77": {
          "model_module": "@jupyter-widgets/controls",
          "model_name": "HTMLModel",
          "model_module_version": "2.0.0",
          "state": {
            "_dom_classes": [],
            "_model_module": "@jupyter-widgets/controls",
            "_model_module_version": "2.0.0",
            "_model_name": "HTMLModel",
            "_view_count": null,
            "_view_module": "@jupyter-widgets/controls",
            "_view_module_version": "2.0.0",
            "_view_name": "HTMLView",
            "description": "",
            "description_allow_html": false,
            "layout": "IPY_MODEL_4b2fd57f9e18461fb7e6dc8dd2d9144b",
            "placeholder": "​",
            "style": "IPY_MODEL_d3cae3ff83bb4347992bfa22cf23f7f2",
            "tabbable": null,
            "tooltip": null,
            "value": "README.md: 100%"
          }
        },
        "8dadaa14609b414ebf58be29f54938f7": {
          "model_module": "@jupyter-widgets/controls",
          "model_name": "FloatProgressModel",
          "model_module_version": "2.0.0",
          "state": {
            "_dom_classes": [],
            "_model_module": "@jupyter-widgets/controls",
            "_model_module_version": "2.0.0",
            "_model_name": "FloatProgressModel",
            "_view_count": null,
            "_view_module": "@jupyter-widgets/controls",
            "_view_module_version": "2.0.0",
            "_view_name": "ProgressView",
            "bar_style": "success",
            "description": "",
            "description_allow_html": false,
            "layout": "IPY_MODEL_06940ddc4eed4a49b583e7bd3ba1bfe7",
            "max": 10659,
            "min": 0,
            "orientation": "horizontal",
            "style": "IPY_MODEL_e6321fe613c24518b02db60571f9ec28",
            "tabbable": null,
            "tooltip": null,
            "value": 10659
          }
        },
        "37b3ad75eaf3431798e1b1c9bed00281": {
          "model_module": "@jupyter-widgets/controls",
          "model_name": "HTMLModel",
          "model_module_version": "2.0.0",
          "state": {
            "_dom_classes": [],
            "_model_module": "@jupyter-widgets/controls",
            "_model_module_version": "2.0.0",
            "_model_name": "HTMLModel",
            "_view_count": null,
            "_view_module": "@jupyter-widgets/controls",
            "_view_module_version": "2.0.0",
            "_view_name": "HTMLView",
            "description": "",
            "description_allow_html": false,
            "layout": "IPY_MODEL_a6fa575d791842119d107f18b91bf147",
            "placeholder": "​",
            "style": "IPY_MODEL_4e103b5ed67e4bcbadde18a1c95d77d3",
            "tabbable": null,
            "tooltip": null,
            "value": " 10.7k/10.7k [00:00&lt;00:00, 572kB/s]"
          }
        },
        "f08e6115c3f1495c9b22ae1a405cead0": {
          "model_module": "@jupyter-widgets/base",
          "model_name": "LayoutModel",
          "model_module_version": "2.0.0",
          "state": {
            "_model_module": "@jupyter-widgets/base",
            "_model_module_version": "2.0.0",
            "_model_name": "LayoutModel",
            "_view_count": null,
            "_view_module": "@jupyter-widgets/base",
            "_view_module_version": "2.0.0",
            "_view_name": "LayoutView",
            "align_content": null,
            "align_items": null,
            "align_self": null,
            "border_bottom": null,
            "border_left": null,
            "border_right": null,
            "border_top": null,
            "bottom": null,
            "display": null,
            "flex": null,
            "flex_flow": null,
            "grid_area": null,
            "grid_auto_columns": null,
            "grid_auto_flow": null,
            "grid_auto_rows": null,
            "grid_column": null,
            "grid_gap": null,
            "grid_row": null,
            "grid_template_areas": null,
            "grid_template_columns": null,
            "grid_template_rows": null,
            "height": null,
            "justify_content": null,
            "justify_items": null,
            "left": null,
            "margin": null,
            "max_height": null,
            "max_width": null,
            "min_height": null,
            "min_width": null,
            "object_fit": null,
            "object_position": null,
            "order": null,
            "overflow": null,
            "padding": null,
            "right": null,
            "top": null,
            "visibility": null,
            "width": null
          }
        },
        "7661091c6e2241d5b07d3923f9f95180": {
          "model_module": "@jupyter-widgets/controls",
          "model_name": "HBoxModel",
          "model_module_version": "2.0.0",
          "state": {
            "_dom_classes": [],
            "_model_module": "@jupyter-widgets/controls",
            "_model_module_version": "2.0.0",
            "_model_name": "HBoxModel",
            "_view_count": null,
            "_view_module": "@jupyter-widgets/controls",
            "_view_module_version": "2.0.0",
            "_view_name": "HBoxView",
            "box_style": "",
            "children": [
              "IPY_MODEL_126a83150451414484ed544bcaaacb77",
              "IPY_MODEL_8dadaa14609b414ebf58be29f54938f7",
              "IPY_MODEL_37b3ad75eaf3431798e1b1c9bed00281"
            ],
            "layout": "IPY_MODEL_f08e6115c3f1495c9b22ae1a405cead0",
            "tabbable": null,
            "tooltip": null
          }
        },
        "c6af635852d04b1fb1d78528343cc9e6": {
          "model_module": "@jupyter-widgets/base",
          "model_name": "LayoutModel",
          "model_module_version": "2.0.0",
          "state": {
            "_model_module": "@jupyter-widgets/base",
            "_model_module_version": "2.0.0",
            "_model_name": "LayoutModel",
            "_view_count": null,
            "_view_module": "@jupyter-widgets/base",
            "_view_module_version": "2.0.0",
            "_view_name": "LayoutView",
            "align_content": null,
            "align_items": null,
            "align_self": null,
            "border_bottom": null,
            "border_left": null,
            "border_right": null,
            "border_top": null,
            "bottom": null,
            "display": null,
            "flex": null,
            "flex_flow": null,
            "grid_area": null,
            "grid_auto_columns": null,
            "grid_auto_flow": null,
            "grid_auto_rows": null,
            "grid_column": null,
            "grid_gap": null,
            "grid_row": null,
            "grid_template_areas": null,
            "grid_template_columns": null,
            "grid_template_rows": null,
            "height": null,
            "justify_content": null,
            "justify_items": null,
            "left": null,
            "margin": null,
            "max_height": null,
            "max_width": null,
            "min_height": null,
            "min_width": null,
            "object_fit": null,
            "object_position": null,
            "order": null,
            "overflow": null,
            "padding": null,
            "right": null,
            "top": null,
            "visibility": null,
            "width": null
          }
        },
        "91ff25537f8543a4b4a0c37289ba8672": {
          "model_module": "@jupyter-widgets/controls",
          "model_name": "ProgressStyleModel",
          "model_module_version": "2.0.0",
          "state": {
            "_model_module": "@jupyter-widgets/controls",
            "_model_module_version": "2.0.0",
            "_model_name": "ProgressStyleModel",
            "_view_count": null,
            "_view_module": "@jupyter-widgets/base",
            "_view_module_version": "2.0.0",
            "_view_name": "StyleView",
            "bar_color": null,
            "description_width": ""
          }
        },
        "a49228801cb846a881f6c49fb138e0a1": {
          "model_module": "@jupyter-widgets/base",
          "model_name": "LayoutModel",
          "model_module_version": "2.0.0",
          "state": {
            "_model_module": "@jupyter-widgets/base",
            "_model_module_version": "2.0.0",
            "_model_name": "LayoutModel",
            "_view_count": null,
            "_view_module": "@jupyter-widgets/base",
            "_view_module_version": "2.0.0",
            "_view_name": "LayoutView",
            "align_content": null,
            "align_items": null,
            "align_self": null,
            "border_bottom": null,
            "border_left": null,
            "border_right": null,
            "border_top": null,
            "bottom": null,
            "display": null,
            "flex": null,
            "flex_flow": null,
            "grid_area": null,
            "grid_auto_columns": null,
            "grid_auto_flow": null,
            "grid_auto_rows": null,
            "grid_column": null,
            "grid_gap": null,
            "grid_row": null,
            "grid_template_areas": null,
            "grid_template_columns": null,
            "grid_template_rows": null,
            "height": null,
            "justify_content": null,
            "justify_items": null,
            "left": null,
            "margin": null,
            "max_height": null,
            "max_width": null,
            "min_height": null,
            "min_width": null,
            "object_fit": null,
            "object_position": null,
            "order": null,
            "overflow": null,
            "padding": null,
            "right": null,
            "top": null,
            "visibility": null,
            "width": null
          }
        },
        "1fe8f90de5fc4d38bbbc1e04e48e57dc": {
          "model_module": "@jupyter-widgets/controls",
          "model_name": "HTMLStyleModel",
          "model_module_version": "2.0.0",
          "state": {
            "_model_module": "@jupyter-widgets/controls",
            "_model_module_version": "2.0.0",
            "_model_name": "HTMLStyleModel",
            "_view_count": null,
            "_view_module": "@jupyter-widgets/base",
            "_view_module_version": "2.0.0",
            "_view_name": "StyleView",
            "background": null,
            "description_width": "",
            "font_size": null,
            "text_color": null
          }
        },
        "2f8010e7f9b042ca9270dfe50e5265f1": {
          "model_module": "@jupyter-widgets/base",
          "model_name": "LayoutModel",
          "model_module_version": "2.0.0",
          "state": {
            "_model_module": "@jupyter-widgets/base",
            "_model_module_version": "2.0.0",
            "_model_name": "LayoutModel",
            "_view_count": null,
            "_view_module": "@jupyter-widgets/base",
            "_view_module_version": "2.0.0",
            "_view_name": "LayoutView",
            "align_content": null,
            "align_items": null,
            "align_self": null,
            "border_bottom": null,
            "border_left": null,
            "border_right": null,
            "border_top": null,
            "bottom": null,
            "display": null,
            "flex": null,
            "flex_flow": null,
            "grid_area": null,
            "grid_auto_columns": null,
            "grid_auto_flow": null,
            "grid_auto_rows": null,
            "grid_column": null,
            "grid_gap": null,
            "grid_row": null,
            "grid_template_areas": null,
            "grid_template_columns": null,
            "grid_template_rows": null,
            "height": null,
            "justify_content": null,
            "justify_items": null,
            "left": null,
            "margin": null,
            "max_height": null,
            "max_width": null,
            "min_height": null,
            "min_width": null,
            "object_fit": null,
            "object_position": null,
            "order": null,
            "overflow": null,
            "padding": null,
            "right": null,
            "top": null,
            "visibility": null,
            "width": null
          }
        },
        "d320ccd2077849de9cc4754379157b31": {
          "model_module": "@jupyter-widgets/controls",
          "model_name": "HTMLStyleModel",
          "model_module_version": "2.0.0",
          "state": {
            "_model_module": "@jupyter-widgets/controls",
            "_model_module_version": "2.0.0",
            "_model_name": "HTMLStyleModel",
            "_view_count": null,
            "_view_module": "@jupyter-widgets/base",
            "_view_module_version": "2.0.0",
            "_view_name": "StyleView",
            "background": null,
            "description_width": "",
            "font_size": null,
            "text_color": null
          }
        },
        "4c4eb95f754c41469b7dc7bebb5e5971": {
          "model_module": "@jupyter-widgets/controls",
          "model_name": "HTMLModel",
          "model_module_version": "2.0.0",
          "state": {
            "_dom_classes": [],
            "_model_module": "@jupyter-widgets/controls",
            "_model_module_version": "2.0.0",
            "_model_name": "HTMLModel",
            "_view_count": null,
            "_view_module": "@jupyter-widgets/controls",
            "_view_module_version": "2.0.0",
            "_view_name": "HTMLView",
            "description": "",
            "description_allow_html": false,
            "layout": "IPY_MODEL_a49228801cb846a881f6c49fb138e0a1",
            "placeholder": "​",
            "style": "IPY_MODEL_1fe8f90de5fc4d38bbbc1e04e48e57dc",
            "tabbable": null,
            "tooltip": null,
            "value": "sentence_bert_config.json: 100%"
          }
        },
        "b22d249f0d9e437e9817bf31ad736b8b": {
          "model_module": "@jupyter-widgets/controls",
          "model_name": "FloatProgressModel",
          "model_module_version": "2.0.0",
          "state": {
            "_dom_classes": [],
            "_model_module": "@jupyter-widgets/controls",
            "_model_module_version": "2.0.0",
            "_model_name": "FloatProgressModel",
            "_view_count": null,
            "_view_module": "@jupyter-widgets/controls",
            "_view_module_version": "2.0.0",
            "_view_name": "ProgressView",
            "bar_style": "success",
            "description": "",
            "description_allow_html": false,
            "layout": "IPY_MODEL_c6af635852d04b1fb1d78528343cc9e6",
            "max": 53,
            "min": 0,
            "orientation": "horizontal",
            "style": "IPY_MODEL_91ff25537f8543a4b4a0c37289ba8672",
            "tabbable": null,
            "tooltip": null,
            "value": 53
          }
        },
        "3026e7a111dc44bbbb34a72f0376af49": {
          "model_module": "@jupyter-widgets/controls",
          "model_name": "HTMLModel",
          "model_module_version": "2.0.0",
          "state": {
            "_dom_classes": [],
            "_model_module": "@jupyter-widgets/controls",
            "_model_module_version": "2.0.0",
            "_model_name": "HTMLModel",
            "_view_count": null,
            "_view_module": "@jupyter-widgets/controls",
            "_view_module_version": "2.0.0",
            "_view_name": "HTMLView",
            "description": "",
            "description_allow_html": false,
            "layout": "IPY_MODEL_2f8010e7f9b042ca9270dfe50e5265f1",
            "placeholder": "​",
            "style": "IPY_MODEL_d320ccd2077849de9cc4754379157b31",
            "tabbable": null,
            "tooltip": null,
            "value": " 53.0/53.0 [00:00&lt;00:00, 2.70kB/s]"
          }
        },
        "fe140e89e95b49fb9774f7de03fef7ce": {
          "model_module": "@jupyter-widgets/base",
          "model_name": "LayoutModel",
          "model_module_version": "2.0.0",
          "state": {
            "_model_module": "@jupyter-widgets/base",
            "_model_module_version": "2.0.0",
            "_model_name": "LayoutModel",
            "_view_count": null,
            "_view_module": "@jupyter-widgets/base",
            "_view_module_version": "2.0.0",
            "_view_name": "LayoutView",
            "align_content": null,
            "align_items": null,
            "align_self": null,
            "border_bottom": null,
            "border_left": null,
            "border_right": null,
            "border_top": null,
            "bottom": null,
            "display": null,
            "flex": null,
            "flex_flow": null,
            "grid_area": null,
            "grid_auto_columns": null,
            "grid_auto_flow": null,
            "grid_auto_rows": null,
            "grid_column": null,
            "grid_gap": null,
            "grid_row": null,
            "grid_template_areas": null,
            "grid_template_columns": null,
            "grid_template_rows": null,
            "height": null,
            "justify_content": null,
            "justify_items": null,
            "left": null,
            "margin": null,
            "max_height": null,
            "max_width": null,
            "min_height": null,
            "min_width": null,
            "object_fit": null,
            "object_position": null,
            "order": null,
            "overflow": null,
            "padding": null,
            "right": null,
            "top": null,
            "visibility": null,
            "width": null
          }
        },
        "a29ba7e776ca4c13bce3cd2357372490": {
          "model_module": "@jupyter-widgets/controls",
          "model_name": "HBoxModel",
          "model_module_version": "2.0.0",
          "state": {
            "_dom_classes": [],
            "_model_module": "@jupyter-widgets/controls",
            "_model_module_version": "2.0.0",
            "_model_name": "HBoxModel",
            "_view_count": null,
            "_view_module": "@jupyter-widgets/controls",
            "_view_module_version": "2.0.0",
            "_view_name": "HBoxView",
            "box_style": "",
            "children": [
              "IPY_MODEL_4c4eb95f754c41469b7dc7bebb5e5971",
              "IPY_MODEL_b22d249f0d9e437e9817bf31ad736b8b",
              "IPY_MODEL_3026e7a111dc44bbbb34a72f0376af49"
            ],
            "layout": "IPY_MODEL_fe140e89e95b49fb9774f7de03fef7ce",
            "tabbable": null,
            "tooltip": null
          }
        },
        "780652e89adf42a78bd665aeebf3509d": {
          "model_module": "@jupyter-widgets/base",
          "model_name": "LayoutModel",
          "model_module_version": "2.0.0",
          "state": {
            "_model_module": "@jupyter-widgets/base",
            "_model_module_version": "2.0.0",
            "_model_name": "LayoutModel",
            "_view_count": null,
            "_view_module": "@jupyter-widgets/base",
            "_view_module_version": "2.0.0",
            "_view_name": "LayoutView",
            "align_content": null,
            "align_items": null,
            "align_self": null,
            "border_bottom": null,
            "border_left": null,
            "border_right": null,
            "border_top": null,
            "bottom": null,
            "display": null,
            "flex": null,
            "flex_flow": null,
            "grid_area": null,
            "grid_auto_columns": null,
            "grid_auto_flow": null,
            "grid_auto_rows": null,
            "grid_column": null,
            "grid_gap": null,
            "grid_row": null,
            "grid_template_areas": null,
            "grid_template_columns": null,
            "grid_template_rows": null,
            "height": null,
            "justify_content": null,
            "justify_items": null,
            "left": null,
            "margin": null,
            "max_height": null,
            "max_width": null,
            "min_height": null,
            "min_width": null,
            "object_fit": null,
            "object_position": null,
            "order": null,
            "overflow": null,
            "padding": null,
            "right": null,
            "top": null,
            "visibility": null,
            "width": null
          }
        },
        "94b9e963e3384dab8ee6f9b72d2872da": {
          "model_module": "@jupyter-widgets/controls",
          "model_name": "ProgressStyleModel",
          "model_module_version": "2.0.0",
          "state": {
            "_model_module": "@jupyter-widgets/controls",
            "_model_module_version": "2.0.0",
            "_model_name": "ProgressStyleModel",
            "_view_count": null,
            "_view_module": "@jupyter-widgets/base",
            "_view_module_version": "2.0.0",
            "_view_name": "StyleView",
            "bar_color": null,
            "description_width": ""
          }
        },
        "a8c9671a4a6840f1ae3618cdb832017a": {
          "model_module": "@jupyter-widgets/base",
          "model_name": "LayoutModel",
          "model_module_version": "2.0.0",
          "state": {
            "_model_module": "@jupyter-widgets/base",
            "_model_module_version": "2.0.0",
            "_model_name": "LayoutModel",
            "_view_count": null,
            "_view_module": "@jupyter-widgets/base",
            "_view_module_version": "2.0.0",
            "_view_name": "LayoutView",
            "align_content": null,
            "align_items": null,
            "align_self": null,
            "border_bottom": null,
            "border_left": null,
            "border_right": null,
            "border_top": null,
            "bottom": null,
            "display": null,
            "flex": null,
            "flex_flow": null,
            "grid_area": null,
            "grid_auto_columns": null,
            "grid_auto_flow": null,
            "grid_auto_rows": null,
            "grid_column": null,
            "grid_gap": null,
            "grid_row": null,
            "grid_template_areas": null,
            "grid_template_columns": null,
            "grid_template_rows": null,
            "height": null,
            "justify_content": null,
            "justify_items": null,
            "left": null,
            "margin": null,
            "max_height": null,
            "max_width": null,
            "min_height": null,
            "min_width": null,
            "object_fit": null,
            "object_position": null,
            "order": null,
            "overflow": null,
            "padding": null,
            "right": null,
            "top": null,
            "visibility": null,
            "width": null
          }
        },
        "f69ad6fb81344694a5325e120f774aa5": {
          "model_module": "@jupyter-widgets/controls",
          "model_name": "HTMLStyleModel",
          "model_module_version": "2.0.0",
          "state": {
            "_model_module": "@jupyter-widgets/controls",
            "_model_module_version": "2.0.0",
            "_model_name": "HTMLStyleModel",
            "_view_count": null,
            "_view_module": "@jupyter-widgets/base",
            "_view_module_version": "2.0.0",
            "_view_name": "StyleView",
            "background": null,
            "description_width": "",
            "font_size": null,
            "text_color": null
          }
        },
        "2b15e6b12c1c4aea9a1be39e1bee4d6a": {
          "model_module": "@jupyter-widgets/base",
          "model_name": "LayoutModel",
          "model_module_version": "2.0.0",
          "state": {
            "_model_module": "@jupyter-widgets/base",
            "_model_module_version": "2.0.0",
            "_model_name": "LayoutModel",
            "_view_count": null,
            "_view_module": "@jupyter-widgets/base",
            "_view_module_version": "2.0.0",
            "_view_name": "LayoutView",
            "align_content": null,
            "align_items": null,
            "align_self": null,
            "border_bottom": null,
            "border_left": null,
            "border_right": null,
            "border_top": null,
            "bottom": null,
            "display": null,
            "flex": null,
            "flex_flow": null,
            "grid_area": null,
            "grid_auto_columns": null,
            "grid_auto_flow": null,
            "grid_auto_rows": null,
            "grid_column": null,
            "grid_gap": null,
            "grid_row": null,
            "grid_template_areas": null,
            "grid_template_columns": null,
            "grid_template_rows": null,
            "height": null,
            "justify_content": null,
            "justify_items": null,
            "left": null,
            "margin": null,
            "max_height": null,
            "max_width": null,
            "min_height": null,
            "min_width": null,
            "object_fit": null,
            "object_position": null,
            "order": null,
            "overflow": null,
            "padding": null,
            "right": null,
            "top": null,
            "visibility": null,
            "width": null
          }
        },
        "40a26daef4ec40118541270e067c255c": {
          "model_module": "@jupyter-widgets/controls",
          "model_name": "HTMLStyleModel",
          "model_module_version": "2.0.0",
          "state": {
            "_model_module": "@jupyter-widgets/controls",
            "_model_module_version": "2.0.0",
            "_model_name": "HTMLStyleModel",
            "_view_count": null,
            "_view_module": "@jupyter-widgets/base",
            "_view_module_version": "2.0.0",
            "_view_name": "StyleView",
            "background": null,
            "description_width": "",
            "font_size": null,
            "text_color": null
          }
        },
        "ba5c0cfb295f418b998a59dd55fe5245": {
          "model_module": "@jupyter-widgets/controls",
          "model_name": "HTMLModel",
          "model_module_version": "2.0.0",
          "state": {
            "_dom_classes": [],
            "_model_module": "@jupyter-widgets/controls",
            "_model_module_version": "2.0.0",
            "_model_name": "HTMLModel",
            "_view_count": null,
            "_view_module": "@jupyter-widgets/controls",
            "_view_module_version": "2.0.0",
            "_view_name": "HTMLView",
            "description": "",
            "description_allow_html": false,
            "layout": "IPY_MODEL_a8c9671a4a6840f1ae3618cdb832017a",
            "placeholder": "​",
            "style": "IPY_MODEL_f69ad6fb81344694a5325e120f774aa5",
            "tabbable": null,
            "tooltip": null,
            "value": "config.json: 100%"
          }
        },
        "c86a65ee29c947d88e0453b13259fa4e": {
          "model_module": "@jupyter-widgets/controls",
          "model_name": "FloatProgressModel",
          "model_module_version": "2.0.0",
          "state": {
            "_dom_classes": [],
            "_model_module": "@jupyter-widgets/controls",
            "_model_module_version": "2.0.0",
            "_model_name": "FloatProgressModel",
            "_view_count": null,
            "_view_module": "@jupyter-widgets/controls",
            "_view_module_version": "2.0.0",
            "_view_name": "ProgressView",
            "bar_style": "success",
            "description": "",
            "description_allow_html": false,
            "layout": "IPY_MODEL_780652e89adf42a78bd665aeebf3509d",
            "max": 612,
            "min": 0,
            "orientation": "horizontal",
            "style": "IPY_MODEL_94b9e963e3384dab8ee6f9b72d2872da",
            "tabbable": null,
            "tooltip": null,
            "value": 612
          }
        },
        "fd690372b8fc467f996d9041bb127a15": {
          "model_module": "@jupyter-widgets/controls",
          "model_name": "HTMLModel",
          "model_module_version": "2.0.0",
          "state": {
            "_dom_classes": [],
            "_model_module": "@jupyter-widgets/controls",
            "_model_module_version": "2.0.0",
            "_model_name": "HTMLModel",
            "_view_count": null,
            "_view_module": "@jupyter-widgets/controls",
            "_view_module_version": "2.0.0",
            "_view_name": "HTMLView",
            "description": "",
            "description_allow_html": false,
            "layout": "IPY_MODEL_2b15e6b12c1c4aea9a1be39e1bee4d6a",
            "placeholder": "​",
            "style": "IPY_MODEL_40a26daef4ec40118541270e067c255c",
            "tabbable": null,
            "tooltip": null,
            "value": " 612/612 [00:00&lt;00:00, 39.8kB/s]"
          }
        },
        "2400a4fcde214bbea56d0c3947728164": {
          "model_module": "@jupyter-widgets/base",
          "model_name": "LayoutModel",
          "model_module_version": "2.0.0",
          "state": {
            "_model_module": "@jupyter-widgets/base",
            "_model_module_version": "2.0.0",
            "_model_name": "LayoutModel",
            "_view_count": null,
            "_view_module": "@jupyter-widgets/base",
            "_view_module_version": "2.0.0",
            "_view_name": "LayoutView",
            "align_content": null,
            "align_items": null,
            "align_self": null,
            "border_bottom": null,
            "border_left": null,
            "border_right": null,
            "border_top": null,
            "bottom": null,
            "display": null,
            "flex": null,
            "flex_flow": null,
            "grid_area": null,
            "grid_auto_columns": null,
            "grid_auto_flow": null,
            "grid_auto_rows": null,
            "grid_column": null,
            "grid_gap": null,
            "grid_row": null,
            "grid_template_areas": null,
            "grid_template_columns": null,
            "grid_template_rows": null,
            "height": null,
            "justify_content": null,
            "justify_items": null,
            "left": null,
            "margin": null,
            "max_height": null,
            "max_width": null,
            "min_height": null,
            "min_width": null,
            "object_fit": null,
            "object_position": null,
            "order": null,
            "overflow": null,
            "padding": null,
            "right": null,
            "top": null,
            "visibility": null,
            "width": null
          }
        },
        "48e30dc67ace4c90a39e44ac7c43a4f2": {
          "model_module": "@jupyter-widgets/controls",
          "model_name": "HBoxModel",
          "model_module_version": "2.0.0",
          "state": {
            "_dom_classes": [],
            "_model_module": "@jupyter-widgets/controls",
            "_model_module_version": "2.0.0",
            "_model_name": "HBoxModel",
            "_view_count": null,
            "_view_module": "@jupyter-widgets/controls",
            "_view_module_version": "2.0.0",
            "_view_name": "HBoxView",
            "box_style": "",
            "children": [
              "IPY_MODEL_ba5c0cfb295f418b998a59dd55fe5245",
              "IPY_MODEL_c86a65ee29c947d88e0453b13259fa4e",
              "IPY_MODEL_fd690372b8fc467f996d9041bb127a15"
            ],
            "layout": "IPY_MODEL_2400a4fcde214bbea56d0c3947728164",
            "tabbable": null,
            "tooltip": null
          }
        },
        "ae94ebdc0b6647b18f13fa5e01e79fc9": {
          "model_module": "@jupyter-widgets/base",
          "model_name": "LayoutModel",
          "model_module_version": "2.0.0",
          "state": {
            "_model_module": "@jupyter-widgets/base",
            "_model_module_version": "2.0.0",
            "_model_name": "LayoutModel",
            "_view_count": null,
            "_view_module": "@jupyter-widgets/base",
            "_view_module_version": "2.0.0",
            "_view_name": "LayoutView",
            "align_content": null,
            "align_items": null,
            "align_self": null,
            "border_bottom": null,
            "border_left": null,
            "border_right": null,
            "border_top": null,
            "bottom": null,
            "display": null,
            "flex": null,
            "flex_flow": null,
            "grid_area": null,
            "grid_auto_columns": null,
            "grid_auto_flow": null,
            "grid_auto_rows": null,
            "grid_column": null,
            "grid_gap": null,
            "grid_row": null,
            "grid_template_areas": null,
            "grid_template_columns": null,
            "grid_template_rows": null,
            "height": null,
            "justify_content": null,
            "justify_items": null,
            "left": null,
            "margin": null,
            "max_height": null,
            "max_width": null,
            "min_height": null,
            "min_width": null,
            "object_fit": null,
            "object_position": null,
            "order": null,
            "overflow": null,
            "padding": null,
            "right": null,
            "top": null,
            "visibility": null,
            "width": null
          }
        },
        "35208bf873024f11bb4d21d28a2fa8e0": {
          "model_module": "@jupyter-widgets/controls",
          "model_name": "ProgressStyleModel",
          "model_module_version": "2.0.0",
          "state": {
            "_model_module": "@jupyter-widgets/controls",
            "_model_module_version": "2.0.0",
            "_model_name": "ProgressStyleModel",
            "_view_count": null,
            "_view_module": "@jupyter-widgets/base",
            "_view_module_version": "2.0.0",
            "_view_name": "StyleView",
            "bar_color": null,
            "description_width": ""
          }
        },
        "253025a206bd4905ae2092eccc925d31": {
          "model_module": "@jupyter-widgets/base",
          "model_name": "LayoutModel",
          "model_module_version": "2.0.0",
          "state": {
            "_model_module": "@jupyter-widgets/base",
            "_model_module_version": "2.0.0",
            "_model_name": "LayoutModel",
            "_view_count": null,
            "_view_module": "@jupyter-widgets/base",
            "_view_module_version": "2.0.0",
            "_view_name": "LayoutView",
            "align_content": null,
            "align_items": null,
            "align_self": null,
            "border_bottom": null,
            "border_left": null,
            "border_right": null,
            "border_top": null,
            "bottom": null,
            "display": null,
            "flex": null,
            "flex_flow": null,
            "grid_area": null,
            "grid_auto_columns": null,
            "grid_auto_flow": null,
            "grid_auto_rows": null,
            "grid_column": null,
            "grid_gap": null,
            "grid_row": null,
            "grid_template_areas": null,
            "grid_template_columns": null,
            "grid_template_rows": null,
            "height": null,
            "justify_content": null,
            "justify_items": null,
            "left": null,
            "margin": null,
            "max_height": null,
            "max_width": null,
            "min_height": null,
            "min_width": null,
            "object_fit": null,
            "object_position": null,
            "order": null,
            "overflow": null,
            "padding": null,
            "right": null,
            "top": null,
            "visibility": null,
            "width": null
          }
        },
        "a7837b3fddb24d4cb1d0049cd60e1c34": {
          "model_module": "@jupyter-widgets/controls",
          "model_name": "HTMLStyleModel",
          "model_module_version": "2.0.0",
          "state": {
            "_model_module": "@jupyter-widgets/controls",
            "_model_module_version": "2.0.0",
            "_model_name": "HTMLStyleModel",
            "_view_count": null,
            "_view_module": "@jupyter-widgets/base",
            "_view_module_version": "2.0.0",
            "_view_name": "StyleView",
            "background": null,
            "description_width": "",
            "font_size": null,
            "text_color": null
          }
        },
        "200d21b783d64c13bbaebf56e4b90fd8": {
          "model_module": "@jupyter-widgets/base",
          "model_name": "LayoutModel",
          "model_module_version": "2.0.0",
          "state": {
            "_model_module": "@jupyter-widgets/base",
            "_model_module_version": "2.0.0",
            "_model_name": "LayoutModel",
            "_view_count": null,
            "_view_module": "@jupyter-widgets/base",
            "_view_module_version": "2.0.0",
            "_view_name": "LayoutView",
            "align_content": null,
            "align_items": null,
            "align_self": null,
            "border_bottom": null,
            "border_left": null,
            "border_right": null,
            "border_top": null,
            "bottom": null,
            "display": null,
            "flex": null,
            "flex_flow": null,
            "grid_area": null,
            "grid_auto_columns": null,
            "grid_auto_flow": null,
            "grid_auto_rows": null,
            "grid_column": null,
            "grid_gap": null,
            "grid_row": null,
            "grid_template_areas": null,
            "grid_template_columns": null,
            "grid_template_rows": null,
            "height": null,
            "justify_content": null,
            "justify_items": null,
            "left": null,
            "margin": null,
            "max_height": null,
            "max_width": null,
            "min_height": null,
            "min_width": null,
            "object_fit": null,
            "object_position": null,
            "order": null,
            "overflow": null,
            "padding": null,
            "right": null,
            "top": null,
            "visibility": null,
            "width": null
          }
        },
        "c9f26b0277754afdbd3d0e315bcce91d": {
          "model_module": "@jupyter-widgets/controls",
          "model_name": "HTMLStyleModel",
          "model_module_version": "2.0.0",
          "state": {
            "_model_module": "@jupyter-widgets/controls",
            "_model_module_version": "2.0.0",
            "_model_name": "HTMLStyleModel",
            "_view_count": null,
            "_view_module": "@jupyter-widgets/base",
            "_view_module_version": "2.0.0",
            "_view_name": "StyleView",
            "background": null,
            "description_width": "",
            "font_size": null,
            "text_color": null
          }
        },
        "c149cd56c68a4c289f55fc2a5063d7c3": {
          "model_module": "@jupyter-widgets/controls",
          "model_name": "HTMLModel",
          "model_module_version": "2.0.0",
          "state": {
            "_dom_classes": [],
            "_model_module": "@jupyter-widgets/controls",
            "_model_module_version": "2.0.0",
            "_model_name": "HTMLModel",
            "_view_count": null,
            "_view_module": "@jupyter-widgets/controls",
            "_view_module_version": "2.0.0",
            "_view_name": "HTMLView",
            "description": "",
            "description_allow_html": false,
            "layout": "IPY_MODEL_253025a206bd4905ae2092eccc925d31",
            "placeholder": "​",
            "style": "IPY_MODEL_a7837b3fddb24d4cb1d0049cd60e1c34",
            "tabbable": null,
            "tooltip": null,
            "value": "model.safetensors: 100%"
          }
        },
        "e9415eba5c834bfab9b9b961ec86ab7e": {
          "model_module": "@jupyter-widgets/controls",
          "model_name": "FloatProgressModel",
          "model_module_version": "2.0.0",
          "state": {
            "_dom_classes": [],
            "_model_module": "@jupyter-widgets/controls",
            "_model_module_version": "2.0.0",
            "_model_name": "FloatProgressModel",
            "_view_count": null,
            "_view_module": "@jupyter-widgets/controls",
            "_view_module_version": "2.0.0",
            "_view_name": "ProgressView",
            "bar_style": "success",
            "description": "",
            "description_allow_html": false,
            "layout": "IPY_MODEL_ae94ebdc0b6647b18f13fa5e01e79fc9",
            "max": 90868376,
            "min": 0,
            "orientation": "horizontal",
            "style": "IPY_MODEL_35208bf873024f11bb4d21d28a2fa8e0",
            "tabbable": null,
            "tooltip": null,
            "value": 90868376
          }
        },
        "bcd798d5183447598cfd14e280f59aac": {
          "model_module": "@jupyter-widgets/controls",
          "model_name": "HTMLModel",
          "model_module_version": "2.0.0",
          "state": {
            "_dom_classes": [],
            "_model_module": "@jupyter-widgets/controls",
            "_model_module_version": "2.0.0",
            "_model_name": "HTMLModel",
            "_view_count": null,
            "_view_module": "@jupyter-widgets/controls",
            "_view_module_version": "2.0.0",
            "_view_name": "HTMLView",
            "description": "",
            "description_allow_html": false,
            "layout": "IPY_MODEL_200d21b783d64c13bbaebf56e4b90fd8",
            "placeholder": "​",
            "style": "IPY_MODEL_c9f26b0277754afdbd3d0e315bcce91d",
            "tabbable": null,
            "tooltip": null,
            "value": " 90.9M/90.9M [00:00&lt;00:00, 140MB/s]"
          }
        },
        "6b6c53bb52224d63945fce4f3cc52414": {
          "model_module": "@jupyter-widgets/base",
          "model_name": "LayoutModel",
          "model_module_version": "2.0.0",
          "state": {
            "_model_module": "@jupyter-widgets/base",
            "_model_module_version": "2.0.0",
            "_model_name": "LayoutModel",
            "_view_count": null,
            "_view_module": "@jupyter-widgets/base",
            "_view_module_version": "2.0.0",
            "_view_name": "LayoutView",
            "align_content": null,
            "align_items": null,
            "align_self": null,
            "border_bottom": null,
            "border_left": null,
            "border_right": null,
            "border_top": null,
            "bottom": null,
            "display": null,
            "flex": null,
            "flex_flow": null,
            "grid_area": null,
            "grid_auto_columns": null,
            "grid_auto_flow": null,
            "grid_auto_rows": null,
            "grid_column": null,
            "grid_gap": null,
            "grid_row": null,
            "grid_template_areas": null,
            "grid_template_columns": null,
            "grid_template_rows": null,
            "height": null,
            "justify_content": null,
            "justify_items": null,
            "left": null,
            "margin": null,
            "max_height": null,
            "max_width": null,
            "min_height": null,
            "min_width": null,
            "object_fit": null,
            "object_position": null,
            "order": null,
            "overflow": null,
            "padding": null,
            "right": null,
            "top": null,
            "visibility": null,
            "width": null
          }
        },
        "f926ea5395c64f3588d4562cddbbb642": {
          "model_module": "@jupyter-widgets/controls",
          "model_name": "HBoxModel",
          "model_module_version": "2.0.0",
          "state": {
            "_dom_classes": [],
            "_model_module": "@jupyter-widgets/controls",
            "_model_module_version": "2.0.0",
            "_model_name": "HBoxModel",
            "_view_count": null,
            "_view_module": "@jupyter-widgets/controls",
            "_view_module_version": "2.0.0",
            "_view_name": "HBoxView",
            "box_style": "",
            "children": [
              "IPY_MODEL_c149cd56c68a4c289f55fc2a5063d7c3",
              "IPY_MODEL_e9415eba5c834bfab9b9b961ec86ab7e",
              "IPY_MODEL_bcd798d5183447598cfd14e280f59aac"
            ],
            "layout": "IPY_MODEL_6b6c53bb52224d63945fce4f3cc52414",
            "tabbable": null,
            "tooltip": null
          }
        },
        "c20323761f1344498e8b2e9f72ee2af0": {
          "model_module": "@jupyter-widgets/base",
          "model_name": "LayoutModel",
          "model_module_version": "2.0.0",
          "state": {
            "_model_module": "@jupyter-widgets/base",
            "_model_module_version": "2.0.0",
            "_model_name": "LayoutModel",
            "_view_count": null,
            "_view_module": "@jupyter-widgets/base",
            "_view_module_version": "2.0.0",
            "_view_name": "LayoutView",
            "align_content": null,
            "align_items": null,
            "align_self": null,
            "border_bottom": null,
            "border_left": null,
            "border_right": null,
            "border_top": null,
            "bottom": null,
            "display": null,
            "flex": null,
            "flex_flow": null,
            "grid_area": null,
            "grid_auto_columns": null,
            "grid_auto_flow": null,
            "grid_auto_rows": null,
            "grid_column": null,
            "grid_gap": null,
            "grid_row": null,
            "grid_template_areas": null,
            "grid_template_columns": null,
            "grid_template_rows": null,
            "height": null,
            "justify_content": null,
            "justify_items": null,
            "left": null,
            "margin": null,
            "max_height": null,
            "max_width": null,
            "min_height": null,
            "min_width": null,
            "object_fit": null,
            "object_position": null,
            "order": null,
            "overflow": null,
            "padding": null,
            "right": null,
            "top": null,
            "visibility": null,
            "width": null
          }
        },
        "fe9c356e6c284c2dad1a4b92e2257184": {
          "model_module": "@jupyter-widgets/controls",
          "model_name": "ProgressStyleModel",
          "model_module_version": "2.0.0",
          "state": {
            "_model_module": "@jupyter-widgets/controls",
            "_model_module_version": "2.0.0",
            "_model_name": "ProgressStyleModel",
            "_view_count": null,
            "_view_module": "@jupyter-widgets/base",
            "_view_module_version": "2.0.0",
            "_view_name": "StyleView",
            "bar_color": null,
            "description_width": ""
          }
        },
        "0bbc8d815fca495ab2a57757315b93c2": {
          "model_module": "@jupyter-widgets/base",
          "model_name": "LayoutModel",
          "model_module_version": "2.0.0",
          "state": {
            "_model_module": "@jupyter-widgets/base",
            "_model_module_version": "2.0.0",
            "_model_name": "LayoutModel",
            "_view_count": null,
            "_view_module": "@jupyter-widgets/base",
            "_view_module_version": "2.0.0",
            "_view_name": "LayoutView",
            "align_content": null,
            "align_items": null,
            "align_self": null,
            "border_bottom": null,
            "border_left": null,
            "border_right": null,
            "border_top": null,
            "bottom": null,
            "display": null,
            "flex": null,
            "flex_flow": null,
            "grid_area": null,
            "grid_auto_columns": null,
            "grid_auto_flow": null,
            "grid_auto_rows": null,
            "grid_column": null,
            "grid_gap": null,
            "grid_row": null,
            "grid_template_areas": null,
            "grid_template_columns": null,
            "grid_template_rows": null,
            "height": null,
            "justify_content": null,
            "justify_items": null,
            "left": null,
            "margin": null,
            "max_height": null,
            "max_width": null,
            "min_height": null,
            "min_width": null,
            "object_fit": null,
            "object_position": null,
            "order": null,
            "overflow": null,
            "padding": null,
            "right": null,
            "top": null,
            "visibility": null,
            "width": null
          }
        },
        "a1c25e06158443428db727c4a408d4bb": {
          "model_module": "@jupyter-widgets/controls",
          "model_name": "HTMLStyleModel",
          "model_module_version": "2.0.0",
          "state": {
            "_model_module": "@jupyter-widgets/controls",
            "_model_module_version": "2.0.0",
            "_model_name": "HTMLStyleModel",
            "_view_count": null,
            "_view_module": "@jupyter-widgets/base",
            "_view_module_version": "2.0.0",
            "_view_name": "StyleView",
            "background": null,
            "description_width": "",
            "font_size": null,
            "text_color": null
          }
        },
        "b3ee27e4e73b4611a85de8c1378f7bce": {
          "model_module": "@jupyter-widgets/base",
          "model_name": "LayoutModel",
          "model_module_version": "2.0.0",
          "state": {
            "_model_module": "@jupyter-widgets/base",
            "_model_module_version": "2.0.0",
            "_model_name": "LayoutModel",
            "_view_count": null,
            "_view_module": "@jupyter-widgets/base",
            "_view_module_version": "2.0.0",
            "_view_name": "LayoutView",
            "align_content": null,
            "align_items": null,
            "align_self": null,
            "border_bottom": null,
            "border_left": null,
            "border_right": null,
            "border_top": null,
            "bottom": null,
            "display": null,
            "flex": null,
            "flex_flow": null,
            "grid_area": null,
            "grid_auto_columns": null,
            "grid_auto_flow": null,
            "grid_auto_rows": null,
            "grid_column": null,
            "grid_gap": null,
            "grid_row": null,
            "grid_template_areas": null,
            "grid_template_columns": null,
            "grid_template_rows": null,
            "height": null,
            "justify_content": null,
            "justify_items": null,
            "left": null,
            "margin": null,
            "max_height": null,
            "max_width": null,
            "min_height": null,
            "min_width": null,
            "object_fit": null,
            "object_position": null,
            "order": null,
            "overflow": null,
            "padding": null,
            "right": null,
            "top": null,
            "visibility": null,
            "width": null
          }
        },
        "b19d69b3a96e471daf395a0e766ea773": {
          "model_module": "@jupyter-widgets/controls",
          "model_name": "HTMLStyleModel",
          "model_module_version": "2.0.0",
          "state": {
            "_model_module": "@jupyter-widgets/controls",
            "_model_module_version": "2.0.0",
            "_model_name": "HTMLStyleModel",
            "_view_count": null,
            "_view_module": "@jupyter-widgets/base",
            "_view_module_version": "2.0.0",
            "_view_name": "StyleView",
            "background": null,
            "description_width": "",
            "font_size": null,
            "text_color": null
          }
        },
        "c7d76f6240bd44eda725dcbfff184108": {
          "model_module": "@jupyter-widgets/controls",
          "model_name": "HTMLModel",
          "model_module_version": "2.0.0",
          "state": {
            "_dom_classes": [],
            "_model_module": "@jupyter-widgets/controls",
            "_model_module_version": "2.0.0",
            "_model_name": "HTMLModel",
            "_view_count": null,
            "_view_module": "@jupyter-widgets/controls",
            "_view_module_version": "2.0.0",
            "_view_name": "HTMLView",
            "description": "",
            "description_allow_html": false,
            "layout": "IPY_MODEL_0bbc8d815fca495ab2a57757315b93c2",
            "placeholder": "​",
            "style": "IPY_MODEL_a1c25e06158443428db727c4a408d4bb",
            "tabbable": null,
            "tooltip": null,
            "value": "tokenizer_config.json: 100%"
          }
        },
        "249ad8d5d5794a0194d0fdba7c303e4c": {
          "model_module": "@jupyter-widgets/controls",
          "model_name": "FloatProgressModel",
          "model_module_version": "2.0.0",
          "state": {
            "_dom_classes": [],
            "_model_module": "@jupyter-widgets/controls",
            "_model_module_version": "2.0.0",
            "_model_name": "FloatProgressModel",
            "_view_count": null,
            "_view_module": "@jupyter-widgets/controls",
            "_view_module_version": "2.0.0",
            "_view_name": "ProgressView",
            "bar_style": "success",
            "description": "",
            "description_allow_html": false,
            "layout": "IPY_MODEL_c20323761f1344498e8b2e9f72ee2af0",
            "max": 350,
            "min": 0,
            "orientation": "horizontal",
            "style": "IPY_MODEL_fe9c356e6c284c2dad1a4b92e2257184",
            "tabbable": null,
            "tooltip": null,
            "value": 350
          }
        },
        "58abadba809b4abc9ef106d0d5384a7f": {
          "model_module": "@jupyter-widgets/controls",
          "model_name": "HTMLModel",
          "model_module_version": "2.0.0",
          "state": {
            "_dom_classes": [],
            "_model_module": "@jupyter-widgets/controls",
            "_model_module_version": "2.0.0",
            "_model_name": "HTMLModel",
            "_view_count": null,
            "_view_module": "@jupyter-widgets/controls",
            "_view_module_version": "2.0.0",
            "_view_name": "HTMLView",
            "description": "",
            "description_allow_html": false,
            "layout": "IPY_MODEL_b3ee27e4e73b4611a85de8c1378f7bce",
            "placeholder": "​",
            "style": "IPY_MODEL_b19d69b3a96e471daf395a0e766ea773",
            "tabbable": null,
            "tooltip": null,
            "value": " 350/350 [00:00&lt;00:00, 19.9kB/s]"
          }
        },
        "776fb986472d4ab09f099ede792ee0e3": {
          "model_module": "@jupyter-widgets/base",
          "model_name": "LayoutModel",
          "model_module_version": "2.0.0",
          "state": {
            "_model_module": "@jupyter-widgets/base",
            "_model_module_version": "2.0.0",
            "_model_name": "LayoutModel",
            "_view_count": null,
            "_view_module": "@jupyter-widgets/base",
            "_view_module_version": "2.0.0",
            "_view_name": "LayoutView",
            "align_content": null,
            "align_items": null,
            "align_self": null,
            "border_bottom": null,
            "border_left": null,
            "border_right": null,
            "border_top": null,
            "bottom": null,
            "display": null,
            "flex": null,
            "flex_flow": null,
            "grid_area": null,
            "grid_auto_columns": null,
            "grid_auto_flow": null,
            "grid_auto_rows": null,
            "grid_column": null,
            "grid_gap": null,
            "grid_row": null,
            "grid_template_areas": null,
            "grid_template_columns": null,
            "grid_template_rows": null,
            "height": null,
            "justify_content": null,
            "justify_items": null,
            "left": null,
            "margin": null,
            "max_height": null,
            "max_width": null,
            "min_height": null,
            "min_width": null,
            "object_fit": null,
            "object_position": null,
            "order": null,
            "overflow": null,
            "padding": null,
            "right": null,
            "top": null,
            "visibility": null,
            "width": null
          }
        },
        "2faf1657fa734bd0a248f56e72f9b50d": {
          "model_module": "@jupyter-widgets/controls",
          "model_name": "HBoxModel",
          "model_module_version": "2.0.0",
          "state": {
            "_dom_classes": [],
            "_model_module": "@jupyter-widgets/controls",
            "_model_module_version": "2.0.0",
            "_model_name": "HBoxModel",
            "_view_count": null,
            "_view_module": "@jupyter-widgets/controls",
            "_view_module_version": "2.0.0",
            "_view_name": "HBoxView",
            "box_style": "",
            "children": [
              "IPY_MODEL_c7d76f6240bd44eda725dcbfff184108",
              "IPY_MODEL_249ad8d5d5794a0194d0fdba7c303e4c",
              "IPY_MODEL_58abadba809b4abc9ef106d0d5384a7f"
            ],
            "layout": "IPY_MODEL_776fb986472d4ab09f099ede792ee0e3",
            "tabbable": null,
            "tooltip": null
          }
        },
        "a9b0f95f0be640008bc6dbb1f256dc09": {
          "model_module": "@jupyter-widgets/base",
          "model_name": "LayoutModel",
          "model_module_version": "2.0.0",
          "state": {
            "_model_module": "@jupyter-widgets/base",
            "_model_module_version": "2.0.0",
            "_model_name": "LayoutModel",
            "_view_count": null,
            "_view_module": "@jupyter-widgets/base",
            "_view_module_version": "2.0.0",
            "_view_name": "LayoutView",
            "align_content": null,
            "align_items": null,
            "align_self": null,
            "border_bottom": null,
            "border_left": null,
            "border_right": null,
            "border_top": null,
            "bottom": null,
            "display": null,
            "flex": null,
            "flex_flow": null,
            "grid_area": null,
            "grid_auto_columns": null,
            "grid_auto_flow": null,
            "grid_auto_rows": null,
            "grid_column": null,
            "grid_gap": null,
            "grid_row": null,
            "grid_template_areas": null,
            "grid_template_columns": null,
            "grid_template_rows": null,
            "height": null,
            "justify_content": null,
            "justify_items": null,
            "left": null,
            "margin": null,
            "max_height": null,
            "max_width": null,
            "min_height": null,
            "min_width": null,
            "object_fit": null,
            "object_position": null,
            "order": null,
            "overflow": null,
            "padding": null,
            "right": null,
            "top": null,
            "visibility": null,
            "width": null
          }
        },
        "46ddc6e8dd6641f99dd47ebdf58e1817": {
          "model_module": "@jupyter-widgets/controls",
          "model_name": "ProgressStyleModel",
          "model_module_version": "2.0.0",
          "state": {
            "_model_module": "@jupyter-widgets/controls",
            "_model_module_version": "2.0.0",
            "_model_name": "ProgressStyleModel",
            "_view_count": null,
            "_view_module": "@jupyter-widgets/base",
            "_view_module_version": "2.0.0",
            "_view_name": "StyleView",
            "bar_color": null,
            "description_width": ""
          }
        },
        "54d73bb24c49455f9de9229342e4b4ef": {
          "model_module": "@jupyter-widgets/base",
          "model_name": "LayoutModel",
          "model_module_version": "2.0.0",
          "state": {
            "_model_module": "@jupyter-widgets/base",
            "_model_module_version": "2.0.0",
            "_model_name": "LayoutModel",
            "_view_count": null,
            "_view_module": "@jupyter-widgets/base",
            "_view_module_version": "2.0.0",
            "_view_name": "LayoutView",
            "align_content": null,
            "align_items": null,
            "align_self": null,
            "border_bottom": null,
            "border_left": null,
            "border_right": null,
            "border_top": null,
            "bottom": null,
            "display": null,
            "flex": null,
            "flex_flow": null,
            "grid_area": null,
            "grid_auto_columns": null,
            "grid_auto_flow": null,
            "grid_auto_rows": null,
            "grid_column": null,
            "grid_gap": null,
            "grid_row": null,
            "grid_template_areas": null,
            "grid_template_columns": null,
            "grid_template_rows": null,
            "height": null,
            "justify_content": null,
            "justify_items": null,
            "left": null,
            "margin": null,
            "max_height": null,
            "max_width": null,
            "min_height": null,
            "min_width": null,
            "object_fit": null,
            "object_position": null,
            "order": null,
            "overflow": null,
            "padding": null,
            "right": null,
            "top": null,
            "visibility": null,
            "width": null
          }
        },
        "8882c79dd9544ce5bff8380da36095f6": {
          "model_module": "@jupyter-widgets/controls",
          "model_name": "HTMLStyleModel",
          "model_module_version": "2.0.0",
          "state": {
            "_model_module": "@jupyter-widgets/controls",
            "_model_module_version": "2.0.0",
            "_model_name": "HTMLStyleModel",
            "_view_count": null,
            "_view_module": "@jupyter-widgets/base",
            "_view_module_version": "2.0.0",
            "_view_name": "StyleView",
            "background": null,
            "description_width": "",
            "font_size": null,
            "text_color": null
          }
        },
        "d1475646500e48619a684dbbd4d56f8e": {
          "model_module": "@jupyter-widgets/base",
          "model_name": "LayoutModel",
          "model_module_version": "2.0.0",
          "state": {
            "_model_module": "@jupyter-widgets/base",
            "_model_module_version": "2.0.0",
            "_model_name": "LayoutModel",
            "_view_count": null,
            "_view_module": "@jupyter-widgets/base",
            "_view_module_version": "2.0.0",
            "_view_name": "LayoutView",
            "align_content": null,
            "align_items": null,
            "align_self": null,
            "border_bottom": null,
            "border_left": null,
            "border_right": null,
            "border_top": null,
            "bottom": null,
            "display": null,
            "flex": null,
            "flex_flow": null,
            "grid_area": null,
            "grid_auto_columns": null,
            "grid_auto_flow": null,
            "grid_auto_rows": null,
            "grid_column": null,
            "grid_gap": null,
            "grid_row": null,
            "grid_template_areas": null,
            "grid_template_columns": null,
            "grid_template_rows": null,
            "height": null,
            "justify_content": null,
            "justify_items": null,
            "left": null,
            "margin": null,
            "max_height": null,
            "max_width": null,
            "min_height": null,
            "min_width": null,
            "object_fit": null,
            "object_position": null,
            "order": null,
            "overflow": null,
            "padding": null,
            "right": null,
            "top": null,
            "visibility": null,
            "width": null
          }
        },
        "f9be92bd23234d209b732562f7ce243e": {
          "model_module": "@jupyter-widgets/controls",
          "model_name": "HTMLStyleModel",
          "model_module_version": "2.0.0",
          "state": {
            "_model_module": "@jupyter-widgets/controls",
            "_model_module_version": "2.0.0",
            "_model_name": "HTMLStyleModel",
            "_view_count": null,
            "_view_module": "@jupyter-widgets/base",
            "_view_module_version": "2.0.0",
            "_view_name": "StyleView",
            "background": null,
            "description_width": "",
            "font_size": null,
            "text_color": null
          }
        },
        "6a87461283c0446da2bdc99fcf94987d": {
          "model_module": "@jupyter-widgets/controls",
          "model_name": "HTMLModel",
          "model_module_version": "2.0.0",
          "state": {
            "_dom_classes": [],
            "_model_module": "@jupyter-widgets/controls",
            "_model_module_version": "2.0.0",
            "_model_name": "HTMLModel",
            "_view_count": null,
            "_view_module": "@jupyter-widgets/controls",
            "_view_module_version": "2.0.0",
            "_view_name": "HTMLView",
            "description": "",
            "description_allow_html": false,
            "layout": "IPY_MODEL_54d73bb24c49455f9de9229342e4b4ef",
            "placeholder": "​",
            "style": "IPY_MODEL_8882c79dd9544ce5bff8380da36095f6",
            "tabbable": null,
            "tooltip": null,
            "value": "vocab.txt: 100%"
          }
        },
        "2a7d5bdea24f4e7c949ea540f4c1dec9": {
          "model_module": "@jupyter-widgets/controls",
          "model_name": "FloatProgressModel",
          "model_module_version": "2.0.0",
          "state": {
            "_dom_classes": [],
            "_model_module": "@jupyter-widgets/controls",
            "_model_module_version": "2.0.0",
            "_model_name": "FloatProgressModel",
            "_view_count": null,
            "_view_module": "@jupyter-widgets/controls",
            "_view_module_version": "2.0.0",
            "_view_name": "ProgressView",
            "bar_style": "success",
            "description": "",
            "description_allow_html": false,
            "layout": "IPY_MODEL_a9b0f95f0be640008bc6dbb1f256dc09",
            "max": 231508,
            "min": 0,
            "orientation": "horizontal",
            "style": "IPY_MODEL_46ddc6e8dd6641f99dd47ebdf58e1817",
            "tabbable": null,
            "tooltip": null,
            "value": 231508
          }
        },
        "67e2e20937f648cfa3b5d4d58b96c3ad": {
          "model_module": "@jupyter-widgets/controls",
          "model_name": "HTMLModel",
          "model_module_version": "2.0.0",
          "state": {
            "_dom_classes": [],
            "_model_module": "@jupyter-widgets/controls",
            "_model_module_version": "2.0.0",
            "_model_name": "HTMLModel",
            "_view_count": null,
            "_view_module": "@jupyter-widgets/controls",
            "_view_module_version": "2.0.0",
            "_view_name": "HTMLView",
            "description": "",
            "description_allow_html": false,
            "layout": "IPY_MODEL_d1475646500e48619a684dbbd4d56f8e",
            "placeholder": "​",
            "style": "IPY_MODEL_f9be92bd23234d209b732562f7ce243e",
            "tabbable": null,
            "tooltip": null,
            "value": " 232k/232k [00:00&lt;00:00, 3.41MB/s]"
          }
        },
        "22459980f67e465cb0aa1e75266fa8c9": {
          "model_module": "@jupyter-widgets/base",
          "model_name": "LayoutModel",
          "model_module_version": "2.0.0",
          "state": {
            "_model_module": "@jupyter-widgets/base",
            "_model_module_version": "2.0.0",
            "_model_name": "LayoutModel",
            "_view_count": null,
            "_view_module": "@jupyter-widgets/base",
            "_view_module_version": "2.0.0",
            "_view_name": "LayoutView",
            "align_content": null,
            "align_items": null,
            "align_self": null,
            "border_bottom": null,
            "border_left": null,
            "border_right": null,
            "border_top": null,
            "bottom": null,
            "display": null,
            "flex": null,
            "flex_flow": null,
            "grid_area": null,
            "grid_auto_columns": null,
            "grid_auto_flow": null,
            "grid_auto_rows": null,
            "grid_column": null,
            "grid_gap": null,
            "grid_row": null,
            "grid_template_areas": null,
            "grid_template_columns": null,
            "grid_template_rows": null,
            "height": null,
            "justify_content": null,
            "justify_items": null,
            "left": null,
            "margin": null,
            "max_height": null,
            "max_width": null,
            "min_height": null,
            "min_width": null,
            "object_fit": null,
            "object_position": null,
            "order": null,
            "overflow": null,
            "padding": null,
            "right": null,
            "top": null,
            "visibility": null,
            "width": null
          }
        },
        "7cd7e466f9ea4149aae46d20da334293": {
          "model_module": "@jupyter-widgets/controls",
          "model_name": "HBoxModel",
          "model_module_version": "2.0.0",
          "state": {
            "_dom_classes": [],
            "_model_module": "@jupyter-widgets/controls",
            "_model_module_version": "2.0.0",
            "_model_name": "HBoxModel",
            "_view_count": null,
            "_view_module": "@jupyter-widgets/controls",
            "_view_module_version": "2.0.0",
            "_view_name": "HBoxView",
            "box_style": "",
            "children": [
              "IPY_MODEL_6a87461283c0446da2bdc99fcf94987d",
              "IPY_MODEL_2a7d5bdea24f4e7c949ea540f4c1dec9",
              "IPY_MODEL_67e2e20937f648cfa3b5d4d58b96c3ad"
            ],
            "layout": "IPY_MODEL_22459980f67e465cb0aa1e75266fa8c9",
            "tabbable": null,
            "tooltip": null
          }
        },
        "6e418fd711d447e690253b770dd48b61": {
          "model_module": "@jupyter-widgets/base",
          "model_name": "LayoutModel",
          "model_module_version": "2.0.0",
          "state": {
            "_model_module": "@jupyter-widgets/base",
            "_model_module_version": "2.0.0",
            "_model_name": "LayoutModel",
            "_view_count": null,
            "_view_module": "@jupyter-widgets/base",
            "_view_module_version": "2.0.0",
            "_view_name": "LayoutView",
            "align_content": null,
            "align_items": null,
            "align_self": null,
            "border_bottom": null,
            "border_left": null,
            "border_right": null,
            "border_top": null,
            "bottom": null,
            "display": null,
            "flex": null,
            "flex_flow": null,
            "grid_area": null,
            "grid_auto_columns": null,
            "grid_auto_flow": null,
            "grid_auto_rows": null,
            "grid_column": null,
            "grid_gap": null,
            "grid_row": null,
            "grid_template_areas": null,
            "grid_template_columns": null,
            "grid_template_rows": null,
            "height": null,
            "justify_content": null,
            "justify_items": null,
            "left": null,
            "margin": null,
            "max_height": null,
            "max_width": null,
            "min_height": null,
            "min_width": null,
            "object_fit": null,
            "object_position": null,
            "order": null,
            "overflow": null,
            "padding": null,
            "right": null,
            "top": null,
            "visibility": null,
            "width": null
          }
        },
        "75ab4e42087847aa8505459d6ffdf8be": {
          "model_module": "@jupyter-widgets/controls",
          "model_name": "ProgressStyleModel",
          "model_module_version": "2.0.0",
          "state": {
            "_model_module": "@jupyter-widgets/controls",
            "_model_module_version": "2.0.0",
            "_model_name": "ProgressStyleModel",
            "_view_count": null,
            "_view_module": "@jupyter-widgets/base",
            "_view_module_version": "2.0.0",
            "_view_name": "StyleView",
            "bar_color": null,
            "description_width": ""
          }
        },
        "65ebe76b9ee24825a62c9d28fc482c9c": {
          "model_module": "@jupyter-widgets/base",
          "model_name": "LayoutModel",
          "model_module_version": "2.0.0",
          "state": {
            "_model_module": "@jupyter-widgets/base",
            "_model_module_version": "2.0.0",
            "_model_name": "LayoutModel",
            "_view_count": null,
            "_view_module": "@jupyter-widgets/base",
            "_view_module_version": "2.0.0",
            "_view_name": "LayoutView",
            "align_content": null,
            "align_items": null,
            "align_self": null,
            "border_bottom": null,
            "border_left": null,
            "border_right": null,
            "border_top": null,
            "bottom": null,
            "display": null,
            "flex": null,
            "flex_flow": null,
            "grid_area": null,
            "grid_auto_columns": null,
            "grid_auto_flow": null,
            "grid_auto_rows": null,
            "grid_column": null,
            "grid_gap": null,
            "grid_row": null,
            "grid_template_areas": null,
            "grid_template_columns": null,
            "grid_template_rows": null,
            "height": null,
            "justify_content": null,
            "justify_items": null,
            "left": null,
            "margin": null,
            "max_height": null,
            "max_width": null,
            "min_height": null,
            "min_width": null,
            "object_fit": null,
            "object_position": null,
            "order": null,
            "overflow": null,
            "padding": null,
            "right": null,
            "top": null,
            "visibility": null,
            "width": null
          }
        },
        "f002682c4f1a4cff9a26a61a147863f3": {
          "model_module": "@jupyter-widgets/controls",
          "model_name": "HTMLStyleModel",
          "model_module_version": "2.0.0",
          "state": {
            "_model_module": "@jupyter-widgets/controls",
            "_model_module_version": "2.0.0",
            "_model_name": "HTMLStyleModel",
            "_view_count": null,
            "_view_module": "@jupyter-widgets/base",
            "_view_module_version": "2.0.0",
            "_view_name": "StyleView",
            "background": null,
            "description_width": "",
            "font_size": null,
            "text_color": null
          }
        },
        "07957e2a61984460ae1118878dac73af": {
          "model_module": "@jupyter-widgets/base",
          "model_name": "LayoutModel",
          "model_module_version": "2.0.0",
          "state": {
            "_model_module": "@jupyter-widgets/base",
            "_model_module_version": "2.0.0",
            "_model_name": "LayoutModel",
            "_view_count": null,
            "_view_module": "@jupyter-widgets/base",
            "_view_module_version": "2.0.0",
            "_view_name": "LayoutView",
            "align_content": null,
            "align_items": null,
            "align_self": null,
            "border_bottom": null,
            "border_left": null,
            "border_right": null,
            "border_top": null,
            "bottom": null,
            "display": null,
            "flex": null,
            "flex_flow": null,
            "grid_area": null,
            "grid_auto_columns": null,
            "grid_auto_flow": null,
            "grid_auto_rows": null,
            "grid_column": null,
            "grid_gap": null,
            "grid_row": null,
            "grid_template_areas": null,
            "grid_template_columns": null,
            "grid_template_rows": null,
            "height": null,
            "justify_content": null,
            "justify_items": null,
            "left": null,
            "margin": null,
            "max_height": null,
            "max_width": null,
            "min_height": null,
            "min_width": null,
            "object_fit": null,
            "object_position": null,
            "order": null,
            "overflow": null,
            "padding": null,
            "right": null,
            "top": null,
            "visibility": null,
            "width": null
          }
        },
        "bf6646a014de443c8106f28616258fa5": {
          "model_module": "@jupyter-widgets/controls",
          "model_name": "HTMLStyleModel",
          "model_module_version": "2.0.0",
          "state": {
            "_model_module": "@jupyter-widgets/controls",
            "_model_module_version": "2.0.0",
            "_model_name": "HTMLStyleModel",
            "_view_count": null,
            "_view_module": "@jupyter-widgets/base",
            "_view_module_version": "2.0.0",
            "_view_name": "StyleView",
            "background": null,
            "description_width": "",
            "font_size": null,
            "text_color": null
          }
        },
        "059968c320df4dcf96052cceeb71a785": {
          "model_module": "@jupyter-widgets/controls",
          "model_name": "HTMLModel",
          "model_module_version": "2.0.0",
          "state": {
            "_dom_classes": [],
            "_model_module": "@jupyter-widgets/controls",
            "_model_module_version": "2.0.0",
            "_model_name": "HTMLModel",
            "_view_count": null,
            "_view_module": "@jupyter-widgets/controls",
            "_view_module_version": "2.0.0",
            "_view_name": "HTMLView",
            "description": "",
            "description_allow_html": false,
            "layout": "IPY_MODEL_65ebe76b9ee24825a62c9d28fc482c9c",
            "placeholder": "​",
            "style": "IPY_MODEL_f002682c4f1a4cff9a26a61a147863f3",
            "tabbable": null,
            "tooltip": null,
            "value": "tokenizer.json: 100%"
          }
        },
        "0cc3e8db17cc48d78677409fa1f4c9c2": {
          "model_module": "@jupyter-widgets/controls",
          "model_name": "FloatProgressModel",
          "model_module_version": "2.0.0",
          "state": {
            "_dom_classes": [],
            "_model_module": "@jupyter-widgets/controls",
            "_model_module_version": "2.0.0",
            "_model_name": "FloatProgressModel",
            "_view_count": null,
            "_view_module": "@jupyter-widgets/controls",
            "_view_module_version": "2.0.0",
            "_view_name": "ProgressView",
            "bar_style": "success",
            "description": "",
            "description_allow_html": false,
            "layout": "IPY_MODEL_6e418fd711d447e690253b770dd48b61",
            "max": 466247,
            "min": 0,
            "orientation": "horizontal",
            "style": "IPY_MODEL_75ab4e42087847aa8505459d6ffdf8be",
            "tabbable": null,
            "tooltip": null,
            "value": 466247
          }
        },
        "d9cbe0c17bf54fbfa418ce78cb725cb9": {
          "model_module": "@jupyter-widgets/controls",
          "model_name": "HTMLModel",
          "model_module_version": "2.0.0",
          "state": {
            "_dom_classes": [],
            "_model_module": "@jupyter-widgets/controls",
            "_model_module_version": "2.0.0",
            "_model_name": "HTMLModel",
            "_view_count": null,
            "_view_module": "@jupyter-widgets/controls",
            "_view_module_version": "2.0.0",
            "_view_name": "HTMLView",
            "description": "",
            "description_allow_html": false,
            "layout": "IPY_MODEL_07957e2a61984460ae1118878dac73af",
            "placeholder": "​",
            "style": "IPY_MODEL_bf6646a014de443c8106f28616258fa5",
            "tabbable": null,
            "tooltip": null,
            "value": " 466k/466k [00:00&lt;00:00, 22.1MB/s]"
          }
        },
        "888e05018ac14dbcad54e9e183101939": {
          "model_module": "@jupyter-widgets/base",
          "model_name": "LayoutModel",
          "model_module_version": "2.0.0",
          "state": {
            "_model_module": "@jupyter-widgets/base",
            "_model_module_version": "2.0.0",
            "_model_name": "LayoutModel",
            "_view_count": null,
            "_view_module": "@jupyter-widgets/base",
            "_view_module_version": "2.0.0",
            "_view_name": "LayoutView",
            "align_content": null,
            "align_items": null,
            "align_self": null,
            "border_bottom": null,
            "border_left": null,
            "border_right": null,
            "border_top": null,
            "bottom": null,
            "display": null,
            "flex": null,
            "flex_flow": null,
            "grid_area": null,
            "grid_auto_columns": null,
            "grid_auto_flow": null,
            "grid_auto_rows": null,
            "grid_column": null,
            "grid_gap": null,
            "grid_row": null,
            "grid_template_areas": null,
            "grid_template_columns": null,
            "grid_template_rows": null,
            "height": null,
            "justify_content": null,
            "justify_items": null,
            "left": null,
            "margin": null,
            "max_height": null,
            "max_width": null,
            "min_height": null,
            "min_width": null,
            "object_fit": null,
            "object_position": null,
            "order": null,
            "overflow": null,
            "padding": null,
            "right": null,
            "top": null,
            "visibility": null,
            "width": null
          }
        },
        "613e84b90a2c42b0a64af3110085d97a": {
          "model_module": "@jupyter-widgets/controls",
          "model_name": "HBoxModel",
          "model_module_version": "2.0.0",
          "state": {
            "_dom_classes": [],
            "_model_module": "@jupyter-widgets/controls",
            "_model_module_version": "2.0.0",
            "_model_name": "HBoxModel",
            "_view_count": null,
            "_view_module": "@jupyter-widgets/controls",
            "_view_module_version": "2.0.0",
            "_view_name": "HBoxView",
            "box_style": "",
            "children": [
              "IPY_MODEL_059968c320df4dcf96052cceeb71a785",
              "IPY_MODEL_0cc3e8db17cc48d78677409fa1f4c9c2",
              "IPY_MODEL_d9cbe0c17bf54fbfa418ce78cb725cb9"
            ],
            "layout": "IPY_MODEL_888e05018ac14dbcad54e9e183101939",
            "tabbable": null,
            "tooltip": null
          }
        },
        "47b9079b34ae47a4afecddf319052a7d": {
          "model_module": "@jupyter-widgets/base",
          "model_name": "LayoutModel",
          "model_module_version": "2.0.0",
          "state": {
            "_model_module": "@jupyter-widgets/base",
            "_model_module_version": "2.0.0",
            "_model_name": "LayoutModel",
            "_view_count": null,
            "_view_module": "@jupyter-widgets/base",
            "_view_module_version": "2.0.0",
            "_view_name": "LayoutView",
            "align_content": null,
            "align_items": null,
            "align_self": null,
            "border_bottom": null,
            "border_left": null,
            "border_right": null,
            "border_top": null,
            "bottom": null,
            "display": null,
            "flex": null,
            "flex_flow": null,
            "grid_area": null,
            "grid_auto_columns": null,
            "grid_auto_flow": null,
            "grid_auto_rows": null,
            "grid_column": null,
            "grid_gap": null,
            "grid_row": null,
            "grid_template_areas": null,
            "grid_template_columns": null,
            "grid_template_rows": null,
            "height": null,
            "justify_content": null,
            "justify_items": null,
            "left": null,
            "margin": null,
            "max_height": null,
            "max_width": null,
            "min_height": null,
            "min_width": null,
            "object_fit": null,
            "object_position": null,
            "order": null,
            "overflow": null,
            "padding": null,
            "right": null,
            "top": null,
            "visibility": null,
            "width": null
          }
        },
        "a75090cb64de49da9b7aadd32cc109a6": {
          "model_module": "@jupyter-widgets/controls",
          "model_name": "ProgressStyleModel",
          "model_module_version": "2.0.0",
          "state": {
            "_model_module": "@jupyter-widgets/controls",
            "_model_module_version": "2.0.0",
            "_model_name": "ProgressStyleModel",
            "_view_count": null,
            "_view_module": "@jupyter-widgets/base",
            "_view_module_version": "2.0.0",
            "_view_name": "StyleView",
            "bar_color": null,
            "description_width": ""
          }
        },
        "ef0080b881394232b26abfe00f806147": {
          "model_module": "@jupyter-widgets/base",
          "model_name": "LayoutModel",
          "model_module_version": "2.0.0",
          "state": {
            "_model_module": "@jupyter-widgets/base",
            "_model_module_version": "2.0.0",
            "_model_name": "LayoutModel",
            "_view_count": null,
            "_view_module": "@jupyter-widgets/base",
            "_view_module_version": "2.0.0",
            "_view_name": "LayoutView",
            "align_content": null,
            "align_items": null,
            "align_self": null,
            "border_bottom": null,
            "border_left": null,
            "border_right": null,
            "border_top": null,
            "bottom": null,
            "display": null,
            "flex": null,
            "flex_flow": null,
            "grid_area": null,
            "grid_auto_columns": null,
            "grid_auto_flow": null,
            "grid_auto_rows": null,
            "grid_column": null,
            "grid_gap": null,
            "grid_row": null,
            "grid_template_areas": null,
            "grid_template_columns": null,
            "grid_template_rows": null,
            "height": null,
            "justify_content": null,
            "justify_items": null,
            "left": null,
            "margin": null,
            "max_height": null,
            "max_width": null,
            "min_height": null,
            "min_width": null,
            "object_fit": null,
            "object_position": null,
            "order": null,
            "overflow": null,
            "padding": null,
            "right": null,
            "top": null,
            "visibility": null,
            "width": null
          }
        },
        "85f24ef7d92e4fed85363619ed301747": {
          "model_module": "@jupyter-widgets/controls",
          "model_name": "HTMLStyleModel",
          "model_module_version": "2.0.0",
          "state": {
            "_model_module": "@jupyter-widgets/controls",
            "_model_module_version": "2.0.0",
            "_model_name": "HTMLStyleModel",
            "_view_count": null,
            "_view_module": "@jupyter-widgets/base",
            "_view_module_version": "2.0.0",
            "_view_name": "StyleView",
            "background": null,
            "description_width": "",
            "font_size": null,
            "text_color": null
          }
        },
        "7624f736bee2471d97f6e1403f6c331a": {
          "model_module": "@jupyter-widgets/base",
          "model_name": "LayoutModel",
          "model_module_version": "2.0.0",
          "state": {
            "_model_module": "@jupyter-widgets/base",
            "_model_module_version": "2.0.0",
            "_model_name": "LayoutModel",
            "_view_count": null,
            "_view_module": "@jupyter-widgets/base",
            "_view_module_version": "2.0.0",
            "_view_name": "LayoutView",
            "align_content": null,
            "align_items": null,
            "align_self": null,
            "border_bottom": null,
            "border_left": null,
            "border_right": null,
            "border_top": null,
            "bottom": null,
            "display": null,
            "flex": null,
            "flex_flow": null,
            "grid_area": null,
            "grid_auto_columns": null,
            "grid_auto_flow": null,
            "grid_auto_rows": null,
            "grid_column": null,
            "grid_gap": null,
            "grid_row": null,
            "grid_template_areas": null,
            "grid_template_columns": null,
            "grid_template_rows": null,
            "height": null,
            "justify_content": null,
            "justify_items": null,
            "left": null,
            "margin": null,
            "max_height": null,
            "max_width": null,
            "min_height": null,
            "min_width": null,
            "object_fit": null,
            "object_position": null,
            "order": null,
            "overflow": null,
            "padding": null,
            "right": null,
            "top": null,
            "visibility": null,
            "width": null
          }
        },
        "09e35587c97c4999bafdc6f42232a5d0": {
          "model_module": "@jupyter-widgets/controls",
          "model_name": "HTMLStyleModel",
          "model_module_version": "2.0.0",
          "state": {
            "_model_module": "@jupyter-widgets/controls",
            "_model_module_version": "2.0.0",
            "_model_name": "HTMLStyleModel",
            "_view_count": null,
            "_view_module": "@jupyter-widgets/base",
            "_view_module_version": "2.0.0",
            "_view_name": "StyleView",
            "background": null,
            "description_width": "",
            "font_size": null,
            "text_color": null
          }
        },
        "05b0d106b2dc4ccda32cb19e56bc8493": {
          "model_module": "@jupyter-widgets/controls",
          "model_name": "HTMLModel",
          "model_module_version": "2.0.0",
          "state": {
            "_dom_classes": [],
            "_model_module": "@jupyter-widgets/controls",
            "_model_module_version": "2.0.0",
            "_model_name": "HTMLModel",
            "_view_count": null,
            "_view_module": "@jupyter-widgets/controls",
            "_view_module_version": "2.0.0",
            "_view_name": "HTMLView",
            "description": "",
            "description_allow_html": false,
            "layout": "IPY_MODEL_ef0080b881394232b26abfe00f806147",
            "placeholder": "​",
            "style": "IPY_MODEL_85f24ef7d92e4fed85363619ed301747",
            "tabbable": null,
            "tooltip": null,
            "value": "special_tokens_map.json: 100%"
          }
        },
        "44036fb4bbcb4958aa8f8e7a49bae4de": {
          "model_module": "@jupyter-widgets/controls",
          "model_name": "FloatProgressModel",
          "model_module_version": "2.0.0",
          "state": {
            "_dom_classes": [],
            "_model_module": "@jupyter-widgets/controls",
            "_model_module_version": "2.0.0",
            "_model_name": "FloatProgressModel",
            "_view_count": null,
            "_view_module": "@jupyter-widgets/controls",
            "_view_module_version": "2.0.0",
            "_view_name": "ProgressView",
            "bar_style": "success",
            "description": "",
            "description_allow_html": false,
            "layout": "IPY_MODEL_47b9079b34ae47a4afecddf319052a7d",
            "max": 112,
            "min": 0,
            "orientation": "horizontal",
            "style": "IPY_MODEL_a75090cb64de49da9b7aadd32cc109a6",
            "tabbable": null,
            "tooltip": null,
            "value": 112
          }
        },
        "bc67cbe31e0a43838d1945c4efc48c60": {
          "model_module": "@jupyter-widgets/controls",
          "model_name": "HTMLModel",
          "model_module_version": "2.0.0",
          "state": {
            "_dom_classes": [],
            "_model_module": "@jupyter-widgets/controls",
            "_model_module_version": "2.0.0",
            "_model_name": "HTMLModel",
            "_view_count": null,
            "_view_module": "@jupyter-widgets/controls",
            "_view_module_version": "2.0.0",
            "_view_name": "HTMLView",
            "description": "",
            "description_allow_html": false,
            "layout": "IPY_MODEL_7624f736bee2471d97f6e1403f6c331a",
            "placeholder": "​",
            "style": "IPY_MODEL_09e35587c97c4999bafdc6f42232a5d0",
            "tabbable": null,
            "tooltip": null,
            "value": " 112/112 [00:00&lt;00:00, 7.55kB/s]"
          }
        },
        "ca8bef2f588a4df0a747963c33ec3ca8": {
          "model_module": "@jupyter-widgets/base",
          "model_name": "LayoutModel",
          "model_module_version": "2.0.0",
          "state": {
            "_model_module": "@jupyter-widgets/base",
            "_model_module_version": "2.0.0",
            "_model_name": "LayoutModel",
            "_view_count": null,
            "_view_module": "@jupyter-widgets/base",
            "_view_module_version": "2.0.0",
            "_view_name": "LayoutView",
            "align_content": null,
            "align_items": null,
            "align_self": null,
            "border_bottom": null,
            "border_left": null,
            "border_right": null,
            "border_top": null,
            "bottom": null,
            "display": null,
            "flex": null,
            "flex_flow": null,
            "grid_area": null,
            "grid_auto_columns": null,
            "grid_auto_flow": null,
            "grid_auto_rows": null,
            "grid_column": null,
            "grid_gap": null,
            "grid_row": null,
            "grid_template_areas": null,
            "grid_template_columns": null,
            "grid_template_rows": null,
            "height": null,
            "justify_content": null,
            "justify_items": null,
            "left": null,
            "margin": null,
            "max_height": null,
            "max_width": null,
            "min_height": null,
            "min_width": null,
            "object_fit": null,
            "object_position": null,
            "order": null,
            "overflow": null,
            "padding": null,
            "right": null,
            "top": null,
            "visibility": null,
            "width": null
          }
        },
        "b65941fbd6b64f97abcaaed1712fb0e7": {
          "model_module": "@jupyter-widgets/controls",
          "model_name": "HBoxModel",
          "model_module_version": "2.0.0",
          "state": {
            "_dom_classes": [],
            "_model_module": "@jupyter-widgets/controls",
            "_model_module_version": "2.0.0",
            "_model_name": "HBoxModel",
            "_view_count": null,
            "_view_module": "@jupyter-widgets/controls",
            "_view_module_version": "2.0.0",
            "_view_name": "HBoxView",
            "box_style": "",
            "children": [
              "IPY_MODEL_05b0d106b2dc4ccda32cb19e56bc8493",
              "IPY_MODEL_44036fb4bbcb4958aa8f8e7a49bae4de",
              "IPY_MODEL_bc67cbe31e0a43838d1945c4efc48c60"
            ],
            "layout": "IPY_MODEL_ca8bef2f588a4df0a747963c33ec3ca8",
            "tabbable": null,
            "tooltip": null
          }
        },
        "c9bade9bcbc34c02b0d6e3ef71ec9e4b": {
          "model_module": "@jupyter-widgets/base",
          "model_name": "LayoutModel",
          "model_module_version": "2.0.0",
          "state": {
            "_model_module": "@jupyter-widgets/base",
            "_model_module_version": "2.0.0",
            "_model_name": "LayoutModel",
            "_view_count": null,
            "_view_module": "@jupyter-widgets/base",
            "_view_module_version": "2.0.0",
            "_view_name": "LayoutView",
            "align_content": null,
            "align_items": null,
            "align_self": null,
            "border_bottom": null,
            "border_left": null,
            "border_right": null,
            "border_top": null,
            "bottom": null,
            "display": null,
            "flex": null,
            "flex_flow": null,
            "grid_area": null,
            "grid_auto_columns": null,
            "grid_auto_flow": null,
            "grid_auto_rows": null,
            "grid_column": null,
            "grid_gap": null,
            "grid_row": null,
            "grid_template_areas": null,
            "grid_template_columns": null,
            "grid_template_rows": null,
            "height": null,
            "justify_content": null,
            "justify_items": null,
            "left": null,
            "margin": null,
            "max_height": null,
            "max_width": null,
            "min_height": null,
            "min_width": null,
            "object_fit": null,
            "object_position": null,
            "order": null,
            "overflow": null,
            "padding": null,
            "right": null,
            "top": null,
            "visibility": null,
            "width": null
          }
        },
        "815b65cdf25f415d88d830ce6275567e": {
          "model_module": "@jupyter-widgets/controls",
          "model_name": "ProgressStyleModel",
          "model_module_version": "2.0.0",
          "state": {
            "_model_module": "@jupyter-widgets/controls",
            "_model_module_version": "2.0.0",
            "_model_name": "ProgressStyleModel",
            "_view_count": null,
            "_view_module": "@jupyter-widgets/base",
            "_view_module_version": "2.0.0",
            "_view_name": "StyleView",
            "bar_color": null,
            "description_width": ""
          }
        },
        "b3e467d608db45d8a606f0ce636a8ed4": {
          "model_module": "@jupyter-widgets/base",
          "model_name": "LayoutModel",
          "model_module_version": "2.0.0",
          "state": {
            "_model_module": "@jupyter-widgets/base",
            "_model_module_version": "2.0.0",
            "_model_name": "LayoutModel",
            "_view_count": null,
            "_view_module": "@jupyter-widgets/base",
            "_view_module_version": "2.0.0",
            "_view_name": "LayoutView",
            "align_content": null,
            "align_items": null,
            "align_self": null,
            "border_bottom": null,
            "border_left": null,
            "border_right": null,
            "border_top": null,
            "bottom": null,
            "display": null,
            "flex": null,
            "flex_flow": null,
            "grid_area": null,
            "grid_auto_columns": null,
            "grid_auto_flow": null,
            "grid_auto_rows": null,
            "grid_column": null,
            "grid_gap": null,
            "grid_row": null,
            "grid_template_areas": null,
            "grid_template_columns": null,
            "grid_template_rows": null,
            "height": null,
            "justify_content": null,
            "justify_items": null,
            "left": null,
            "margin": null,
            "max_height": null,
            "max_width": null,
            "min_height": null,
            "min_width": null,
            "object_fit": null,
            "object_position": null,
            "order": null,
            "overflow": null,
            "padding": null,
            "right": null,
            "top": null,
            "visibility": null,
            "width": null
          }
        },
        "51dc52703a06472faaa4e93d6997d6ed": {
          "model_module": "@jupyter-widgets/controls",
          "model_name": "HTMLStyleModel",
          "model_module_version": "2.0.0",
          "state": {
            "_model_module": "@jupyter-widgets/controls",
            "_model_module_version": "2.0.0",
            "_model_name": "HTMLStyleModel",
            "_view_count": null,
            "_view_module": "@jupyter-widgets/base",
            "_view_module_version": "2.0.0",
            "_view_name": "StyleView",
            "background": null,
            "description_width": "",
            "font_size": null,
            "text_color": null
          }
        },
        "6894e381323f4be5b9d55b7e86560566": {
          "model_module": "@jupyter-widgets/base",
          "model_name": "LayoutModel",
          "model_module_version": "2.0.0",
          "state": {
            "_model_module": "@jupyter-widgets/base",
            "_model_module_version": "2.0.0",
            "_model_name": "LayoutModel",
            "_view_count": null,
            "_view_module": "@jupyter-widgets/base",
            "_view_module_version": "2.0.0",
            "_view_name": "LayoutView",
            "align_content": null,
            "align_items": null,
            "align_self": null,
            "border_bottom": null,
            "border_left": null,
            "border_right": null,
            "border_top": null,
            "bottom": null,
            "display": null,
            "flex": null,
            "flex_flow": null,
            "grid_area": null,
            "grid_auto_columns": null,
            "grid_auto_flow": null,
            "grid_auto_rows": null,
            "grid_column": null,
            "grid_gap": null,
            "grid_row": null,
            "grid_template_areas": null,
            "grid_template_columns": null,
            "grid_template_rows": null,
            "height": null,
            "justify_content": null,
            "justify_items": null,
            "left": null,
            "margin": null,
            "max_height": null,
            "max_width": null,
            "min_height": null,
            "min_width": null,
            "object_fit": null,
            "object_position": null,
            "order": null,
            "overflow": null,
            "padding": null,
            "right": null,
            "top": null,
            "visibility": null,
            "width": null
          }
        },
        "b4b900b7df9049ca92550278aee16534": {
          "model_module": "@jupyter-widgets/controls",
          "model_name": "HTMLStyleModel",
          "model_module_version": "2.0.0",
          "state": {
            "_model_module": "@jupyter-widgets/controls",
            "_model_module_version": "2.0.0",
            "_model_name": "HTMLStyleModel",
            "_view_count": null,
            "_view_module": "@jupyter-widgets/base",
            "_view_module_version": "2.0.0",
            "_view_name": "StyleView",
            "background": null,
            "description_width": "",
            "font_size": null,
            "text_color": null
          }
        },
        "09629ae831ce47f1a22681c15145a5fe": {
          "model_module": "@jupyter-widgets/controls",
          "model_name": "HTMLModel",
          "model_module_version": "2.0.0",
          "state": {
            "_dom_classes": [],
            "_model_module": "@jupyter-widgets/controls",
            "_model_module_version": "2.0.0",
            "_model_name": "HTMLModel",
            "_view_count": null,
            "_view_module": "@jupyter-widgets/controls",
            "_view_module_version": "2.0.0",
            "_view_name": "HTMLView",
            "description": "",
            "description_allow_html": false,
            "layout": "IPY_MODEL_b3e467d608db45d8a606f0ce636a8ed4",
            "placeholder": "​",
            "style": "IPY_MODEL_51dc52703a06472faaa4e93d6997d6ed",
            "tabbable": null,
            "tooltip": null,
            "value": "1_Pooling/config.json: 100%"
          }
        },
        "cffd31d451e349e3ab04f23c24a83630": {
          "model_module": "@jupyter-widgets/controls",
          "model_name": "FloatProgressModel",
          "model_module_version": "2.0.0",
          "state": {
            "_dom_classes": [],
            "_model_module": "@jupyter-widgets/controls",
            "_model_module_version": "2.0.0",
            "_model_name": "FloatProgressModel",
            "_view_count": null,
            "_view_module": "@jupyter-widgets/controls",
            "_view_module_version": "2.0.0",
            "_view_name": "ProgressView",
            "bar_style": "success",
            "description": "",
            "description_allow_html": false,
            "layout": "IPY_MODEL_c9bade9bcbc34c02b0d6e3ef71ec9e4b",
            "max": 190,
            "min": 0,
            "orientation": "horizontal",
            "style": "IPY_MODEL_815b65cdf25f415d88d830ce6275567e",
            "tabbable": null,
            "tooltip": null,
            "value": 190
          }
        },
        "85322f3a6e8f463abffbb032c140c2ce": {
          "model_module": "@jupyter-widgets/controls",
          "model_name": "HTMLModel",
          "model_module_version": "2.0.0",
          "state": {
            "_dom_classes": [],
            "_model_module": "@jupyter-widgets/controls",
            "_model_module_version": "2.0.0",
            "_model_name": "HTMLModel",
            "_view_count": null,
            "_view_module": "@jupyter-widgets/controls",
            "_view_module_version": "2.0.0",
            "_view_name": "HTMLView",
            "description": "",
            "description_allow_html": false,
            "layout": "IPY_MODEL_6894e381323f4be5b9d55b7e86560566",
            "placeholder": "​",
            "style": "IPY_MODEL_b4b900b7df9049ca92550278aee16534",
            "tabbable": null,
            "tooltip": null,
            "value": " 190/190 [00:00&lt;00:00, 12.0kB/s]"
          }
        },
        "91bf29a7c0c3421c8616765cc96253e0": {
          "model_module": "@jupyter-widgets/base",
          "model_name": "LayoutModel",
          "model_module_version": "2.0.0",
          "state": {
            "_model_module": "@jupyter-widgets/base",
            "_model_module_version": "2.0.0",
            "_model_name": "LayoutModel",
            "_view_count": null,
            "_view_module": "@jupyter-widgets/base",
            "_view_module_version": "2.0.0",
            "_view_name": "LayoutView",
            "align_content": null,
            "align_items": null,
            "align_self": null,
            "border_bottom": null,
            "border_left": null,
            "border_right": null,
            "border_top": null,
            "bottom": null,
            "display": null,
            "flex": null,
            "flex_flow": null,
            "grid_area": null,
            "grid_auto_columns": null,
            "grid_auto_flow": null,
            "grid_auto_rows": null,
            "grid_column": null,
            "grid_gap": null,
            "grid_row": null,
            "grid_template_areas": null,
            "grid_template_columns": null,
            "grid_template_rows": null,
            "height": null,
            "justify_content": null,
            "justify_items": null,
            "left": null,
            "margin": null,
            "max_height": null,
            "max_width": null,
            "min_height": null,
            "min_width": null,
            "object_fit": null,
            "object_position": null,
            "order": null,
            "overflow": null,
            "padding": null,
            "right": null,
            "top": null,
            "visibility": null,
            "width": null
          }
        },
        "320ffd9db2314652b9005fccba5cc54d": {
          "model_module": "@jupyter-widgets/controls",
          "model_name": "HBoxModel",
          "model_module_version": "2.0.0",
          "state": {
            "_dom_classes": [],
            "_model_module": "@jupyter-widgets/controls",
            "_model_module_version": "2.0.0",
            "_model_name": "HBoxModel",
            "_view_count": null,
            "_view_module": "@jupyter-widgets/controls",
            "_view_module_version": "2.0.0",
            "_view_name": "HBoxView",
            "box_style": "",
            "children": [
              "IPY_MODEL_09629ae831ce47f1a22681c15145a5fe",
              "IPY_MODEL_cffd31d451e349e3ab04f23c24a83630",
              "IPY_MODEL_85322f3a6e8f463abffbb032c140c2ce"
            ],
            "layout": "IPY_MODEL_91bf29a7c0c3421c8616765cc96253e0",
            "tabbable": null,
            "tooltip": null
          }
        }
      }
    }
  },
  "cells": [
    {
      "cell_type": "code",
      "source": [
        "%pip install --upgrade --quiet  langchain langchain-community  langchain-experimental neo4j wikipedia tiktoken yfiles_jupyter_graphs"
      ],
      "metadata": {
        "colab": {
          "base_uri": "https://localhost:8080/"
        },
        "id": "m4JeY6c8ApJg",
        "outputId": "666a1fc3-3be4-4ed1-e742-2c7f2d5d572d"
      },
      "execution_count": 2,
      "outputs": [
        {
          "output_type": "stream",
          "name": "stdout",
          "text": [
            "  Preparing metadata (setup.py) ... \u001b[?25l\u001b[?25hdone\n",
            "\u001b[2K   \u001b[90m━━━━━━━━━━━━━━━━━━━━━━━━━━━━━━━━━━━━━━━━\u001b[0m \u001b[32m2.5/2.5 MB\u001b[0m \u001b[31m27.1 MB/s\u001b[0m eta \u001b[36m0:00:00\u001b[0m\n",
            "\u001b[2K   \u001b[90m━━━━━━━━━━━━━━━━━━━━━━━━━━━━━━━━━━━━━━━━\u001b[0m \u001b[32m209.2/209.2 kB\u001b[0m \u001b[31m15.0 MB/s\u001b[0m eta \u001b[36m0:00:00\u001b[0m\n",
            "\u001b[2K   \u001b[90m━━━━━━━━━━━━━━━━━━━━━━━━━━━━━━━━━━━━━━━━\u001b[0m \u001b[32m301.7/301.7 kB\u001b[0m \u001b[31m18.9 MB/s\u001b[0m eta \u001b[36m0:00:00\u001b[0m\n",
            "\u001b[2K   \u001b[90m━━━━━━━━━━━━━━━━━━━━━━━━━━━━━━━━━━━━━━━━\u001b[0m \u001b[32m1.2/1.2 MB\u001b[0m \u001b[31m40.7 MB/s\u001b[0m eta \u001b[36m0:00:00\u001b[0m\n",
            "\u001b[2K   \u001b[90m━━━━━━━━━━━━━━━━━━━━━━━━━━━━━━━━━━━━━━━━\u001b[0m \u001b[32m15.6/15.6 MB\u001b[0m \u001b[31m58.2 MB/s\u001b[0m eta \u001b[36m0:00:00\u001b[0m\n",
            "\u001b[2K   \u001b[90m━━━━━━━━━━━━━━━━━━━━━━━━━━━━━━━━━━━━━━━━\u001b[0m \u001b[32m139.8/139.8 kB\u001b[0m \u001b[31m10.5 MB/s\u001b[0m eta \u001b[36m0:00:00\u001b[0m\n",
            "\u001b[2K   \u001b[90m━━━━━━━━━━━━━━━━━━━━━━━━━━━━━━━━━━━━━━━━\u001b[0m \u001b[32m49.6/49.6 kB\u001b[0m \u001b[31m3.7 MB/s\u001b[0m eta \u001b[36m0:00:00\u001b[0m\n",
            "\u001b[2K   \u001b[90m━━━━━━━━━━━━━━━━━━━━━━━━━━━━━━━━━━━━━━━━\u001b[0m \u001b[32m2.3/2.3 MB\u001b[0m \u001b[31m59.5 MB/s\u001b[0m eta \u001b[36m0:00:00\u001b[0m\n",
            "\u001b[2K   \u001b[90m━━━━━━━━━━━━━━━━━━━━━━━━━━━━━━━━━━━━━━━━\u001b[0m \u001b[32m1.6/1.6 MB\u001b[0m \u001b[31m45.6 MB/s\u001b[0m eta \u001b[36m0:00:00\u001b[0m\n",
            "\u001b[?25h  Building wheel for wikipedia (setup.py) ... \u001b[?25l\u001b[?25hdone\n"
          ]
        }
      ]
    },
    {
      "cell_type": "code",
      "execution_count": 3,
      "metadata": {
        "colab": {
          "base_uri": "https://localhost:8080/"
        },
        "id": "V1oY3r_VAhHF",
        "outputId": "38a79ab2-ef61-4cdb-b179-3e2baa6a0296"
      },
      "outputs": [
        {
          "output_type": "execute_result",
          "data": {
            "text/plain": [
              "False"
            ]
          },
          "metadata": {},
          "execution_count": 3
        }
      ],
      "source": [
        "from langchain_core.runnables import RunnableBranch, RunnableLambda, RunnableParallel, RunnablePassthrough\n",
        "from langchain_core.prompts import ChatPromptTemplate\n",
        "from langchain_core.prompts.prompt import PromptTemplate\n",
        "from langchain_core.messages import AIMessage, HumanMessage\n",
        "from langchain_core.output_parsers import StrOutputParser\n",
        "from langchain_core.runnables import ConfigurableField\n",
        "from langchain_community.vectorstores import Neo4jVector\n",
        "from yfiles_jupyter_graphs import GraphWidget\n",
        "from neo4j import GraphDatabase\n",
        "from langchain_community.graphs.neo4j_graph import Neo4jGraph\n",
        "from dotenv import load_dotenv\n",
        "import os\n",
        "load_dotenv()\n"
      ]
    },
    {
      "cell_type": "code",
      "source": [
        "NEO4J_URI=\"neo4j+s://3e7f7f90.databases.neo4j.io\"\n",
        "NEO4J_USERNAME=\"neo4j\"\n",
        "NEO4J_PASSWORD=\"kkj99K1SbXiAsUYSTMq8Uub_sP66cJ-QdxwHGPTO4U0\""
      ],
      "metadata": {
        "id": "h4R0VcTrAlgX"
      },
      "execution_count": 4,
      "outputs": []
    },
    {
      "cell_type": "code",
      "source": [
        "os.environ[\"NEO4J_URI\"] = NEO4J_URI\n",
        "os.environ[\"NEO4J_USERNAME\"] = NEO4J_USERNAME\n",
        "os.environ[\"NEO4J_PASSWORD\"] = NEO4J_PASSWORD"
      ],
      "metadata": {
        "id": "U9uS0kYGAvWs"
      },
      "execution_count": 5,
      "outputs": []
    },
    {
      "cell_type": "code",
      "source": [
        "graph = Neo4jGraph()"
      ],
      "metadata": {
        "colab": {
          "base_uri": "https://localhost:8080/"
        },
        "id": "bTiWOe94AwzL",
        "outputId": "1c164fe1-3f02-4ae4-a96e-859bbadd1f85"
      },
      "execution_count": 6,
      "outputs": [
        {
          "output_type": "stream",
          "name": "stderr",
          "text": [
            "<ipython-input-6-6e7385464d00>:1: LangChainDeprecationWarning: The class `Neo4jGraph` was deprecated in LangChain 0.3.8 and will be removed in 1.0. An updated version of the class exists in the :class:`~langchain-neo4j package and should be used instead. To use it run `pip install -U :class:`~langchain-neo4j` and import as `from :class:`~langchain_neo4j import Neo4jGraph``.\n",
            "  graph = Neo4jGraph()\n"
          ]
        }
      ]
    },
    {
      "cell_type": "code",
      "source": [
        "from langchain.document_loaders import WikipediaLoader\n",
        "raw_docs = WikipediaLoader(query = \"Mona Lisa\").load()"
      ],
      "metadata": {
        "colab": {
          "base_uri": "https://localhost:8080/"
        },
        "id": "LCEt3Qs7A1d7",
        "outputId": "1b64ff04-772f-448d-def7-f8d7ed191d35"
      },
      "execution_count": 26,
      "outputs": [
        {
          "output_type": "stream",
          "name": "stderr",
          "text": [
            "/usr/local/lib/python3.11/dist-packages/wikipedia/wikipedia.py:389: GuessedAtParserWarning: No parser was explicitly specified, so I'm using the best available HTML parser for this system (\"lxml\"). This usually isn't a problem, but if you run this code on another system, or in a different virtual environment, it may use a different parser and behave differently.\n",
            "\n",
            "The code that caused this warning is on line 389 of the file /usr/local/lib/python3.11/dist-packages/wikipedia/wikipedia.py. To get rid of this warning, pass the additional argument 'features=\"lxml\"' to the BeautifulSoup constructor.\n",
            "\n",
            "  lis = BeautifulSoup(html).find_all('li')\n"
          ]
        }
      ]
    },
    {
      "cell_type": "code",
      "source": [
        "raw_docs"
      ],
      "metadata": {
        "colab": {
          "base_uri": "https://localhost:8080/"
        },
        "id": "n3sImRk5BxgH",
        "outputId": "eb7eb094-53a4-4dfb-bbb3-1ed2b80625f7"
      },
      "execution_count": 27,
      "outputs": [
        {
          "output_type": "execute_result",
          "data": {
            "text/plain": [
              "[Document(metadata={'title': 'Mona Lisa', 'summary': 'The Mona Lisa ( MOH-nə LEE-sə; Italian: la Gioconda [la dʒoˈkonda] or Monna Lisa [ˈmɔnna ˈliːza]; French: la Joconde [la ʒɔkɔ̃d]) is a half-length portrait painting by Italian artist Leonardo da Vinci. Considered an archetypal masterpiece of the Italian Renaissance, it has been described as \"the best known, the most visited, the most written about, the most sung about, [and] the most parodied work of art in the world.\" The painting\\'s novel qualities include the subject\\'s enigmatic expression, monumentality of the composition, the subtle modelling of forms, and the atmospheric illusionism.\\nThe painting has been traditionally considered to depict the Italian noblewoman Lisa del Giocondo. It is painted in oil on a white poplar panel. Leonardo never gave the painting to the Giocondo family. It was believed to have been painted between 1503 and 1506; however, Leonardo may have continued working on it as late as 1517. King Francis I of France acquired the Mona Lisa after Leonardo\\'s death in 1519, and it is now the property of the French Republic. It has normally been on display at the Louvre in Paris since 1797.\\nThe painting\\'s global fame and popularity partly stem from its 1911 theft by Vincenzo Peruggia, who attributed his actions to Italian patriotism—a belief it should belong to Italy. The theft and subsequent recovery in 1914 generated unprecedented publicity for an art theft, and led to the publication of many cultural depictions such as the 1915 opera Mona Lisa, two early 1930s films (The Theft of the Mona Lisa and Arsène Lupin), and the song \"Mona Lisa\" recorded by Nat King Cole—one of the most successful songs of the 1950s.\\nThe Mona Lisa is one of the most valuable paintings in the world. It holds the Guinness World Record for the highest known painting insurance valuation in history at US$100 million in 1962, equivalent to $1 billion as of 2023.', 'source': 'https://en.wikipedia.org/wiki/Mona_Lisa'}, page_content='The Mona Lisa ( MOH-nə LEE-sə; Italian: la Gioconda [la dʒoˈkonda] or Monna Lisa [ˈmɔnna ˈliːza]; French: la Joconde [la ʒɔkɔ̃d]) is a half-length portrait painting by Italian artist Leonardo da Vinci. Considered an archetypal masterpiece of the Italian Renaissance, it has been described as \"the best known, the most visited, the most written about, the most sung about, [and] the most parodied work of art in the world.\" The painting\\'s novel qualities include the subject\\'s enigmatic expression, monumentality of the composition, the subtle modelling of forms, and the atmospheric illusionism.\\nThe painting has been traditionally considered to depict the Italian noblewoman Lisa del Giocondo. It is painted in oil on a white poplar panel. Leonardo never gave the painting to the Giocondo family. It was believed to have been painted between 1503 and 1506; however, Leonardo may have continued working on it as late as 1517. King Francis I of France acquired the Mona Lisa after Leonardo\\'s death in 1519, and it is now the property of the French Republic. It has normally been on display at the Louvre in Paris since 1797.\\nThe painting\\'s global fame and popularity partly stem from its 1911 theft by Vincenzo Peruggia, who attributed his actions to Italian patriotism—a belief it should belong to Italy. The theft and subsequent recovery in 1914 generated unprecedented publicity for an art theft, and led to the publication of many cultural depictions such as the 1915 opera Mona Lisa, two early 1930s films (The Theft of the Mona Lisa and Arsène Lupin), and the song \"Mona Lisa\" recorded by Nat King Cole—one of the most successful songs of the 1950s.\\nThe Mona Lisa is one of the most valuable paintings in the world. It holds the Guinness World Record for the highest known painting insurance valuation in history at US$100 million in 1962, equivalent to $1 billion as of 2023.\\n\\n\\n== Title and subject ==\\n\\nThe title of the painting, which is known in English as Mona Lisa, is based on the presumption that it depicts Lisa del Giocondo, although her likeness is uncertain. Renaissance art historian Giorgio Vasari wrote that \"Leonardo undertook to paint, for Francesco del Giocondo, the portrait of Mona Lisa, his wife.\" Monna in Italian is a polite form of address originating as ma donna—similar to Ma\\'am, Madam, or my lady in English. This became madonna, and its contraction monna. The title of the painting is spelled in Italian as Monna Lisa (mona being a vulgarity in Italian), which is rare in English, where it is traditionally spelled Mona.\\nLisa del Giocondo was a member of the Gherardini family of Florence and Tuscany, and the wife of wealthy Florentine silk merchant Francesco del Giocondo. The painting is thought to have been commissioned for their new home, and to celebrate the birth of their second son, Andrea. The Italian name for the painting, La Gioconda, means \"jocund\" (\"happy\" or \"jovial\"), or literally \"the jocund one\", a pun on the feminine form of Lisa\\'s married name, Giocondo. In French, the title La Joconde has the same meaning. Vasari\\'s account of the Mona Lisa comes from his biography of Leonardo published in 1550, 31 years after the artist\\'s death. It has long been the best-known source of information on the provenance of the work and identity of the sitter. Leonardo\\'s assistant Salaì, at his death in 1524, owned a portrait which in his personal papers was named la Gioconda, a painting bequeathed to him by Leonardo.\\nThat Leonardo painted such a work, and its date, were confirmed in 2005 when a scholar at Heidelberg University discovered a marginal note in a 1477 printing of a volume by ancient Roman philosopher Cicero. Dated October 1503, the note was written by Leonardo\\'s contemporary Agostino Vespucci. This note likens Leonardo to renowned Greek painter Apelles, who is mentioned in the text, and states that Leonardo was at that time working on a painting of Lisa del Giocondo. In response to the announcement of the discovery of this document,'),\n",
              " Document(metadata={'title': 'Mona Lisa Smile', 'summary': 'Mona Lisa Smile is a 2003 American drama film produced by Revolution Studios and Columbia Pictures in association with Red Om Films Productions, directed by Mike Newell, written by Lawrence Konner and Mark Rosenthal, and starring Julia Roberts, Kirsten Dunst, Julia Stiles, and Maggie Gyllenhaal.\\nThe title is a reference to the Mona Lisa, the famous painting by Leonardo da Vinci, and to the song of the same name, originally performed by Nat King Cole, which was covered by Seal for the film. Julia Roberts received a record $25 million for her performance, the highest ever earned by an actress at that time.\\n\\n', 'source': 'https://en.wikipedia.org/wiki/Mona_Lisa_Smile'}, page_content=\"Mona Lisa Smile is a 2003 American drama film produced by Revolution Studios and Columbia Pictures in association with Red Om Films Productions, directed by Mike Newell, written by Lawrence Konner and Mark Rosenthal, and starring Julia Roberts, Kirsten Dunst, Julia Stiles, and Maggie Gyllenhaal.\\nThe title is a reference to the Mona Lisa, the famous painting by Leonardo da Vinci, and to the song of the same name, originally performed by Nat King Cole, which was covered by Seal for the film. Julia Roberts received a record $25 million for her performance, the highest ever earned by an actress at that time.\\n\\n\\n== Plot ==\\nIn 1953, 30-year-old Katherine Ann Watson accepts an Art History teaching position at Wellesley College. She quickly discovers her students have memorized the entire textbook and syllabus, so she introduces modern art and encourages discussion about what good art is. Katherine also challenges her students to achieve more than marriage.\\nOutspoken conservative Betty Warren writes editorials for the college paper, and insists that a universal standard exists for what is good art. She attacks Katherine for advocating that women seek careers in addition to marriage, and exposes campus nurse and lesbian Amanda Armstrong for supplying contraception to the students, resulting in her termination.\\nBetty is eager to marry her fiancé Spencer and expects the traditional married-student exemptions; however, Katherine insists she will grade her based on merit and expects her to complete all assignments and tests. When her married life does not go smoothly, she begins taking out her frustrations on the other girls in the class, particularly Connie and Giselle.\\nBetty often ridicules Connie Baker, insisting her cousin Charlie is only taking her to the dance as a favor. Connie attempts to leave after one dance but is surprised when he expresses genuine interest. They begin dating and go on holiday, where Charlie hides from family friends. Connie breaks things off after Betty claims he is seeing Deb, the daughter of the couple Charlie avoided on their trip. She says Connie is just a casual fling.\\nHowever, weeks later, Connie and Charlie reconnect with him insisting he had stopped seeing Deb the previous summer and had only begun seeing his current girlfriend after Connie cut contact with him. Connie tearfully confronts Betty for lying and being hurtful, asking why Betty couldn't let her be happy. Later, Connie breaks into Charlie's dorm to ask for another chance and they kiss, rekindling their relationship.\\nJoan Brandwyn considers studying law at Yale Law School, so Katherine encourages her to apply. Although accepted, she declines admission to instead marry Tom Donegal, telling Katherine that choosing to be a wife and mother does not reduce her intelligence. Fearing Joan may regret not pursuing a career, Joan explains it is what she truly wants, Katherine congratulates her, wishing her happiness.\\nGiselle Levy is liberal about sex and has had several lovers, including Bill Dunbar, who she fell in love with. She moves on from him when he and Katherine begin dating. Giselle admires Katherine for encouraging students' independence. She earns Betty's enmity as her marriage falls apart.\\nKatherine's California boyfriend Paul visits unexpectedly and proposes, but Katherine declines. She starts dating Wellesley Italian professor, Bill Dunbar. Charming, he often tells stories about Europe and Italy during the war. He also has had affairs with students, including Giselle, so Katherine insists he stop.\\nKatherine later learns that, contrary to his stories, Bill was stationed at the Army Languages Center on Long Island. She breaks up with him and Bill tells her that despite what she thinks, she did not come to Wellesley to help the students find their way, but rather find her own path.\\nBetty's marriage falls apart once Spencer is seen with another woman. Betty leaves him but her mother demands she forgive him. She visits Giselle in her dorm, at f\"),\n",
              " Document(metadata={'title': 'Mona Lisa (film)', 'summary': 'Mona Lisa is a 1986 British neo-noir crime drama film about an ex-convict who becomes entangled in the dangerous life of a high-class call girl. The film was written by Neil Jordan and David Leland, and directed by Jordan. It was produced by HandMade Films and stars Bob Hoskins, Cathy Tyson, and Michael Caine.\\nThe film was nominated for multiple awards, and Bob Hoskins was nominated for several awards for his performance (including the Academy Award for Best Actor), winning the Golden Globe Award for Best Actor – Motion Picture Drama and BAFTA Award for Best Actor in a Leading Role. The film seems to take its title from the song \"Mona Lisa\" heard during the end credits.', 'source': 'https://en.wikipedia.org/wiki/Mona_Lisa_(film)'}, page_content='Mona Lisa is a 1986 British neo-noir crime drama film about an ex-convict who becomes entangled in the dangerous life of a high-class call girl. The film was written by Neil Jordan and David Leland, and directed by Jordan. It was produced by HandMade Films and stars Bob Hoskins, Cathy Tyson, and Michael Caine.\\nThe film was nominated for multiple awards, and Bob Hoskins was nominated for several awards for his performance (including the Academy Award for Best Actor), winning the Golden Globe Award for Best Actor – Motion Picture Drama and BAFTA Award for Best Actor in a Leading Role. The film seems to take its title from the song \"Mona Lisa\" heard during the end credits.\\n\\n\\n== Plot ==\\nGeorge, a low-level working-class gangster recently released after seven years in prison, is given a job in London by his former boss, Denny Mortwell, as the driver and bodyguard for a high-priced prostitute named Simone. Mortwell also wants George to gather information on one of Simone\\'s wealthy customers for blackmail purposes. Simone, who has worked hard to develop high-class manners and an elite clientele, initially dislikes the uncouth and outspoken George, and he regards her as putting on airs. But as George and Simone find out more about each other, they form a friendship, and George begins to fall in love with her. George agrees, at the risk of his own life, to help Simone find her teenage friend Cathy, who has disappeared, and who Simone fears is being abused by her violent former pimp, Anderson.\\nGeorge increasingly finds himself torn between his feelings for Simone, his obligations to his boss Mortwell, and his relationship with his teenage daughter Jeannie, a sweet normal girl who has matured while he was in prison and wants to have her father in her life.\\nWhen Anderson stalks Simone to her flat and tries to slash her, George takes her to the secluded garage where he lives with his friend Thomas and then finds the drug-addled Cathy. He takes the two girls to a hotel in Brighton and gives Simone a gun for protection, but then discovers that the pair are lovers. When Mortwell and Anderson arrive to take back control of the girls, Simone shoots them both dead and turns her gun towards George. He punches her, takes the gun and leaves. Freed of his underworld obligations, he returns to a more normal life, working in Thomas\\'s garage and spending time with Jeannie.\\n\\n\\n== Cast ==\\n\\n\\n== Reception ==\\nThe film received positive critical reception when released in 1986. Film critic Roger Ebert wrote of the two main characters \"The relationship of their characters in the film is interesting, because both people, for personal reasons, have developed a style that doesn\\'t reveal very much.\" Halliwell\\'s Film Guide argued \"only this actor could make a hit of this unsavoury yarn, with its highlights of sex and violence. But he did.\" Vincent Canby, writing for The New York Times, dismissed the film as \"classy kitsch... as smooth and distinctive (and, ultimately, as insubstantial) as the old Nat (King) Cole recording of the song, which gives the film its title and a lot of its mood.\"\\nOn Metacritic, Mona Lisa has a score of 85 out of 100 based on reviews from 20 critics, indicating \"universal acclaim\". That of Time Out called it \"a wonderful achievement, a dark film with a generous heart in the shape of an extraordinarily touching performance from Hoskins.\"\\nOn Rotten Tomatoes, Mona Lisa holds a \"Certified Fresh\" 98% rating based on forty reviews. The site\\'s consensus states: \"Bob Hoskins is outstanding in Mona Lisa, giving this stylish neo-noir a riveting centerpiece that sets it apart from similar stories.\"\\n\\n\\n== Accolades ==\\nBob Hoskins was praised for his performance and was awarded the Golden Globe Award, BAFTA Award, Prix d\\'interprétation masculine at the Cannes Film Festival, and other awards. Despite this heavy acclaim, he lost the Academy Award for Best Actor to Paul Newman in The Color of Money.\\n\\n\\n== See also ==\\nBFI Top 100 British films\\nTrinity Court, '),\n",
              " Document(metadata={'title': 'Mona Lisa (Prado)', 'summary': \"The Prado Mona Lisa is a painting by the workshop of Leonardo da Vinci and depicts the same subject and composition as Leonardo's better known Mona Lisa at the Louvre, Paris. The Prado Mona Lisa has been in the collection of the Museo del Prado in Madrid, Spain since 1819, but was considered for decades a relatively unimportant copy. Following its restoration in 2012, however, the Prado's Mona Lisa has come to be understood as the earliest known studio copy of Leonardo's masterpiece.\\n\\nAlthough there are dozens of surviving copies of the Mona Lisa from the 16th and 17th centuries, the Prado's Mona Lisa may have been painted simultaneously by a student of Leonardo in the same studio where he painted his own Mona Lisa, so it is said to be the copy with the most historical value. Among the pupils of Leonardo, Salaì or Francesco Melzi are the most plausible authors of the Prado's version, though other experts argue that the painting could have been executed by one of Leonardo's Spanish students.\\n\\n\", 'source': 'https://en.wikipedia.org/wiki/Mona_Lisa_(Prado)'}, page_content='The Prado Mona Lisa is a painting by the workshop of Leonardo da Vinci and depicts the same subject and composition as Leonardo\\'s better known Mona Lisa at the Louvre, Paris. The Prado Mona Lisa has been in the collection of the Museo del Prado in Madrid, Spain since 1819, but was considered for decades a relatively unimportant copy. Following its restoration in 2012, however, the Prado\\'s Mona Lisa has come to be understood as the earliest known studio copy of Leonardo\\'s masterpiece.\\n\\nAlthough there are dozens of surviving copies of the Mona Lisa from the 16th and 17th centuries, the Prado\\'s Mona Lisa may have been painted simultaneously by a student of Leonardo in the same studio where he painted his own Mona Lisa, so it is said to be the copy with the most historical value. Among the pupils of Leonardo, Salaì or Francesco Melzi are the most plausible authors of the Prado\\'s version, though other experts argue that the painting could have been executed by one of Leonardo\\'s Spanish students.\\n\\n\\n== Background ==\\n\\nThe origins of the Prado\\'s Mona Lisa are linked to those of Leonardo\\'s original, as both paintings were likely created simultaneously in the same studio. The first documentary reference was made in the 1666 inventory in the Galleria del Mediodia of the Alcazar in Madrid as Mujer de mano de Leonardo Abince (Woman by Leonardo da Vinci\\'s hand). However, it is still unknown when the portrait entered the Spanish Royal Collection, though it could have been already in Spain in the early years of the 17th century. Since the Prado\\'s founding in 1819, the copy has been part of its permanent collection.\\n\\n\\n== Restoration ==\\n\\nPrevious to its restoration, the painting was catalogued as an anonymous copy from the first quarter of the 16th century. However, it usually hung in the Prado alongside masterpieces of Italian artists such as Raphael or Andrea del Sarto. A lithograph of the painting also exists, which is unusual for an anonymous copy.\\nAlthough there were elements that clearly distinguished the copy from the Louvre\\'s version, the most striking point was the fact that until the restoration of the Prado\\'s version, no landscape background was visible. That landscape was fully recovered through the restoration carried out by the Prado between 2011 and 2012, for a request to include the Prado\\'s work in a temporary exhibition in the Louvre called Leonardo\\'s last masterpiece: The Sainte Anne, from 29 March to 25 June 2012. The oxidized varnishes indicated that the black repaint had been made 200 years after the copy was painted, that is to say, not before 1750. \\nDuring this restoration process, the copy was also submitted to a study of infrared reflectography and radiography, where the results revealed that the painting had been made in the workshop of Leonardo da Vinci at the same time the original Mona Lisa was painted. The \"key\" of this discovery was the underlying drawing, as it is the same but with different style in both paintings, as well as the drawing\\'s corrections.\\nThese findings, coupled with the excellent state of preservation in regard to the Louvre\\'s version, show the original colours of the Prado\\'s painting and indicates what the copy must have originally looked like, as the varnish on the original has become cracked and yellowed with age. It is anticipated that such revelations also may offer further insight into Leonardo\\'s original.\\n\\nThe suggestion that the Prado version was painted in the workshop of Leonardo at the same time as the Louvre version, presumably by an apprentice, is supported by the observation that it appears to have been rendered from a slightly different perspective than the original. This has fuelled speculation that the pair may constitute the world’s first stereoscopic image, and hence when viewed dichoptically (i.e. with the Prado version viewed by the left eye, and the Louvre version by the right) may produce a distinct 3D appearance. This possibility is plausible, given the fact that Leonardo di'),\n",
              " Document(metadata={'title': 'Isleworth Mona Lisa', 'summary': 'The Isleworth Mona Lisa is an early 16th-century oil on canvas painting depicting the same subject as Leonardo da Vinci\\'s Mona Lisa, though with the subject (Lisa del Giocondo) depicted as being a younger age. The painting is thought to have been brought from Italy to England in the 1780s, and came into public view in 1913 when the English connoisseur Hugh Blaker acquired it from a manor house in Somerset, where it was thought to have been hanging for over a century. The painting would eventually adopt its unofficial name of Isleworth Mona Lisa from Blaker\\'s studio being in Isleworth, West London. Since the 1910s, experts in various fields, as well as the collectors who have acquired ownership of the painting, have asserted that the major elements of the painting are the work of Leonardo himself, as an earlier version of the Mona Lisa.\\nIn 1914, art critic Paul George Konody criticized early reports of the painting, which contained errors that he believed caused skepticism about the painting to become \"hostile incredulity\", but Konody nonetheless found that the painting was clearly \"very largely worked up by the master himself\". Konody also found the painting to have features \"far more pleasing and beautiful than in the Louvre version\". A number of Italian experts in the 1920s echoed Konody\\'s assessment of authorship by Leonardo at a time when the painting was more broadly examined. Much later authorities have made varying characterizations of the degree to which the painting can be ascribed to Leonardo; in 2012, The Guardian described the art world as being \"split\" over the question, and in 2013, Reuters said that it was \"dismissed by some experts\", but \"also won support in the art world\". Art historian Jean-Pierre Isbouts has endorsed Leonardo\\'s involvement in painting the work, asserting that \"24 of 27 recognised Leonardo scholars have agreed this is a Leonardo\", while art historian Martin Kemp dismisses the proposition that Leonardo painted any part, and in 2012 described his contemporaries in the art world as being equivocal, or making \"encouraging but noncommittal statements\" on this point.\\nKemp and others who doubt Leonardo\\'s hand in the painting attribute it to the Leonardeschi, Leonardo\\'s workshop, believing it to be one of a number of copies of the Mona Lisa produced by Leonardo\\'s collaborators, assistants, and pupils, though, as Leonardo biographer Walter Isaacson expressed it, \"perhaps with an occasional helping hand from the master\". In 2010, The Mona Lisa Foundation was founded to investigate if the Isleworth Mona Lisa was painted in part by Leonardo, but as an earlier version of the Louvre Mona Lisa.\\nDiffering views have been expressed on the relative weight to be given to scientific evidence versus connoisseurship. Physicist John F. Asmus, who pioneered laser-restoration techniques for Renaissance art, and who had previously examined the Mona Lisa in the Louvre for this purpose, published a computer image processing study in 1988 concluding that the brush strokes of the face in the painting were performed by the same artist responsible for the brush strokes of the face of the Mona Lisa in the Louvre, and replicated that finding in a 2016 study. However, curator Luke Syson has argued that science is \"only ever one of several factors we\\'d use to assess the authenticity and authorship of a work of art\". An independent 2015 academic journal article also attributed the work to Leonardo on stylistic grounds.', 'source': 'https://en.wikipedia.org/wiki/Isleworth_Mona_Lisa'}, page_content='The Isleworth Mona Lisa is an early 16th-century oil on canvas painting depicting the same subject as Leonardo da Vinci\\'s Mona Lisa, though with the subject (Lisa del Giocondo) depicted as being a younger age. The painting is thought to have been brought from Italy to England in the 1780s, and came into public view in 1913 when the English connoisseur Hugh Blaker acquired it from a manor house in Somerset, where it was thought to have been hanging for over a century. The painting would eventually adopt its unofficial name of Isleworth Mona Lisa from Blaker\\'s studio being in Isleworth, West London. Since the 1910s, experts in various fields, as well as the collectors who have acquired ownership of the painting, have asserted that the major elements of the painting are the work of Leonardo himself, as an earlier version of the Mona Lisa.\\nIn 1914, art critic Paul George Konody criticized early reports of the painting, which contained errors that he believed caused skepticism about the painting to become \"hostile incredulity\", but Konody nonetheless found that the painting was clearly \"very largely worked up by the master himself\". Konody also found the painting to have features \"far more pleasing and beautiful than in the Louvre version\". A number of Italian experts in the 1920s echoed Konody\\'s assessment of authorship by Leonardo at a time when the painting was more broadly examined. Much later authorities have made varying characterizations of the degree to which the painting can be ascribed to Leonardo; in 2012, The Guardian described the art world as being \"split\" over the question, and in 2013, Reuters said that it was \"dismissed by some experts\", but \"also won support in the art world\". Art historian Jean-Pierre Isbouts has endorsed Leonardo\\'s involvement in painting the work, asserting that \"24 of 27 recognised Leonardo scholars have agreed this is a Leonardo\", while art historian Martin Kemp dismisses the proposition that Leonardo painted any part, and in 2012 described his contemporaries in the art world as being equivocal, or making \"encouraging but noncommittal statements\" on this point.\\nKemp and others who doubt Leonardo\\'s hand in the painting attribute it to the Leonardeschi, Leonardo\\'s workshop, believing it to be one of a number of copies of the Mona Lisa produced by Leonardo\\'s collaborators, assistants, and pupils, though, as Leonardo biographer Walter Isaacson expressed it, \"perhaps with an occasional helping hand from the master\". In 2010, The Mona Lisa Foundation was founded to investigate if the Isleworth Mona Lisa was painted in part by Leonardo, but as an earlier version of the Louvre Mona Lisa.\\nDiffering views have been expressed on the relative weight to be given to scientific evidence versus connoisseurship. Physicist John F. Asmus, who pioneered laser-restoration techniques for Renaissance art, and who had previously examined the Mona Lisa in the Louvre for this purpose, published a computer image processing study in 1988 concluding that the brush strokes of the face in the painting were performed by the same artist responsible for the brush strokes of the face of the Mona Lisa in the Louvre, and replicated that finding in a 2016 study. However, curator Luke Syson has argued that science is \"only ever one of several factors we\\'d use to assess the authenticity and authorship of a work of art\". An independent 2015 academic journal article also attributed the work to Leonardo on stylistic grounds.\\n\\n\\n== Description ==\\n\\nThe Isleworth Mona Lisa is of the same subject as the Mona Lisa in the Louvre and there are many similarities between the two. Both paintings depict a dark-haired woman, Lisa Gherardini, who sits at an angle and is surrounded by the landscape behind her. The work measures 84.5 × 64.5 cm, slightly larger than the Louvre Mona Lisa. However, the Isleworth Mona Lisa is differentiated by the model being noticeably younger, having columns, and being painted on canvas. The canvas is of hand-woven lin'),\n",
              " Document(metadata={'title': 'Mona Lisa Overdrive', 'summary': 'Mona Lisa Overdrive is a science fiction novel by American-Canadian writer William Gibson, published in 1988. It is the final novel of the  cyberpunk Sprawl trilogy, following Neuromancer and Count Zero, taking place eight years after the events of the latter. The novel was nominated for the Nebula Award for Best Novel, the Hugo Award for Best Novel, and the Locus Award for Best Science Fiction Novel in 1989.', 'source': 'https://en.wikipedia.org/wiki/Mona_Lisa_Overdrive'}, page_content='Mona Lisa Overdrive is a science fiction novel by American-Canadian writer William Gibson, published in 1988. It is the final novel of the  cyberpunk Sprawl trilogy, following Neuromancer and Count Zero, taking place eight years after the events of the latter. The novel was nominated for the Nebula Award for Best Novel, the Hugo Award for Best Novel, and the Locus Award for Best Science Fiction Novel in 1989.\\n\\n\\n== Plot ==\\nTaking place eight years after the events of Count Zero and fifteen years after Neuromancer, the story is formed from several interconnecting plot threads, and also features characters from Gibson\\'s previous works (such as Molly Millions, the razor-fingered mercenary from Neuromancer).\\nThread one:  concerns Mona, a teen prostitute who has a more-than-passing resemblance to famed Simstim superstar Angie Mitchell. Mona is hired by shady individuals for a \"gig\" which later turns out to be part of a plot to abduct Angie.\\nThread two: focuses on a young Japanese girl named Kumiko, daughter of a yakuza boss sent to London to keep her safe while her father engages in a gang war with other top yakuza leaders. In London, she is cared for by one of her father\\'s retainers, who is also a powerful member of the London Mob. She meets Molly Millions (having altered her appearance and now calling herself \"Sally Shears\", in order to conceal her identity from hostile parties who are implied to be pursuing her), who takes the girl under her wing.\\nThread three: follows a reclusive artist named Slick Henry, who lives in a place named Factory in the Dog Solitude; a large, poisoned expanse of deserted factories and dumps, probably in southern New Jersey. Slick Henry is a convicted car thief whose punishment consisted of having his short-term memory erased every five minutes, leading to continuous confusion and dissociation. Following the end of his sentence, he spends his days creating large robotic sculptures and periodically suffers episodes of time loss, returning to consciousness afterward with no memory of what he did during the blackout. He is hired by an acquaintance to look after the comatose \"Count\" (Bobby Newmark from the second novel, Count Zero, who has hooked himself into a super-capacity cyber-bio harddrive called an Aleph).\\nA theoretical \"Aleph\" would have the RAM capacity to literally contain all of reality, enough that a memory construct of a person would contain the complete personality of the individual and allow it to learn, grow and act independently.\\nThe final plotline follows Angela Mitchell, famous simstim star, and the girl from the second Sprawl novel Count Zero. Angie, thanks to brain manipulations by her father when she was a child, has always had the ability to access cyberspace directly (without a cyberspace deck), but drugs provided by her production company Sense/Net have severely impeded this ability.\\nThe plot culminates when Angie and Bobby \"upload\" their consciousness into the Aleph, on the verge of visiting an alien artificial intelligence apparently found on a planet orbiting Centauri. Mona takes Angie\\'s place as a simstim star following forced cosmetic surgery to make Mona look identical to Angie.\\n\\n\\n== Influences ==\\nThe story of the reclusive artist who makes cybernetic sculptures is a reference to Mark Pauline of Survival Research Labs.\\nThe name of the dense lump of cybernetic hardware that Bobby Newmark\\'s consciousness is jacked into is a direct reference to the short story \"The Aleph\" by Argentinian author Jorge Luis Borges. The titular Aleph is a point in space which contains all other points, and if one were to gaze into the Aleph one would be able to see or experience the entirety of existence.\\n\\n\\n== Reception ==\\nThomas M. Disch reviewed the novel for the New York Times, giving it a mixed review: \"Only in retrospect, however, is Mona Lisa Overdrive a disappointment. Zing by zing, its 45 chapters provide a sufficiency of non-nutritive fun.\" It received positive reviews in Kirkus Reviews and '),\n",
              " Document(metadata={'title': 'Speculations about Mona Lisa', 'summary': 'The 16th-century portrait Mona Lisa, or La Gioconda (La Joconde), painted in oil on a poplar panel by Leonardo da Vinci, has been the subject of a considerable deal of speculation.\\n\\n', 'source': 'https://en.wikipedia.org/wiki/Speculations_about_Mona_Lisa'}, page_content='The 16th-century portrait Mona Lisa, or La Gioconda (La Joconde), painted in oil on a poplar panel by Leonardo da Vinci, has been the subject of a considerable deal of speculation.\\n\\n\\n== Columns and trimming ==\\n\\nIt has for a long time been argued that after Leonardo\\'s death the painting was cut down by having part of the panel at both sides removed. Early copies depict columns on both sides of the figure. Only the edges of the bases can be seen in the original. However, some art historians, such as Martin Kemp, now argue that the painting has not been altered, and that the columns depicted in the copies were added by the copyists. The latter view was bolstered during 2004 and 2005 when an international team of 39 specialists undertook the most thorough scientific examination of the Mona Lisa yet undertaken. Beneath the frame (the current one was fitted to the Mona Lisa in 2004) there was discovered a \"reserve\" around all four edges of the panel. A reserve is an area of bare wood surrounding the gessoed and painted portion of the panel. That this is a genuine reserve, and not the result of removal of the gesso or paint, is demonstrated by a raised edge still existing around the gesso, the result of build up from the edge of brush strokes at the edge of the gesso area.\\nThe reserve area, which was likely to have been as much as 20 mm (0.79 in) originally appears to have been trimmed at some point probably to fit a frame (in the 1906 framing it was the frame itself that was trimmed, not the picture, so it must have been earlier), however at no point has any of Leonardo\\'s actual paint been trimmed. Therefore, the columns in early copies must be inventions of those artists, or copies of another (unknown) studio version of Mona Lisa. \\n\\n\\n== Landscape ==\\nPeople of Arezzo in the Val di Chiana, a valley in Tuscany, have traditionally claimed the Mona Lisa landscape as theirs.  An article published in the journal Cartographica suggests that the landscape consists of two parts which when placed together correspond to Leonardo\\'s topographic map, the Val di Chiana.\\n\\n\\n== Other versions ==\\n\\nIt has been suggested that Leonardo created more than one version of the painting. Another contender is the Isleworth Mona Lisa, which had been hidden in a Swiss bank vault for 40 years before being unveiled to the public on September 27, 2012. The Swiss Federal Institute of Technology in Zurich has dated the piece to Leonardo\\'s lifetime, and an expert in sacred geometry says it conforms to the artist\\'s basic line structures.\\nThe same claim has been made for a version in the Vernon collection. The Vernon Mona Lisa is particularly interesting because it was originally part of the collection at the Louvre. Another version, dating from c. 1616, was given in c. 1790 to Joshua Reynolds by the Duke of Leeds in exchange for a Reynolds self-portrait. Reynolds thought it to be the real painting and the French one a copy, which has now been disproved. It is, however, useful in that it was copied when the original\\'s colors were far brighter than they are now, and so it gives some sense of the original\\'s appearance \\'as new\\'. It is in a private collection, but was  exhibited in 2006 at the Dulwich Picture Gallery.\\nIn January 2012 Museo del Prado in Madrid found a copy of the painting, believed by a pupil of Leonardo, which may have been painted in Leonardo\\'s presence. The copy gives a better indication of what the portrait looked like at the time, as the varnish on the original has become cracked and yellowed with age.\\nGerman imaging researchers Claus-Christian Carbon of the University of Bamberg and Vera Hesslinger of the University of Mainz performed further analysis of the Museo del Prado version, comparing it to Da Vinci\\'s Mona Lisa, and in May 2014 speculated that, based on perspective analysis of key features in the images, the two images were painted at the same time from slightly different viewpoints. They further proposed that two images may therefore form a ste'),\n",
              " Document(metadata={'title': 'Mona Lisa replicas and reinterpretations', 'summary': \"Leonardo da Vinci's Mona Lisa is one of the most recognizable and famous works of art in the world, and one of the most replicated and reinterpreted. Mona Lisa studio versions, copies or replicas were already being painted during Leonardo's lifetime by his own students and contemporaries. Some are claimed to be the work of Leonardo himself, and remain disputed by scholars. Prominent 20th-century artists such as Marcel Duchamp and Salvador Dalí have also produced derivative works, manipulating Mona Lisa's image to suit their own aesthetic. Replicating Renaissance masterpieces continues to be a way for aspiring artists to perfect their painting techniques and prove their skills.\\nContemporary Mona Lisa replicas are often created in conjunction with events or exhibitions related to Leonardo da Vinci, for publicity. Her portrait, public domain and outside of copyright protection, has also been used to make political statements. Aside from countless print-reproductions of Leonardo's original Mona Lisa on postcards, coffee mugs and T-shirts, her likeness has also been re-imagined using coffee, toast, seaweed, Rubik's Cubes, and computer chips, to name only a few. Now over five-hundred years since her creation, the perpetuation of Mona Lisa's influence is reinforced with every reinterpretation.\", 'source': 'https://en.wikipedia.org/wiki/Mona_Lisa_replicas_and_reinterpretations'}, page_content='Leonardo da Vinci\\'s Mona Lisa is one of the most recognizable and famous works of art in the world, and one of the most replicated and reinterpreted. Mona Lisa studio versions, copies or replicas were already being painted during Leonardo\\'s lifetime by his own students and contemporaries. Some are claimed to be the work of Leonardo himself, and remain disputed by scholars. Prominent 20th-century artists such as Marcel Duchamp and Salvador Dalí have also produced derivative works, manipulating Mona Lisa\\'s image to suit their own aesthetic. Replicating Renaissance masterpieces continues to be a way for aspiring artists to perfect their painting techniques and prove their skills.\\nContemporary Mona Lisa replicas are often created in conjunction with events or exhibitions related to Leonardo da Vinci, for publicity. Her portrait, public domain and outside of copyright protection, has also been used to make political statements. Aside from countless print-reproductions of Leonardo\\'s original Mona Lisa on postcards, coffee mugs and T-shirts, her likeness has also been re-imagined using coffee, toast, seaweed, Rubik\\'s Cubes, and computer chips, to name only a few. Now over five-hundred years since her creation, the perpetuation of Mona Lisa\\'s influence is reinforced with every reinterpretation.\\n\\n\\n== Background ==\\n\\nAt the beginning of the 16th century, Leonardo da Vinci was commissioned by Florentine nobleman Francesco del Giocondo to paint a portrait of his wife, Lisa.\\nThe painting is believed to have been undertaken between 1503 and 1506.\\nLeonardo\\'s portrait of Mona Lisa (\"Mona\" or \"Monna\" being the Italian honorific for \"Madame\") has been on display as part of the permanent collection at Paris\\' Louvre museum since 1797. It is also known as La Joconde in French and La Gioconda in Italian. \\nReplicas of Mona Lisa date back to the 16th century,\\nincluding sculptures and etchings inspired by the painting.\\nBut even by the early 20th century, historian Donald Sassoon has stated, Mona Lisa was still \"just a well-respected painting by a famous old master\" and was \"not even the most valued painting in the Louvre.\" The painting\\'s theft on August 11, 1911, and the subsequent media frenzy surrounding the investigation and its recovery ignited public interest and led to the Mona Lisa gaining its current standing.\\nMona Lisa is in the public domain and not subject to copyright, whereas some modern works based on the original such as Marcel Duchamp\\'s L.H.O.O.Q. are protected by copyright law. \\n\\n\\n== Gioconda di Montecitorio ==\\n\\nA 16th Century replica, named Gioconda di Montecitorio or Gioconda Torlonia hangs in the Chamber of Deputies (Italy), acquired from the collection of the Torlonia family. Following a restoration, some scholars assert that Leonardo made it as a replica of the original, while others dispute that conclusion.\\n\\n\\n== Isleworth Mona Lisa ==\\n\\nA version of the Mona Lisa known as the Isleworth Mona Lisa and the Earlier Mona Lisa was first bought by an English nobleman in 1778 and was rediscovered in 1913 by Hugh Blaker, an art connoisseur. The painting was presented to the media in 2012 by the Mona Lisa Foundation.\\nThe current scholarly consensus on attribution is unclear. Some experts, including Frank Zöllner, Martin Kemp and Luke Syson denied the attribution; professors such as Salvatore Lorusso, Andrea Natali, and John F Asmus supported it; others like Alessandro Vezzosi and Carlo Pedretti were uncertain.\\n\\n\\n== Prado Mona Lisa ==\\n\\nIn 2011, the Prado in Madrid, Spain, announced discovery of what may be the earliest known replica.\\nMiguel Falomir, heading the Department of Italian Renaissance Painting at the time of the discovery, stated the Prado \"had no idea of (the painting\\'s) significance\" until a recent restoration.\\nRecovered from the Prado\\'s vaults, the replica – which El Mundo newspaper dubbed \"Mona Lisa\\'s twin\" (above, far right) – was reportedly painted simultaneously alongside Leonardo as he painted his own Mona Lisa; in the same'),\n",
              " Document(metadata={'title': 'Mona Lisa (Hermitage)', 'summary': 'Hermitage Mona Lisa is a painting on canvas, which was made by an unknown painter in the mid-16th century and is located in the Hermitage Museum of Saint Petersburg. It was transferred from the Antikvariat All-Union Association and entered the Hermitage in 1931.', 'source': 'https://en.wikipedia.org/wiki/Mona_Lisa_(Hermitage)'}, page_content=\"Hermitage Mona Lisa is a painting on canvas, which was made by an unknown painter in the mid-16th century and is located in the Hermitage Museum of Saint Petersburg. It was transferred from the Antikvariat All-Union Association and entered the Hermitage in 1931.\\n\\n\\n== Description ==\\nThis is a portrait of Lisa Gherardini, best known as Mona Lisa or Gioconda, and is a clear copy of Leonardo da Vinci's early 16th century Mona Lisa. This version slightly differs from da Vinci's artwork, exhibited at the Louvre in Paris, and its good workmanship, legibility, and expressiveness have been pointed out. The execution of the portrait is presumably of Nordic Europe derivation, in particular German-Flemish. \\nThe face of the model is younger than da Vinci's version, and the rear panorama presents two columns, which are absent in the original. Many have called this picture Gioconda with columns. Two columns are found in other copies such as Gioconda of Oslo in National Museum of Art, Architecture and Design, Gioconda of Baltimore in Walters Art Museum and Gioconda of Reynolds in Dulwich Picture Gallery.\\n\\n\\n== Analysis ==\\nScientific analysis was carried out on the canvas and baryte, called barium sulphate in chemistry, was found. It is a mineral used for the preparation of the support, especially in the years ranging from 1620 to 1680, but when this substance was used, Leonardo had been dead for more than a century.\\n\\n\\n== See also ==\\nMona Lisa (Prado)\\nIsleworth Mona Lisa\\nTwo-Mona Lisa theory\\nMona Lisa replicas and reinterpretations\\n\\n\\n== Notes ==\"),\n",
              " Document(metadata={'title': 'Lisa del Giocondo', 'summary': \"Lisa del Giocondo (Italian pronunciation: [ˈliːza del dʒoˈkondo]; née Gherardini [ɡerarˈdiːni]; June 15, 1479 – July 14, 1542) was an Italian noblewoman and member of the Gherardini family of Florence and Tuscany. Her name was given to the Mona Lisa, her portrait commissioned by her husband and painted by Leonardo da Vinci in the Italian Renaissance.\\nLittle is known about Lisa's life. Lisa was born in Florence. She married in her teens to a cloth and silk merchant who later became a local official; she was a mother to six children and led what is thought to have been a comfortable and ordinary life. Lisa outlived her husband, who was considerably her senior.\\nIn the centuries after Lisa's life, the Mona Lisa became the world's most famous painting. In 2005, Lisa was identified as a subject for a da Vinci portrait around 1503, strongly reinforcing the traditional view of her as the model for Mona Lisa.\\n\\n\", 'source': 'https://en.wikipedia.org/wiki/Lisa_del_Giocondo'}, page_content=\"Lisa del Giocondo (Italian pronunciation: [ˈliːza del dʒoˈkondo]; née Gherardini [ɡerarˈdiːni]; June 15, 1479 – July 14, 1542) was an Italian noblewoman and member of the Gherardini family of Florence and Tuscany. Her name was given to the Mona Lisa, her portrait commissioned by her husband and painted by Leonardo da Vinci in the Italian Renaissance.\\nLittle is known about Lisa's life. Lisa was born in Florence. She married in her teens to a cloth and silk merchant who later became a local official; she was a mother to six children and led what is thought to have been a comfortable and ordinary life. Lisa outlived her husband, who was considerably her senior.\\nIn the centuries after Lisa's life, the Mona Lisa became the world's most famous painting. In 2005, Lisa was identified as a subject for a da Vinci portrait around 1503, strongly reinforcing the traditional view of her as the model for Mona Lisa.\\n\\n\\n== Early life ==\\nLisa's Florentine family was old and aristocratic, but over time had lost their influence. They were well off but not wealthy, and lived on a farm income in a city where there were great disparities in wealth among inhabitants. Antonmaria di Noldo Gherardini, Lisa's father, came from a family who had lived on properties near San Donato in Poggio and only recently moved to the city. Gherardini at one time owned or rented six farms in Chianti that produced wheat, wine, and olive oil and where livestock was raised.\\nIn 1465, Gherardini married Lisa di Giovanni Filippo de' Carducci, and in 1473 remarried to Caterina di Mariotto Rucellai; both of them died in childbirth. Lisa's mother was Lucrezia del Caccia, daughter of Piera Spinelli, and Gherardini's wife by his third marriage in 1476. Lisa was born in Florence on June 15, 1479, on Via Maggio, although for many years it was thought she was born on Villa Vignamaggio just outside Greve, one of the family's rural properties. She was named for Lisa, a wife of her paternal grandfather. The eldest of seven children, Lisa had three sisters, one of whom was named Ginevra, and three brothers, Giovangualberto, Francesco, and Noldo.\\nThe family lived in Florence, originally near Santa Trinita and later in rented space near Santo Spirito, likely because they were unable to afford repairs when their first house was damaged. Lisa's family moved to what today is called Via dei Pepi, and then near Santa Croce, where they lived near Ser Piero da Vinci, Leonardo's father. They also owned a small country home in San Donato in the village of Poggio about 32 kilometres (20 mi) south of the city. Noldo, Gherardini's father and Lisa's grandfather, had bequeathed a farm in Chianti to the Santa Maria Nuova hospital. Gherardini secured a lease for another of the hospital's farms; the family spent summers there at the house named Ca' di Pesa, so that Gherardini could oversee the wheat harvest.\\n\\n\\n== Marriage and later life ==\\nOn March 5, 1495, 15-year-old Lisa married 29-year-old Francesco di Bartolomeo del Giocondo, an ambitious cloth and silk merchant, becoming his second wife. Her age at marriage was around the norm for Florentine women of the time, who often married men ten or more years their senior. Because her father had not participated in the custom of saving cash at a daughter's birth that compounded interest for dowries, Lisa's dowry was land: her father's most valuable property in Chianti, the San Silvestro farm near her family's country home, which lies between Castellina and San Donato in Poggio, near two farms later owned by Michelangelo. The farm was valued at 400 florins, and its contents at 170 florins. The modest dowry may be a sign that the Gherardini family was not wealthy at the time. Art historian Frank Zöllner says the dowry's small size lends reason to think Francesco may have had true affection for Lisa.\\nNeither poor nor among the most well-to-do in Florence, the couple lived a comfortable middle-class life. Historian Donald Sassoon says they were upwardly mobile and \"),\n",
              " Document(metadata={'title': 'Mona Lisa and the Blood Moon', 'summary': 'Mona Lisa and the Blood Moon is a 2021 American fantasy thriller film written and directed by Ana Lily Amirpour. It stars Kate Hudson, Jun Jong-seo, Ed Skrein, Evan Whitten, and Craig Robinson.\\nThe film had its world premiere at the 78th Venice International Film Festival on September 5, 2021. It was released in the United States on September 30, 2022, by Saban Films.\\n\\n', 'source': 'https://en.wikipedia.org/wiki/Mona_Lisa_and_the_Blood_Moon'}, page_content='Mona Lisa and the Blood Moon is a 2021 American fantasy thriller film written and directed by Ana Lily Amirpour. It stars Kate Hudson, Jun Jong-seo, Ed Skrein, Evan Whitten, and Craig Robinson.\\nThe film had its world premiere at the 78th Venice International Film Festival on September 5, 2021. It was released in the United States on September 30, 2022, by Saban Films.\\n\\n\\n== Plot ==\\nMona Lisa Lee is a patient in a mental institution near New Orleans. After silently enduring abusive treatment, she uses a telepathic power to escape, injuring several workers who stand in her way. Wandering the streets aimlessly at night, she encounters various strangers, some of them hostile or menacing. Her strange behavior brings her to the attention of a policeman, Officer Harold, who tries to arrest her. She uses her power to cause him to shoot himself in the knee.\\nNext, she saves a woman named Bonnie Belle who is losing a fistfight in the parking lot of a fast food restaurant. Bonnie Belle, a stripper who is a single mother, befriends Mona Lisa and takes her home. Mona bonds with Bonnie\\'s young son, Charlie.\\nBonnie exploits Mona Lisa\\'s power to rob a man at an ATM, and to extort unintended tips from the patrons of the nightclub where she dances. Mona Lisa\\'s actions bring her to the attention of Officer Harold, as he continues to investigate. When he confronts the two women, Bonnie\\'s actions cause Mona Lisa to see through her and she ends the friendship. Alone, Bonnie is attacked and badly beaten by a group of men she had defrauded earlier.\\nMona Lisa decides to leave town and offers to take Charlie with her. Charlie accepts. When they are nearly apprehended by Officer Harold at the airport, Charlie creates a distraction so that Mona Lisa can escape.\\n\\n\\n== Cast ==\\nKate Hudson as Bonnie \"Bonnie Belle\" Hunt\\nJun Jong-seo as Mona Lisa Lee\\nCraig Robinson as Officer Harold\\nEd Skrein as Fuzz\\nEvan Whitten as Charlie Hunt\\n\\n\\n== Production ==\\nIn October 2018, it was announced Kate Hudson, Craig Robinson, Altonio Jackson, and Zac Efron had joined the cast of the film, with Ana Lily Amirpour directing from a screenplay she wrote. John Lesher will serve as a producer under his Le Grisbi Productions banner. Black Bicycle Entertainment is producing in association with wiip, Luke Rodgers will executive produce. In April 2019, Jun Jong-seo joined the cast of the film. In July 2019, it was announced Ed Skrein and Evan Whitten had joined the cast of the film, with Skrein replacing Efron.\\nPrincipal photography began in July 2019. Alongside original music by Daniele Luppi, the soundtrack includes several songs by Bottin. It was filmed on location in New Orleans, Louisiana.\\n\\n\\n== Release ==\\nMona Lisa and the Blood Moon had its world premiere at the 78th Venice International Film Festival on September 5, 2021. In March 2022, Saban Films acquired distribution rights to the film. It was released in the United States on September 30, 2022.\\n\\n\\n== Reception ==\\nOn the review aggregator website Rotten Tomatoes, the film holds an approval rating of 74% based on reviews from 68 critics, with an average rating of 6.6/10. The website\\'s critics consensus reads, \"Mona Lisa and the Blood Moon finds writer-director Ana Lily Amirpour spinning a stylishly lurid – if somewhat narratively undercooked – fantasy yarn.\" Metacritic, which uses a weighted average, assigned the film a score of 69 out of 100, based on 19 critics, indicating \"generally favorable reviews\".\\nScreen Rant has rated it 3.5 stars.\\n\\n\\n== References ==\\n\\n\\n== External links ==\\nMona Lisa and the Blood Moon at IMDb'),\n",
              " Document(metadata={'title': 'Two–Mona Lisa theory', 'summary': 'The two–Mona Lisa theory is a longstanding theory proposed by various historians, art experts, and others that Leonardo da Vinci painted two versions of the Mona Lisa. Several of these experts have further concluded that examination of historical documents indicates that one version was painted several years before the second.\\nThe journalist Dianne Hales has noted that \"the two–Mona Lisa theory has been around a long time\", observing that the sixteenth-century painter and art theorist Gian Paolo Lomazzo identifies two versions of the painting in his 1584 Treatise on Painting. The theory itself may be impossible to definitively prove or disprove, but proponents of the theory highlight a number of pieces of documentary and physical evidence. Among these is the fact that there are several paintings of which Leonardo is known to have painted two versions, and historical accounts such as Lomazzo\\'s writing suggesting that Leonardo similarly worked on two paintings, a Gioconda and a Mona Lisa. Furthermore, various accounts contain inconsistencies and incompatibilities with respect to the dates when Leonardo began and ended work on the painting, by whom it was commissioned, the state of completion in which it was left, and what ultimately became of it. These inconsistencies and incompatibilities are asserted to be broadly resolved with the explanation that there were two versions of the painting having different dates of initiation and states of completion, painted for different patrons, and having different profiles and fates.\\nAlso cited as a key piece of evidence is a contemporaneous sketch of the painting by Raphael, who observed the painting while visiting Leonardo\\'s studio. The sketch contains characteristics differing from the Mona Lisa in the Louvre, including prominent columns that were initially argued to have been trimmed from the original. However, in 1993 it was demonstrated that the painting in the Louvre had never been trimmed, bolstering claims that Raphael saw a different version of the painting. Other descriptions by eyewitnesses and others living in the period have also been read as indicating that Leonardo painted two paintings of the subject of the Mona Lisa, with several characteristics differing from the painting in the Louvre.\\nThe author John R. Eyre made an extensive case for the theory in his 1915 Monograph on Leonardo da Vinci\\'s Mona Lisa, and Léon Roger-Milès made a similar case in his 1923 book, Leonard de Vinci et les Jocondes. Several more recent examinations of the evidence have led other authors to similar conclusions. While it is possible that a first version was produced by Leonardo and later lost or destroyed, proponents of the theory have identified a number of existing alternative versions of the Mona Lisa as candidates for having also been painted by Leonardo. These include versions more similar to the original such as the Prado Mona Lisa, but more particularly those versions that closely resemble Raphael\\'s sketch and other historical accounts, such as the Vernon Mona Lisa (which is no longer considered a candidate after tests showed that it was painted after Leonardo\\'s death), and the Isleworth Mona Lisa, the latter having received the most substantial support.', 'source': 'https://en.wikipedia.org/wiki/Two%E2%80%93Mona_Lisa_theory'}, page_content='The two–Mona Lisa theory is a longstanding theory proposed by various historians, art experts, and others that Leonardo da Vinci painted two versions of the Mona Lisa. Several of these experts have further concluded that examination of historical documents indicates that one version was painted several years before the second.\\nThe journalist Dianne Hales has noted that \"the two–Mona Lisa theory has been around a long time\", observing that the sixteenth-century painter and art theorist Gian Paolo Lomazzo identifies two versions of the painting in his 1584 Treatise on Painting. The theory itself may be impossible to definitively prove or disprove, but proponents of the theory highlight a number of pieces of documentary and physical evidence. Among these is the fact that there are several paintings of which Leonardo is known to have painted two versions, and historical accounts such as Lomazzo\\'s writing suggesting that Leonardo similarly worked on two paintings, a Gioconda and a Mona Lisa. Furthermore, various accounts contain inconsistencies and incompatibilities with respect to the dates when Leonardo began and ended work on the painting, by whom it was commissioned, the state of completion in which it was left, and what ultimately became of it. These inconsistencies and incompatibilities are asserted to be broadly resolved with the explanation that there were two versions of the painting having different dates of initiation and states of completion, painted for different patrons, and having different profiles and fates.\\nAlso cited as a key piece of evidence is a contemporaneous sketch of the painting by Raphael, who observed the painting while visiting Leonardo\\'s studio. The sketch contains characteristics differing from the Mona Lisa in the Louvre, including prominent columns that were initially argued to have been trimmed from the original. However, in 1993 it was demonstrated that the painting in the Louvre had never been trimmed, bolstering claims that Raphael saw a different version of the painting. Other descriptions by eyewitnesses and others living in the period have also been read as indicating that Leonardo painted two paintings of the subject of the Mona Lisa, with several characteristics differing from the painting in the Louvre.\\nThe author John R. Eyre made an extensive case for the theory in his 1915 Monograph on Leonardo da Vinci\\'s Mona Lisa, and Léon Roger-Milès made a similar case in his 1923 book, Leonard de Vinci et les Jocondes. Several more recent examinations of the evidence have led other authors to similar conclusions. While it is possible that a first version was produced by Leonardo and later lost or destroyed, proponents of the theory have identified a number of existing alternative versions of the Mona Lisa as candidates for having also been painted by Leonardo. These include versions more similar to the original such as the Prado Mona Lisa, but more particularly those versions that closely resemble Raphael\\'s sketch and other historical accounts, such as the Vernon Mona Lisa (which is no longer considered a candidate after tests showed that it was painted after Leonardo\\'s death), and the Isleworth Mona Lisa, the latter having received the most substantial support.\\n\\n\\n== Evidence cited for the theory ==\\n\\n\\n=== Propensity for painting multiple versions of works ===\\nA number of authors have noted that Leonardo often painted two versions of his works, and also often left works unfinished, leaving his students to complete the missing portions. For example, Frank Zöllner wrote of Leonardo\\'s two versions of the Virgin of the Rocks, and Eyre, in his 1915 monograph, wrote that Leonardo \"almost invariably commenced two versions of each of his works, which he rarely finished\", citing the Virgin of the Rocks along with two versions of Saint John the Baptist and of Leda and the Swan, and two versions each of drawings of Isabella d\\'Este, the Adoration of the Magi, and Saint Anne.:\\u200a12\\u200a\\n\\n\\n=== References to multiple v'),\n",
              " Document(metadata={'title': 'My Cousin Vinny', 'summary': \"My Cousin Vinny is a 1992 American comedy film directed by Jonathan Lynn from a screenplay by Dale Launer. It stars Joe Pesci, Ralph Macchio, Marisa Tomei, Mitchell Whitfield, Lane Smith, Bruce McGill, and Fred Gwynne in his final film appearance before his death. The film was distributed by 20th Century Fox, and released in the United States on March 13, 1992.\\nMacchio and Whitfield play William Gambini and Stanley Rothenstein, two young New Yorkers who are arrested in Alabama and put on trial for a murder they did not commit. Unable to afford a lawyer, they are defended by Gambini's cousin Vinny Gambini (Pesci), newly admitted to the bar, who arrives with his fiancée, Mona Lisa Vito (Tomei). The clash between the brash Italian-American New Yorkers and the more reserved Southern townspeople provides much of the film's humor. The principal location of filming was Monticello, Georgia.\\nMy Cousin Vinny was a critical and financial success, with Pesci, Gwynne, Macchio and Tomei praised for their performances. Tomei won the Academy Award for Best Supporting Actress. Attorneys have also lauded the film for its accurate depiction of criminal procedure and trial strategy.\", 'source': 'https://en.wikipedia.org/wiki/My_Cousin_Vinny'}, page_content=\"My Cousin Vinny is a 1992 American comedy film directed by Jonathan Lynn from a screenplay by Dale Launer. It stars Joe Pesci, Ralph Macchio, Marisa Tomei, Mitchell Whitfield, Lane Smith, Bruce McGill, and Fred Gwynne in his final film appearance before his death. The film was distributed by 20th Century Fox, and released in the United States on March 13, 1992.\\nMacchio and Whitfield play William Gambini and Stanley Rothenstein, two young New Yorkers who are arrested in Alabama and put on trial for a murder they did not commit. Unable to afford a lawyer, they are defended by Gambini's cousin Vinny Gambini (Pesci), newly admitted to the bar, who arrives with his fiancée, Mona Lisa Vito (Tomei). The clash between the brash Italian-American New Yorkers and the more reserved Southern townspeople provides much of the film's humor. The principal location of filming was Monticello, Georgia.\\nMy Cousin Vinny was a critical and financial success, with Pesci, Gwynne, Macchio and Tomei praised for their performances. Tomei won the Academy Award for Best Supporting Actress. Attorneys have also lauded the film for its accurate depiction of criminal procedure and trial strategy.\\n\\n\\n== Plot ==\\nWhile driving through Alabama, New York college students Bill Gambini and Stan Rothenstein stop at a convenience store, during which Bill accidentally shoplifts a can of tuna. After they leave, the boys are pulled over and arrested as the shopkeeper has been found robbed and murdered. At the police station, Bill assumes he has been arrested for shoplifting and confesses to being responsible, resulting in him being charged with first-degree murder and Stan as an accessory. Unable to afford a private lawyer, Bill asks for help from his cousin Vinny Gambini, a personal injury lawyer from Brooklyn, who agrees to help the boys. However, they are unaware that Vinny has only just passed the bar to become a lawyer, after multiple failed attempts, and has no trial experience. Vinny promptly arrives in Alabama with his fiancée Mona Lisa Vito.\\nVinny fools the trial judge, Chamberlain Haller, into believing he is an experienced New York lawyer who works under the alias Jerry Callo. Haller repeatedly holds Vinny in contempt for his unprofessional attire, attitude, and ignorance of courtroom decorum, resulting in brief stints in jail. The prosecuting district attorney, Jim Trotter III, presents a strong—although circumstantial—case against the boys, offering multiple witnesses to their involvement in the murder. Bill and Stan become concerned when Vinny declines to cross-examine the witnesses during the preliminary hearing, resulting in Stan firing Vinny and hiring the public defender, John Gibbons.\\nVinny's inexperience with the legal system leads him to try to trick Trotter into sharing his evidence until Lisa tells Vinny that he legally can access the prosecution's evidence and prompts him to interview the witnesses, which he does. She grows frustrated with Vinny as he promised several years earlier that they would get married when he wins his first case and is worried he never will. Vinny is also eager to prove himself to his mentor Judge Malloy, who convinced him to go into law.\\nDuring the trial, Gibbons's nerves and severe stutter only further damage Stan's defense. Meanwhile, Vinny uses an aggressive but perceptive questioning style to discredit Trotter's witnesses, using his knowledge of the cooking time of grits to force one to admit that his perception of when the crime occurred is inaccurate, and the others by questioning their ability to positively identify the suspects due to obstructions in their sightline and impaired vision. Stan promptly rehires Vinny to defend him.\\nThe next day, Trotter produces a surprise witness, FBI analyst George Wilbur, who testifies that tire markings at the crime scene match those on the boys' 1964 Buick Skylark, although Vinny makes him admit that the tires are the most used in America. Haller orders a lunch recess and denies V\"),\n",
              " Document(metadata={'title': 'Salaì', 'summary': \"Gian Giacomo Caprotti da Oreno, better known as Salaì (1480 – 19 January 1524) was an Italian artist and pupil of Leonardo da Vinci from 1490 to 1518. Salaì entered Leonardo's household at the age of ten. Salai created paintings under the name of Andrea Salaì. He was described as one of Leonardo's students and lifelong companion and servant and was the model for Leonardo's St. John the Baptist, Bacchus, and Angelo incarnato.\\n\\n\", 'source': 'https://en.wikipedia.org/wiki/Sala%C3%AC'}, page_content='Gian Giacomo Caprotti da Oreno, better known as Salaì (1480 – 19 January 1524) was an Italian artist and pupil of Leonardo da Vinci from 1490 to 1518. Salaì entered Leonardo\\'s household at the age of ten. Salai created paintings under the name of Andrea Salaì. He was described as one of Leonardo\\'s students and lifelong companion and servant and was the model for Leonardo\\'s St. John the Baptist, Bacchus, and Angelo incarnato.\\n\\n\\n== Early life ==\\n\\nSalaì was born in 1480 as son of Pietro di Giovanni, a tenant of Leonardo\\'s vineyard near the Porta Vercellina, Milan. \\nSalai joined Leonardo\\'s household at the age of ten as an assistant. Giorgio Vasari describes Salaì as \"a graceful and beautiful youth with curly hair, in which Leonardo greatly delighted\". Although Leonardo described him as \"a liar, a thief, stubborn, and a glutton\" and he stole from Leonardo on at least five occasions, he kept Salaì in his household for more than 25 years, in which Salaì trained as an artist. Salaì became a capable, although not very impressive, painter, who created several works, including the Monna Vanna, a nude version of the Mona Lisa which may be based on a charcoal sketch by Leonardo. He is also considered to be a potential creator of the Prado\\'s copy of the Mona Lisa. Walter Isaacson, an author, says in his opinion Leonardo had a homosexual relationship with Salai.\\nLeonardo is thought to have used Salaì as the model for several of his works, specifically St. John the Baptist, Bacchus and Angelo Incarnato. Some researchers also believe that Salaì–and not Lisa del Giocondo–was the real model for the Mona Lisa, but this claim is disputed by the Louvre.\\n\\nDuring Leonardo\\'s second stay in Milan, he took another young pupil, Francesco Melzi. Unlike Salaì, Francesco was a son of a nobleman. When Leonardo traveled to Rome in 1513 and to France in 1516, Salaì and Melzi both accompanied him. As an adult, Melzi became secretary and main assistant of Leonardo, and undertook to prepare Leonardo\\'s writings for publication. Vasari wrote that Melzi \"at the time of Leonardo was a very beautiful and very much loved young man\". In France, Francesco Melzi was greeted as \"Italian gentleman living with master Leonardo\" and granted donation of 400 ecus, while Salaì, 36 years old, was described as \"servant\" and granted a one time donation of 100 ecus.\\nSalaì left France and Leonardo, in 1518. Salai later returned to Milan to work on Leonardo\\'s vineyard, previously worked by Salaì\\'s father, half of which was granted to him in Leonardo\\'s will. It is commonly believed that upon Leonardo\\'s death in 1519, Salaì inherited several paintings including the Mona Lisa. Through his estate, many of those works notably the Mona Lisa, passed into the possession of Francis I of France. While Leonardo left all personal belongings, paintings, drawings and notes to Francesco Melzi in his will, it is unclear whether this included the Mona Lisa.\\nOn 14 June 1523, at age 43, Salaì married Bianca Coldirodi d\\'Annono. Salaì died in 1524 as a result of a wound received from a crossbow in a duel and was buried in Milan on 10 March 1524.\\n\\n\\n== Salaì\\'s sexuality ==\\n\\nA number of drawings among the works of Leonardo and his pupils make reference to Salaì\\'s sexuality.  There is a drawing modelled on Leonardo\\'s painting John the Baptist and called The Angel Incarnate (Angelo incarnato), of a young man nude with an erect phallus, and representing Salaì. It is accepted as by Leonardo\\'s hand. The face of the figure is closer to Salaì\\'s copy of Leonardo\\'s painting John the Baptist, than to the original in the Louvre. \\nLeonardo‘s folio Codex Atlanticus includes two pages (132 and 133, verso) of drawings by a hand other than Leonardo\\'s, one of which is a crudely drawn sketch depicting an anus, identified as \"Salaì\\'s bum\", pursued by penises on legs.\\n\\n\\n== Relationship to the Mona Lisa ==\\nA group of Italian researchers has claimed that Salaì was the model for the Mona Lisa, noting the similarity in some of the '),\n",
              " Document(metadata={'title': 'Mona Lisa (actress)', 'summary': 'Gloria Lerma Yatco  (June 22, 1922 – August 25, 2019), better known by her stage name Mona Lisa, was a Filipina film actress. Known by the screen name Fleur de Lis before and during World War II, she was one of the renowned Filipina actresses of the late 1930s and 1940s.', 'source': 'https://en.wikipedia.org/wiki/Mona_Lisa_(actress)'}, page_content='Gloria Lerma Yatco  (June 22, 1922 – August 25, 2019), better known by her stage name Mona Lisa, was a Filipina film actress. Known by the screen name Fleur de Lis before and during World War II, she was one of the renowned Filipina actresses of the late 1930s and 1940s.\\n\\n\\n== Career ==\\nShe was paired with Ely Ramos in LVN Pictures\\' Giliw Ko, along with LVN\\'s first leading actress Mila del Sol and Fernando Poe. The film, directed by Carlos Vander Tolosa, is also remembered because Mona Lisa\\'s appearance made history as she became the first actress to appear in a Filipino film wearing a bathing suit.\\nAfter WWII, she came back to the limelight as Mona Lisa, top billed with Teddy Benavidez in Kalbario ng Isang Ina (1946) and Siyudad sa Ilalim ng Lupa (1949) opposite Fernando Royo.\\nMona Lisa paired with some of the Philippines\\' finest actors of the 1940s such as Ricardo Brillantes in Batang Lansangan, Pag-ibig at Patalim (1948) opposite Teddy Benavidez and Hanggang Langit (1947) with the Philippine actor known as \"The Great Profile\" Leopoldo Salcedo.\\nIn the mid-40s, Mona Lisa paired several times with action/drama actor Fernando Poe in movies like Intramuros (1946), The 13th Sultan and Sagur, both in 1949.\\nBefore the war struck Manila, Mona Lisa paired with famous debonair actor of the 40s Serafin Garcia in the movie Tinangay ng Apoy in 1940 and second lead only to the Philippines\\' newest screen siren of the early 1940s Paraluman opposite Fernando Poe.\\nMona Lisa portrayed a war-shock civilian in 1952\\'s Ulila ng Bataan opposite Sampaguita Pictures girl wonder Tessie Agana and Buhay Alamang (Paglukso\\'y Patay), along with Sampaguita actor Fred Montilla combined with premier actress Anita Linda also in 1952.\\nShe resumed her film career in 1970 after an absence of nearly two decades, and remained active in the industry where she got a Best Supporting Actress Award for Insiang, and another Best Supporting Actress Award for the Metro Manila Film Festival in 1977 consecutively, where she portrayed a sex hungry mother of Insiang played by Hilda Koronel.\\nSome of her films from the mid to late 70s were as a supporting actress to lead actors such as Rio Locsin in Risa Jones: Showgirl! (1979), Atsay (1978) with Nora Aunor, Pagputi ng Uwak, Pag-itim ng Tagak (1978) with Vilma Santos and Bembol Roco, Mananayaw (1978) with Chanda Romero and Phillip Salvador, Hindi Kami Damong Ligaw (1976) with Charito Solis, and Itim (1976), in which she plays the mother of the character interpreted by a then promising talent and rising star, Charo Santos.\\nHer last movie, Mother Ignacia, in which she plays a nun in a Catholic church, was released in 1998.\\nA book on her life and career in show business written by her granddaughter, Mona Lisa: A Portrait (From the Memoirs of a Grandmother), was published in 2013 by ABS-CBN Publishing Inc.\\n\\n\\n== Death ==\\nLisa died in her sleep on August 25, 2019, at her home in Manila, three years after she was diagnosed with Alzheimer\\'s disease, at the age of 97.\\n\\n\\n== Filmography ==\\n\\n\\n=== Film ===\\n\\n\\n=== Television ===\\n\\n\\n== Awards and nominations ==\\n\\n\\n== References ==\\n\\n\\n== External links ==\\nMona Lisa at IMDb'),\n",
              " Document(metadata={'title': 'MonaLisa Twins', 'summary': 'MonaLisa Twins are a pop rock band, fronted by twin-sister singer-songwriters Mona Wagner (vocals, rhythm guitar, percussion, harmonica, flute, recorder) and Lisa Wagner (vocals, lead guitar, ukulele, cello).', 'source': 'https://en.wikipedia.org/wiki/MonaLisa_Twins'}, page_content=\"MonaLisa Twins are a pop rock band, fronted by twin-sister singer-songwriters Mona Wagner (vocals, rhythm guitar, percussion, harmonica, flute, recorder) and Lisa Wagner (vocals, lead guitar, ukulele, cello).\\n\\n\\n== Biography ==\\nThe twins were born in Vienna, Austria on June 16, 1994 and are based in Liverpool, in the United Kingdom. Known for their YouTube video covers of songs by the Beatles and other 1960s bands, many of which have been issued on a series of albums, they also have released three albums of original songs, inspired by the music of the 1960s. They have toured with Steve Harley & Cockney Rebel, performed with them at the Glastonbury Festival in 2017, collaborated with American musician John Sebastian, and held a two-year residency at the Cavern Club.\\nThe band's producer is the twins' father, Rudolf Wagner, who also plays the bass and piano, and co-writes and arranges their music, which is recorded in the Wagner family's own music studio. Rudolf's wife and the twins' stepmother, Michaela Wagner, is the band's manager and assistant. The family lived in a small village in the Groß-Enzersdorf municipality near Vienna until 2014, when they moved to a suburb of Liverpool.\\nThe band typically has a four-person line-up for live concerts, with Mona and Lisa Wagner mostly playing guitars, and some harmonica and ukulele, respectively, on stage, while being backed by different bassists and drummers. In 2012 and 2013, while they were still based in Austria, those musicians were usually Michael Mozeth (bass) and Philipp Wolf (drums). Since 2014, including the two-year residency at the Cavern Club, they have been backed by several local British musicians.\\n\\n\\n== Musical style and development ==\\n\\n\\n=== Genres ===\\nThe Twins started interpreting rock and roll hits from the 1960s and 1970s, including some folk songs. Throughout their career, they have created their original songs in the style of rock & roll and rock pop, but also ballads, paired with quality video clips. Both work symbiotically as a team in their audio and video recordings.\\n\\n\\n=== Influences ===\\nThe MonaLisa Twins have been particularly influenced by the Beatles. They are known for their covers of Beatles hits, but are also influenced and inspired by rock and pop from other artists and bands of the time. Their original music has also been primarily moved by rock and pop from the 1960s and 1970s, usually having the presence of an electric guitar in both their covers and original songs.\\nThe Beatles' press officer, Tony Barrow, has praised the duo, particularly their vocal harmonies.\\n\\n\\n== Discography ==\\n\\n\\n=== Albums ===\\n2007 – MonaLisa & Band, Live in Concert (double CD)\\n2012 – When We're Together (also DVD)\\n2014 – Play Beatles & More\\n2017 – Orange\\n2018 – Play Beatles & More Vol.2\\n2018 – Play Beatles & More Vol.3\\n2019 – Christmas\\n2020 – The Duo Sessions\\n2020 – Live at The Cavern Club (double CD)\\n2022 – Why?\\n2023 – The Duo Sessions II\\n\\n\\n=== EP ===\\n2008 – California Dreaming\\n\\n\\n== References ==\\n\\n\\n== External links ==\\nOfficial website\\nYouTube channel\"),\n",
              " Document(metadata={'title': 'Mona Lisa (singer)', 'summary': 'Kimberly Leadbetter (born November 20, 1979), known professionally as Mona Lisa, is an American pop and R&B singer-songwriter, actress, model, and record producer. She is best known for her debut single \"Can\\'t Be Wasting My Time\" featuring the hip hop group Lost Boyz, which was featured on the Don\\'t Be a Menace to South Central While Drinking Your Juice in the Hood soundtrack, as well as her debut album 11-20-79.\\nIn 2011, her collaboration with labelmate DL, \"First Klass (That Lyfe)\" was released as a digital single. It\\'s the lead single for the King of Paper Chasin\\' soundtrack. Her song, \"Once Upon a Time\" (written by Dennis Cooper) appeared in the film, The Heart Specialist which was released in 2012.', 'source': 'https://en.wikipedia.org/wiki/Mona_Lisa_(singer)'}, page_content='Kimberly Leadbetter (born November 20, 1979), known professionally as Mona Lisa, is an American pop and R&B singer-songwriter, actress, model, and record producer. She is best known for her debut single \"Can\\'t Be Wasting My Time\" featuring the hip hop group Lost Boyz, which was featured on the Don\\'t Be a Menace to South Central While Drinking Your Juice in the Hood soundtrack, as well as her debut album 11-20-79.\\nIn 2011, her collaboration with labelmate DL, \"First Klass (That Lyfe)\" was released as a digital single. It\\'s the lead single for the King of Paper Chasin\\' soundtrack. Her song, \"Once Upon a Time\" (written by Dennis Cooper) appeared in the film, The Heart Specialist which was released in 2012.\\n\\n\\n== Discography ==\\n\\n\\n=== Albums ===\\n1996: 11-20-79\\n\\n\\n=== Singles ===\\n1996 – \"Can\\'t Be Wasting My Time\" (featuring Lost Boyz)\\n1996 – \"You Said\"\\n1996 – \"Our Time to Shine\" (with Lil\\' Kim (\"Don\\'t Be a Menace...\" soundtrack)\\n1997 – \"Just Wanna Please U\" (featuring The LOX)\\n1998 – \"Peach\"\\n2004 – \"Girls\" (with Cam\\'Ron)\\n2007 – \"Get At Me\" (with Sonja Blade)\\n2008 - \"We Can Fly\"(from reckless album)\\n2011 – \"First Klass (That Lyfe)\" (with DL) (\"King of Paper Chasin\\'\" soundtrack)\\n\\n\\n=== Other appearances ===\\n1996 – \"Our Time To Shine (Remix)\"  (with Lil\\' Kim) \"Don\\'t Be A Menace...\" Soundtrack (chorus/background) \\n1996 – \"Music Makes Me High\" (Lost Boyz \"Legal Drug Money\" album (chorus/background, uncredited)\\n1996 – \"Renee\"  Lost Boyz (\"Renee\" alternate side Ep Single, chorus/background uncredited)\\n1997 – \"Silent Night\" (\"A Special Gift\" compilation)\\n1997 – \"Somehow\" (with Voices of Theory & Kurupt)\\n1998 – \"Get\\'n It On\" (\"Woo\" soundtrack)\\n2001 – \"Fever\" (DJ Famous mixtape 15: R&B is Needed) \\n2009 – \"Thug Love\" (Head Crack \"Handle My Business\" album)\\n2012 – \"Once Upon a Life\" (\"The Heart Specialist\" soundtrack)\\n\\n\\n== Videography ==\\n\\n\\n== References ==\\n\\n\\n== External links ==\\nMona Lisa on Twitter\\nMona Lisa on Facebook'),\n",
              " Document(metadata={'title': 'The Ballad of Mona Lisa', 'summary': '\"The Ballad of Mona Lisa\" (commonly referred to as simply \"Mona Lisa\") is a song by American alternative rock band Panic! at the Disco, released February 1, 2011, as the first single from the group\\'s third studio album, Vices & Virtues (2011). Vocalist Brendon Urie wrote the song to express personal struggles and convictions many years prior to its official production for Vices & Virtues. The song impacted radio on February 15, 2011. The song has received positive critical reviews upon its release and reached number 89 on the Billboard Hot 100.', 'source': 'https://en.wikipedia.org/wiki/The_Ballad_of_Mona_Lisa'}, page_content='\"The Ballad of Mona Lisa\" (commonly referred to as simply \"Mona Lisa\") is a song by American alternative rock band Panic! at the Disco, released February 1, 2011, as the first single from the group\\'s third studio album, Vices & Virtues (2011). Vocalist Brendon Urie wrote the song to express personal struggles and convictions many years prior to its official production for Vices & Virtues. The song impacted radio on February 15, 2011. The song has received positive critical reviews upon its release and reached number 89 on the Billboard Hot 100.\\n\\n\\n== Background ==\\n\"The Ballad of Mona Lisa\", written by lead singer Brendon Urie, was one of the first tracks composed for the band\\'s third album, Vices & Virtues. As a song written before the band even began recording their second album, Pretty. Odd., it proved to be an inspiration for the production of Vices & Virtues. \"A few of the ideas — like \"The Ballad of Mona Lisa\", specifically — was from an idea I had probably four years ago, before we even started touring on Pretty. Odd., and it was just sitting in my laptop collecting figurative dust on my hard drive, not really doing much,\" said Urie. \"That ended up being a really good intro to the whole process.\" \"I showed the band a couple times,\" said Urie, \"but it just fell to the wayside, we never did anything with it. Other ideas beat it out or whatever reason it was.” He wrote the song dealing with his own personal convictions and struggles. \"On the surface it can seem like just the story of drama between a guy and a girl,\" explains Urie. \"But it\\'s really about what I\\'ve been going through, an inner-struggle within myself, and fighting the dualities of my personality -- the side that fucks everything up and destroys everything and the other side that tries to pick up the slack. It\\'s all growing pains.\" The song was also inspired by Urie\\'s move from Las Vegas, Nevada, where he\\'s lived his entire life, to Santa Monica, California, with Panic! drummer Spencer Smith. Urie notes that the move was \"a huge part of growing up.\"\\nMusically, the song is similar to those produced for the band\\'s debut album, A Fever You Can\\'t Sweat Out (2005); however, Urie explained in a 2011 interview that the song represented more of a new beginning. Urie said \"It was a new start when Spencer Smith and I started writing, so it was gonna end up sounding different, sonically.\" The music has been described as a combination of buzzsaw riffs, punchy percussion and literate, multi-layered lyrics. The song\\'s title is an allusion to Mona Lisa, the famous Renaissance-era oil painting by Leonardo da Vinci. In a 2011 interview, Urie regarded the name and theme of the song as neither male nor female. “That whole thing with Mona Lisa was the idea that there is this character. For us, you look at the painting, and you can’t tell what this person is thinking. Not showing too much emotion, there’s this Mona Lisa smile masking what’s going on in that person’s head,\" he explained. \"The song is about a battle in yourself […] an inner struggle in oneself. The duality in nature, where you see yourself as a bad person, and the good person trying to correct your bad habits. That’s what it was about. We thought that would be an easy way to describe how we were masking our own emotions and trying to figure out how we can solve the bad choices we make.\"\\n\\n\\n== Release ==\\nThe single was announced in the December 2010 issue of Alternative Press. The track was originally titled \"Mona Lisa\", and was originally due for January 2011. On January 17, 2011, Fueled by Ramen posted a 30-second clip of the track on their Tumblr and YouTube accounts. On January 21, 2011, the song leaked in its entirety, and Panic! at the Disco released a lyric video on YouTube on January 24, 2011. Shortly after its February 1 debut on the iTunes Store, the single shot to #1 on iTunes\\' \"Top Alternative Songs\" chart, and remained a top ten favorite for the weeks following. The music video has had an even greater succe'),\n",
              " Document(metadata={'title': 'The Gender of Mona Lisa', 'summary': 'The Gender of Mona Lisa (性別「モナリザ」の君へ。, Seibetsu \"Mona Lisa\" no Kimi e), also known in English as Just Like Mona Lisa, is a Japanese manga series written and illustrated by Tsumuji Yoshimura. It was serialized on Square Enix\\'s Gangan Online manga website from May 2018 to October 2022.', 'source': 'https://en.wikipedia.org/wiki/The_Gender_of_Mona_Lisa'}, page_content='The Gender of Mona Lisa (性別「モナリザ」の君へ。, Seibetsu \"Mona Lisa\" no Kimi e), also known in English as Just Like Mona Lisa, is a Japanese manga series written and illustrated by Tsumuji Yoshimura. It was serialized on Square Enix\\'s Gangan Online manga website from May 2018 to October 2022.\\n\\n\\n== Publication ==\\nWritten and illustrated by Tsumuji Yoshimura, The Gender of Mona Lisa was serialized on Square Enix\\'s Gangan Online manga website from May 14, 2018 to October 3, 2022. The series\\' chapters were compiled into ten tankōbon volumes from September 21, 2018 to December 12, 2022.\\nThe series is published in English by Comikey and Square Enix through their Manga UP! Global app. During their Anime Expo 2023 panel, Square Enix Manga & Books announced that they would begin publishing the series under the title Just Like Mona Lisa in July 2024.\\n\\n\\n== Reception ==\\nThe series was nominated for the sixth Next Manga Awards in the web category and was ranked 20th out of 50 nominees.\\n\\n\\n== References ==\\n\\n\\n== External links ==\\nOfficial manga website at Gangan Online (in Japanese)\\nThe Gender of Mona Lisa (manga) at Anime News Network\\'s encyclopedia'),\n",
              " Document(metadata={'title': 'I, Mona Lisa', 'summary': \"I, Mona Lisa (UK title Painting Mona Lisa) is a historical novel by Jeanne Kalogridis about Lisa Gherardini, the model for Leonardo da Vinci's painting Mona Lisa. Lisa is portrayed as a young Italian woman who learns about the murder of Giuliano de' Medici, the brother of Lorenzo de' Medici in the Pazzi conspiracy. Guiliano's murder casts a shadow, especially as one of the killers has not been found. She later  falls in love with Giuliano's namesake, Lorenzo's son Giuliano in the aftermath of Girolamo Savonarola's uprising in the late 15th century.\\nIt's an intricately woven tale of betrayal, love, and loss, which unravels the mysteries surrounding Leonardo da Vinci's most famous portrait, Mona Lisa, and its links with the main character Lisa Gherardini, with added plot twists.\", 'source': 'https://en.wikipedia.org/wiki/I,_Mona_Lisa'}, page_content=\"I, Mona Lisa (UK title Painting Mona Lisa) is a historical novel by Jeanne Kalogridis about Lisa Gherardini, the model for Leonardo da Vinci's painting Mona Lisa. Lisa is portrayed as a young Italian woman who learns about the murder of Giuliano de' Medici, the brother of Lorenzo de' Medici in the Pazzi conspiracy. Guiliano's murder casts a shadow, especially as one of the killers has not been found. She later  falls in love with Giuliano's namesake, Lorenzo's son Giuliano in the aftermath of Girolamo Savonarola's uprising in the late 15th century.\\nIt's an intricately woven tale of betrayal, love, and loss, which unravels the mysteries surrounding Leonardo da Vinci's most famous portrait, Mona Lisa, and its links with the main character Lisa Gherardini, with added plot twists.\"),\n",
              " Document(metadata={'title': 'Mona Lisa (Nat King Cole song)', 'summary': '\"Mona Lisa\" is a popular song written by Ray Evans and Jay Livingston for the Paramount Pictures film Captain Carey, U.S.A. (1949), in which it was performed by Sergio de Karlo and a recurrent accordion motif. \\nThe title and lyrics refer to the renaissance portrait Mona Lisa painted by Leonardo da Vinci.\\nThe song won the Academy Award for Best Original Song in 1950.\\n\\n', 'source': 'https://en.wikipedia.org/wiki/Mona_Lisa_(Nat_King_Cole_song)'}, page_content='\"Mona Lisa\" is a popular song written by Ray Evans and Jay Livingston for the Paramount Pictures film Captain Carey, U.S.A. (1949), in which it was performed by Sergio de Karlo and a recurrent accordion motif. \\nThe title and lyrics refer to the renaissance portrait Mona Lisa painted by Leonardo da Vinci.\\nThe song won the Academy Award for Best Original Song in 1950.\\n\\n\\n== Nat King Cole version ==\\nThe song\\'s first musical arrangement was in an orchestration by Nelson Riddle, and the orchestral backing was played by Les Baxter and his Orchestra.  \\nThe recording was originally the B-side of \"The Greatest Inventor Of Them All.\" \\nIn an American Songwriter magazine interview, Jay Livingston recalled that the original advertisements for the record did not even mention \"Mona Lisa\"; only upon returning home from a publicity junket of numerous radio programs did the song become a hit.\\nThe cover version by Nat King Cole spent five weeks at number one on the Billboard singles chart in 1950. Cole\\'s version of the song was inducted into the Grammy Hall of Fame in 1992. Cole recorded this song again in a stereo version (with Ralph Carmichael and his Orchestra) on March 30, 1961. Cole described this song as one of his favorites among his recordings.\\n\\n\\n== Cover versions ==\\nThe Billboard sales charts of 1950 also showed significant sales on versions by Dennis Day, Victor Young (vocal by Don Cherry), Art Lund, Ralph Flanagan (vocal by Harry Prime), Charlie Spivak and Harry James (vocal by Dick Williams). Hit versions for Moon Mullican (No. 4, Country) and Jimmy Wakely (No. 10, Country) were also featured in 1950.\\nIn the UK, the song made No. 2 on the sheet music sales chart, with British cover versions by Ronald Chesney (harmonica), Steve Conway and The Stargazers, Frederick Ferrari, Oscar Rabin and his Band (vocal by Dennis Hale), Joe Loss and his Orchestra, Max Bygraves and Ted Heath and his Music (vocal by Dickie Valentine). In 1959, the song\\'s revival led to it once again entering the sheet music charts and peaking at No. 14. This time, contemporary British covers by Paul Rich and Victor Silvester and his Orchestra were released.\\nA parody version by Yiddish entertainer Mickey Katz and his Orchestra, entitled \"Mona Liza\", with vocal by Anzio Pizza, was also recorded and released when the song was first popular.\\nVarious artists, including Jim Reeves, Elvis Presley (home recording, December 1958), Shakin\\' Stevens 1981, Me First and the Gimme Gimmes, the Neville Brothers 1981, and Nat King Cole\\'s daughter Natalie Cole 1992, have released cover versions of this song. Bruddah Iz (Israel Kamakawiwo\\'ole) also covered the song on the album Alone in IZ World. Bing Crosby recorded the song for his album Songs I Wish I Had Sung the First Time Around in 1956. Harry Connick, Jr. included the song on his 2009 album, Your Songs.\\nA rockabilly version of \"Mona Lisa\" (b/w/ \"Foolish One\") was released by Carl Mann on Phillips International Records (#3539) in March 1959 and reached number 25 on the Billboard Hot 100. Conway Twitty recorded a version of \"Mona Lisa\" in February 1959, but planned to release it only as an album cut (on an EP and an LP, Conway Twitty Sings by MGM Records). Nevertheless, it peaked at number 5 in the UK Singles Chart in that year and in the top 30 in the United States. Sam Phillips signed Carl Mann to record his version of the song after the Twitty version began getting radio play in early 1959. This was the most successful single in Mann\\'s career. The melody is slightly different, and the lyrics are also mostly the same as in the original version by Nat King Cole, though a few more phrases are added in that elaborate more on the girl he likes. Brian Setzer covered the Mann version in his 2005 Rockabilly Riot Vol. 1: A Tribute to Sun Records.\\nAndy Williams released a version on his 1964 album, The Academy Award-Winning \"Call Me Irresponsible\" and Other Hit Songs from the Movies. In 1994, Alexia Vassiliou covered the song in the live alb'),\n",
              " Document(metadata={'title': 'Colored Mona Lisa', 'summary': \"Colored Mona Lisa is a painting created by the American artist Andy Warhol in 1963. The painting, which depicts Leonardo da Vinci’s Mona Lisa, sold for $56.2 million at Christie's in 2015.\", 'source': 'https://en.wikipedia.org/wiki/Colored_Mona_Lisa'}, page_content=\"Colored Mona Lisa is a painting created by the American artist Andy Warhol in 1963. The painting, which depicts Leonardo da Vinci’s Mona Lisa, sold for $56.2 million at Christie's in 2015.\\n\\n\\n== History ==\\nLeonardo da Vinci’s Mona Lisa has become one of the most recognizable paintings in the world since it was created in 1503. In 1963, the painting made a rare voyage across the Atlantic from Paris for exhibitions at the National Gallery of Art in Washington, D.C., and the Metropolitan Museum of Art in New York.  \\nAndy Warhol, the leading artist of the pop art movement, was an enthusiast of pop culture. In response to the US tour of the Mona Lisa, Warhol created his own multicolored depiction, Colored Mona Lisa. It is an early example of his prowess of inextricably linking high art and consumer culture. Metropolitan Museum of Art curator Henry Geldzahler came up with the idea for the painting and the work's source image was taken from a brochure published by the museum. \\nIn May 2015, Warhol's painting sold for $56.2 million at Christie's Post-War and Contemporary Art Evening Sale, surpassing its high estimate of $35 million.\\n\\n\\n== See also ==\\nMona Lisa replicas and reinterpretations\\n\\n\\n== References ==\"),\n",
              " Document(metadata={'title': 'Sara Loren', 'summary': 'Sara Hussain (Urdu: ساره لورين), better known as Sara Loren, is a Pakistani actress and model mostly, known for working in Hindi as well as Urdu movies and television. She is best known for playing a role as Barkhaa in 2015.', 'source': 'https://en.wikipedia.org/wiki/Sara_Loren'}, page_content='Sara Hussain (Urdu: ساره لورين), better known as Sara Loren, is a Pakistani actress and model mostly, known for working in Hindi as well as Urdu movies and television. She is best known for playing a role as Barkhaa in 2015.\\n\\n\\n== Early life ==\\nLoren was born and raised in Kuwait City, in a Pakistani family. Her grandfather migrated to Kuwait from Rajasthan following the Partition of India, and her father and mother are born in Pakistan. During an interview in India she said she belongs to a multi-cultural background as her father is a Rajput from Rajasthan, and also said that she goes to the temple. As a teenager, she relocated with her family to Lahore following the death of her father.\\n\\n\\n== Career ==\\nLoren made her bollywood debut in the 2010 Pooja Bhatt\\'s romantic thriller film Kajraare opposite Himesh Reshammiya and later played seductress Nisha in the 2013 film Murder 3. The following year she starred in Yasir Nawaz\\'s Anjuman for which she won the Tarang Housefull Awards—Best Actress in a Leading Role. Loren made her acting debut in 2003 with the serial Rabia Zinda Rahegi. She has also appeared in Mahnoor, Meharun Nisa, Makan, Mehar Bano aur Shah Bano, Sandal, Riyasat, Help of a Ghost, Dupatta, Umrao jan-e-adaa, Madhosh and was nominated for Best Drama Actress for her performance in Main Mar Gai Shaukat Ali at 2nd Pakistan Media Awards.\\nLoren acted in the stage performances of Anarkali, Shahyad Issi Ka Naam Mohabbat Hai Sheiftaa, in Karachi and Delhi. Loren made her screen debut with the 2010 Pooja Bhatt\\'s Bollywood film Kajraare. The following year, she had a cameo appearance in song \"Love Mein Ghum\" in Reema Khan\\'s Love Mein Ghum. She then played the role of seductress Nisha in the 2013 film Murder 3. The following year, she made her Lollywood debut in Yasir Nawaz\\'s Anjuman. In 2014, she did an item number \"Saiyaan\" in Syed Faisal Bukhari\\'s Saltanat. She then appeared in Shadaab Mirza\\'s Barkhaa, where she played a small town girl turned into bar dancer. The film ran for 50 days but was commercially declared a disaster.\\n\\n\\n== Filmography ==\\n\\n\\n=== Television ===\\n\\n\\n=== Telefilms ===\\n\\n\\n=== Web series ===\\n\\n\\n=== Film ===\\n\\n\\n== Awards and nominations ==\\n\\n\\n== References ==\\n\\n\\n== External links ==\\nSara Loren on Instagram\\nSara Loren on Twitter\\nSara Loren at IMDb\\nSara Loren on Facebook'),\n",
              " Document(metadata={'title': 'L.H.O.O.Q.', 'summary': \"L.H.O.O.Q. (French pronunciation: [ɛl aʃ o o ky]) is a work of art by Marcel Duchamp. First conceived in 1919, the work is one of what Duchamp referred to as readymades, or more specifically a rectified ready-made. The readymade involves taking mundane, often utilitarian objects not generally considered to be art and transforming them, by adding to them, changing them, or (as in the case of his most famous work Fountain) simply renaming and reorienting them and placing them in an appropriate setting. In L.H.O.O.Q. the found object (objet trouvé) is a cheap postcard reproduction of Leonardo da Vinci's early 16th-century painting Mona Lisa onto which Duchamp drew a moustache and beard in pencil and appended the title.\", 'source': 'https://en.wikipedia.org/wiki/L.H.O.O.Q.'}, page_content='L.H.O.O.Q. (French pronunciation: [ɛl aʃ o o ky]) is a work of art by Marcel Duchamp. First conceived in 1919, the work is one of what Duchamp referred to as readymades, or more specifically a rectified ready-made. The readymade involves taking mundane, often utilitarian objects not generally considered to be art and transforming them, by adding to them, changing them, or (as in the case of his most famous work Fountain) simply renaming and reorienting them and placing them in an appropriate setting. In L.H.O.O.Q. the found object (objet trouvé) is a cheap postcard reproduction of Leonardo da Vinci\\'s early 16th-century painting Mona Lisa onto which Duchamp drew a moustache and beard in pencil and appended the title.\\n\\n\\n== Overview ==\\n\\nThe subject of the Mona Lisa treated satirically had already been explored in 1887 by Eugène Bataille (aka Sapeck) when he created Mona Lisa smoking a pipe, published in Le Rire. It is not clear if Duchamp was familiar with Bataille\\'s interpretation.\\nThe name of the piece, L.H.O.O.Q., is a gramogram; the letters pronounced in French sound like \"Elle a chaud au cul\", \"She is hot in the arse\", or \"She has a hot ass\"; \"avoir chaud au cul\" is a vulgar expression implying that a woman has sexual restlessness. In a late interview (Schwarz 203), Duchamp gives a loose translation of L.H.O.O.Q. as \"there is fire down below\".\\nFrancis Picabia, in an attempt to publish L.H.O.O.Q. in his magazine 391 could not wait for the work to be sent from New York City, so with the permission of Duchamp, drew the moustache on Mona Lisa himself (forgetting the goatee). Picabia wrote underneath \"Tableau Dada par Marcel Duchamp\". Duchamp noticed the missing goatee. Two decades later, Duchamp corrected the omission on Picabia\\'s replica, found by Jean Arp at a bookstore. Duchamp drew the goatee in black ink with a fountain pen, and wrote \"Moustache par Picabia / barbiche par Marcel Duchamp / avril 1942\".\\nAs was the case with a number of his readymades, Duchamp made multiple versions of L.H.O.O.Q. of differing sizes and in different media throughout his career, one of which, an unmodified black and white reproduction of the Mona Lisa mounted on card, is called L.H.O.O.Q. Shaved. The masculinized female introduces the theme of gender reversal, which was popular with Duchamp, who adopted his own female pseudonym, Rrose Sélavy, pronounced \"Eros, c\\'est la vie\" (\"Eros, that\\'s life\").\\nPrimary responses to L.H.O.O.Q. interpreted its meaning as being an attack on the iconic Mona Lisa and traditional art, a stroke of épater le bourgeois promoting the Dadaist ideals. According to one commentator:\\n\\nThe creation of L.H.O.O.Q. profoundly transformed the perception of La Joconde (what the French call the painting, in contrast with the Americans and Germans, who call it the Mona Lisa). In 1919 the cult of Jocondisme was practically a secular religion of the French bourgeoisie and an important part of their self image as patrons of the arts. They regarded the painting with reverence, and Duchamp\\'s salacious comment and defacement was a major stroke of epater le bourgeois (\"freaking out\" or substantially offending the bourgeois). \\n\\nAccording to Rhonda R. Shearer the apparent reproduction is in fact a copy partly modelled on Duchamp\\'s own face.\\n\\n\\n== Parodies of Duchamp\\'s parodic Mona Lisa ==\\n\\n\\n=== Pre-Internet era ===\\nSalvador Dalí created his Self Portrait as Mona Lisa in 1954, referencing L.H.O.O.Q. in collaboration with Philippe Halsman. This work incorporated photographs of a wild-eyed Dalí showing his handlebar moustache and a handful of coins.\\nIcelandic painter Erró then incorporated Dalí\\'s version of L.H.O.O.Q. into a 1958 composition that also included a film-still from Buñuel\\'s Un Chien Andalou.\\nFernand Léger and René Magritte have also adapted L.H.O.O.Q., using their own iconography.\\n\\n\\n=== Internet and computerized parodies ===\\nThe use of computers permitted new forms of parodies of L.H.O.O.Q., including interactive ones.\\nOne form of c')]"
            ]
          },
          "metadata": {},
          "execution_count": 27
        }
      ]
    },
    {
      "cell_type": "code",
      "source": [
        "len(raw_docs)"
      ],
      "metadata": {
        "colab": {
          "base_uri": "https://localhost:8080/"
        },
        "id": "5Du0pr6SB4MW",
        "outputId": "4eafebb6-7377-4ae7-dc66-8f4db710cebd"
      },
      "execution_count": 28,
      "outputs": [
        {
          "output_type": "execute_result",
          "data": {
            "text/plain": [
              "24"
            ]
          },
          "metadata": {},
          "execution_count": 28
        }
      ]
    },
    {
      "cell_type": "code",
      "source": [
        "from langchain.text_splitter import TokenTextSplitter\n",
        "text_splitter = TokenTextSplitter(chunk_size=512, chunk_overlap=24)\n",
        "documents = text_splitter.split_documents(raw_docs[:3])"
      ],
      "metadata": {
        "id": "LVBp4aAvB8wu"
      },
      "execution_count": 29,
      "outputs": []
    },
    {
      "cell_type": "code",
      "source": [
        "documents[:3]"
      ],
      "metadata": {
        "colab": {
          "base_uri": "https://localhost:8080/"
        },
        "id": "6MhAHMzRpf28",
        "outputId": "532b20d3-4e81-40e5-cb7d-4cfc16cab1b8"
      },
      "execution_count": 30,
      "outputs": [
        {
          "output_type": "execute_result",
          "data": {
            "text/plain": [
              "[Document(metadata={'title': 'Mona Lisa', 'summary': 'The Mona Lisa ( MOH-nə LEE-sə; Italian: la Gioconda [la dʒoˈkonda] or Monna Lisa [ˈmɔnna ˈliːza]; French: la Joconde [la ʒɔkɔ̃d]) is a half-length portrait painting by Italian artist Leonardo da Vinci. Considered an archetypal masterpiece of the Italian Renaissance, it has been described as \"the best known, the most visited, the most written about, the most sung about, [and] the most parodied work of art in the world.\" The painting\\'s novel qualities include the subject\\'s enigmatic expression, monumentality of the composition, the subtle modelling of forms, and the atmospheric illusionism.\\nThe painting has been traditionally considered to depict the Italian noblewoman Lisa del Giocondo. It is painted in oil on a white poplar panel. Leonardo never gave the painting to the Giocondo family. It was believed to have been painted between 1503 and 1506; however, Leonardo may have continued working on it as late as 1517. King Francis I of France acquired the Mona Lisa after Leonardo\\'s death in 1519, and it is now the property of the French Republic. It has normally been on display at the Louvre in Paris since 1797.\\nThe painting\\'s global fame and popularity partly stem from its 1911 theft by Vincenzo Peruggia, who attributed his actions to Italian patriotism—a belief it should belong to Italy. The theft and subsequent recovery in 1914 generated unprecedented publicity for an art theft, and led to the publication of many cultural depictions such as the 1915 opera Mona Lisa, two early 1930s films (The Theft of the Mona Lisa and Arsène Lupin), and the song \"Mona Lisa\" recorded by Nat King Cole—one of the most successful songs of the 1950s.\\nThe Mona Lisa is one of the most valuable paintings in the world. It holds the Guinness World Record for the highest known painting insurance valuation in history at US$100 million in 1962, equivalent to $1 billion as of 2023.', 'source': 'https://en.wikipedia.org/wiki/Mona_Lisa'}, page_content='The Mona Lisa ( MOH-nə LEE-sə; Italian: la Gioconda [la dʒoˈkonda] or Monna Lisa [ˈmɔnna ˈliːza]; French: la Joconde [la ʒɔkɔ̃d]) is a half-length portrait painting by Italian artist Leonardo da Vinci. Considered an archetypal masterpiece of the Italian Renaissance, it has been described as \"the best known, the most visited, the most written about, the most sung about, [and] the most parodied work of art in the world.\" The painting\\'s novel qualities include the subject\\'s enigmatic expression, monumentality of the composition, the subtle modelling of forms, and the atmospheric illusionism.\\nThe painting has been traditionally considered to depict the Italian noblewoman Lisa del Giocondo. It is painted in oil on a white poplar panel. Leonardo never gave the painting to the Giocondo family. It was believed to have been painted between 1503 and 1506; however, Leonardo may have continued working on it as late as 1517. King Francis I of France acquired the Mona Lisa after Leonardo\\'s death in 1519, and it is now the property of the French Republic. It has normally been on display at the Louvre in Paris since 1797.\\nThe painting\\'s global fame and popularity partly stem from its 1911 theft by Vincenzo Peruggia, who attributed his actions to Italian patriotism—a belief it should belong to Italy. The theft and subsequent recovery in 1914 generated unprecedented publicity for an art theft, and led to the publication of many cultural depictions such as the 1915 opera Mona Lisa, two early 1930s films (The Theft of the Mona Lisa and Arsène Lupin), and the song \"Mona Lisa\" recorded by Nat King Cole—one of the most successful songs of the 1950s.\\nThe Mona Lisa is one of the most valuable paintings in the world. It holds the Guinness World Record for the highest known painting insurance valuation in history at US$100 million in 1962, equivalent to $1 billion as of 2023.\\n\\n\\n== Title and subject ==\\n\\nThe title of the painting, which is known in English as Mona Lisa, is based on the presumption that it depicts Lisa del Giocondo, although her likeness is uncertain. Renaissance art historian Giorgio Vasari wrote that \"Leonardo undertook to paint,'),\n",
              " Document(metadata={'title': 'Mona Lisa', 'summary': 'The Mona Lisa ( MOH-nə LEE-sə; Italian: la Gioconda [la dʒoˈkonda] or Monna Lisa [ˈmɔnna ˈliːza]; French: la Joconde [la ʒɔkɔ̃d]) is a half-length portrait painting by Italian artist Leonardo da Vinci. Considered an archetypal masterpiece of the Italian Renaissance, it has been described as \"the best known, the most visited, the most written about, the most sung about, [and] the most parodied work of art in the world.\" The painting\\'s novel qualities include the subject\\'s enigmatic expression, monumentality of the composition, the subtle modelling of forms, and the atmospheric illusionism.\\nThe painting has been traditionally considered to depict the Italian noblewoman Lisa del Giocondo. It is painted in oil on a white poplar panel. Leonardo never gave the painting to the Giocondo family. It was believed to have been painted between 1503 and 1506; however, Leonardo may have continued working on it as late as 1517. King Francis I of France acquired the Mona Lisa after Leonardo\\'s death in 1519, and it is now the property of the French Republic. It has normally been on display at the Louvre in Paris since 1797.\\nThe painting\\'s global fame and popularity partly stem from its 1911 theft by Vincenzo Peruggia, who attributed his actions to Italian patriotism—a belief it should belong to Italy. The theft and subsequent recovery in 1914 generated unprecedented publicity for an art theft, and led to the publication of many cultural depictions such as the 1915 opera Mona Lisa, two early 1930s films (The Theft of the Mona Lisa and Arsène Lupin), and the song \"Mona Lisa\" recorded by Nat King Cole—one of the most successful songs of the 1950s.\\nThe Mona Lisa is one of the most valuable paintings in the world. It holds the Guinness World Record for the highest known painting insurance valuation in history at US$100 million in 1962, equivalent to $1 billion as of 2023.', 'source': 'https://en.wikipedia.org/wiki/Mona_Lisa'}, page_content=', although her likeness is uncertain. Renaissance art historian Giorgio Vasari wrote that \"Leonardo undertook to paint, for Francesco del Giocondo, the portrait of Mona Lisa, his wife.\" Monna in Italian is a polite form of address originating as ma donna—similar to Ma\\'am, Madam, or my lady in English. This became madonna, and its contraction monna. The title of the painting is spelled in Italian as Monna Lisa (mona being a vulgarity in Italian), which is rare in English, where it is traditionally spelled Mona.\\nLisa del Giocondo was a member of the Gherardini family of Florence and Tuscany, and the wife of wealthy Florentine silk merchant Francesco del Giocondo. The painting is thought to have been commissioned for their new home, and to celebrate the birth of their second son, Andrea. The Italian name for the painting, La Gioconda, means \"jocund\" (\"happy\" or \"jovial\"), or literally \"the jocund one\", a pun on the feminine form of Lisa\\'s married name, Giocondo. In French, the title La Joconde has the same meaning. Vasari\\'s account of the Mona Lisa comes from his biography of Leonardo published in 1550, 31 years after the artist\\'s death. It has long been the best-known source of information on the provenance of the work and identity of the sitter. Leonardo\\'s assistant Salaì, at his death in 1524, owned a portrait which in his personal papers was named la Gioconda, a painting bequeathed to him by Leonardo.\\nThat Leonardo painted such a work, and its date, were confirmed in 2005 when a scholar at Heidelberg University discovered a marginal note in a 1477 printing of a volume by ancient Roman philosopher Cicero. Dated October 1503, the note was written by Leonardo\\'s contemporary Agostino Vespucci. This note likens Leonardo to renowned Greek painter Apelles, who is mentioned in the text, and states that Leonardo was at that time working on a painting of Lisa del Giocondo. In response to the announcement of the discovery of this document,'),\n",
              " Document(metadata={'title': 'Mona Lisa Smile', 'summary': 'Mona Lisa Smile is a 2003 American drama film produced by Revolution Studios and Columbia Pictures in association with Red Om Films Productions, directed by Mike Newell, written by Lawrence Konner and Mark Rosenthal, and starring Julia Roberts, Kirsten Dunst, Julia Stiles, and Maggie Gyllenhaal.\\nThe title is a reference to the Mona Lisa, the famous painting by Leonardo da Vinci, and to the song of the same name, originally performed by Nat King Cole, which was covered by Seal for the film. Julia Roberts received a record $25 million for her performance, the highest ever earned by an actress at that time.\\n\\n', 'source': 'https://en.wikipedia.org/wiki/Mona_Lisa_Smile'}, page_content=\"Mona Lisa Smile is a 2003 American drama film produced by Revolution Studios and Columbia Pictures in association with Red Om Films Productions, directed by Mike Newell, written by Lawrence Konner and Mark Rosenthal, and starring Julia Roberts, Kirsten Dunst, Julia Stiles, and Maggie Gyllenhaal.\\nThe title is a reference to the Mona Lisa, the famous painting by Leonardo da Vinci, and to the song of the same name, originally performed by Nat King Cole, which was covered by Seal for the film. Julia Roberts received a record $25 million for her performance, the highest ever earned by an actress at that time.\\n\\n\\n== Plot ==\\nIn 1953, 30-year-old Katherine Ann Watson accepts an Art History teaching position at Wellesley College. She quickly discovers her students have memorized the entire textbook and syllabus, so she introduces modern art and encourages discussion about what good art is. Katherine also challenges her students to achieve more than marriage.\\nOutspoken conservative Betty Warren writes editorials for the college paper, and insists that a universal standard exists for what is good art. She attacks Katherine for advocating that women seek careers in addition to marriage, and exposes campus nurse and lesbian Amanda Armstrong for supplying contraception to the students, resulting in her termination.\\nBetty is eager to marry her fiancé Spencer and expects the traditional married-student exemptions; however, Katherine insists she will grade her based on merit and expects her to complete all assignments and tests. When her married life does not go smoothly, she begins taking out her frustrations on the other girls in the class, particularly Connie and Giselle.\\nBetty often ridicules Connie Baker, insisting her cousin Charlie is only taking her to the dance as a favor. Connie attempts to leave after one dance but is surprised when he expresses genuine interest. They begin dating and go on holiday, where Charlie hides from family friends. Connie breaks things off after Betty claims he is seeing Deb, the daughter of the couple Charlie avoided on their trip. She says Connie is just a casual fling.\\nHowever, weeks later, Connie and Charlie reconnect with him insisting he had stopped seeing Deb the previous summer and had only begun seeing his current girlfriend after Connie cut contact with him. Connie tearfully confronts Betty for lying and being hurtful, asking why Betty couldn't let her be happy. Later, Connie breaks into Charlie's dorm to ask for another chance and they kiss, rekindling their relationship.\\nJoan Brandwyn considers studying law at Yale Law School\")]"
            ]
          },
          "metadata": {},
          "execution_count": 30
        }
      ]
    },
    {
      "cell_type": "code",
      "source": [
        "! pip install langchain_groq"
      ],
      "metadata": {
        "colab": {
          "base_uri": "https://localhost:8080/"
        },
        "id": "qc3Zv3E4CVAV",
        "outputId": "6e535026-02a7-4573-daaa-672bc3766d6f",
        "collapsed": true
      },
      "execution_count": null,
      "outputs": [
        {
          "output_type": "stream",
          "name": "stdout",
          "text": [
            "Collecting langchain_groq\n",
            "  Downloading langchain_groq-0.2.3-py3-none-any.whl.metadata (3.0 kB)\n",
            "Collecting groq<1,>=0.4.1 (from langchain_groq)\n",
            "  Downloading groq-0.15.0-py3-none-any.whl.metadata (14 kB)\n",
            "Requirement already satisfied: langchain-core<0.4.0,>=0.3.29 in /usr/local/lib/python3.11/dist-packages (from langchain_groq) (0.3.29)\n",
            "Requirement already satisfied: anyio<5,>=3.5.0 in /usr/local/lib/python3.11/dist-packages (from groq<1,>=0.4.1->langchain_groq) (3.7.1)\n",
            "Requirement already satisfied: distro<2,>=1.7.0 in /usr/local/lib/python3.11/dist-packages (from groq<1,>=0.4.1->langchain_groq) (1.9.0)\n",
            "Requirement already satisfied: httpx<1,>=0.23.0 in /usr/local/lib/python3.11/dist-packages (from groq<1,>=0.4.1->langchain_groq) (0.28.1)\n",
            "Requirement already satisfied: pydantic<3,>=1.9.0 in /usr/local/lib/python3.11/dist-packages (from groq<1,>=0.4.1->langchain_groq) (2.10.5)\n",
            "Requirement already satisfied: sniffio in /usr/local/lib/python3.11/dist-packages (from groq<1,>=0.4.1->langchain_groq) (1.3.1)\n",
            "Requirement already satisfied: typing-extensions<5,>=4.10 in /usr/local/lib/python3.11/dist-packages (from groq<1,>=0.4.1->langchain_groq) (4.12.2)\n",
            "Requirement already satisfied: PyYAML>=5.3 in /usr/local/lib/python3.11/dist-packages (from langchain-core<0.4.0,>=0.3.29->langchain_groq) (6.0.2)\n",
            "Requirement already satisfied: jsonpatch<2.0,>=1.33 in /usr/local/lib/python3.11/dist-packages (from langchain-core<0.4.0,>=0.3.29->langchain_groq) (1.33)\n",
            "Requirement already satisfied: langsmith<0.3,>=0.1.125 in /usr/local/lib/python3.11/dist-packages (from langchain-core<0.4.0,>=0.3.29->langchain_groq) (0.2.10)\n",
            "Requirement already satisfied: packaging<25,>=23.2 in /usr/local/lib/python3.11/dist-packages (from langchain-core<0.4.0,>=0.3.29->langchain_groq) (24.2)\n",
            "Requirement already satisfied: tenacity!=8.4.0,<10.0.0,>=8.1.0 in /usr/local/lib/python3.11/dist-packages (from langchain-core<0.4.0,>=0.3.29->langchain_groq) (9.0.0)\n",
            "Requirement already satisfied: idna>=2.8 in /usr/local/lib/python3.11/dist-packages (from anyio<5,>=3.5.0->groq<1,>=0.4.1->langchain_groq) (3.10)\n",
            "Requirement already satisfied: certifi in /usr/local/lib/python3.11/dist-packages (from httpx<1,>=0.23.0->groq<1,>=0.4.1->langchain_groq) (2024.12.14)\n",
            "Requirement already satisfied: httpcore==1.* in /usr/local/lib/python3.11/dist-packages (from httpx<1,>=0.23.0->groq<1,>=0.4.1->langchain_groq) (1.0.7)\n",
            "Requirement already satisfied: h11<0.15,>=0.13 in /usr/local/lib/python3.11/dist-packages (from httpcore==1.*->httpx<1,>=0.23.0->groq<1,>=0.4.1->langchain_groq) (0.14.0)\n",
            "Requirement already satisfied: jsonpointer>=1.9 in /usr/local/lib/python3.11/dist-packages (from jsonpatch<2.0,>=1.33->langchain-core<0.4.0,>=0.3.29->langchain_groq) (3.0.0)\n",
            "Requirement already satisfied: orjson<4.0.0,>=3.9.14 in /usr/local/lib/python3.11/dist-packages (from langsmith<0.3,>=0.1.125->langchain-core<0.4.0,>=0.3.29->langchain_groq) (3.10.14)\n",
            "Requirement already satisfied: requests<3,>=2 in /usr/local/lib/python3.11/dist-packages (from langsmith<0.3,>=0.1.125->langchain-core<0.4.0,>=0.3.29->langchain_groq) (2.32.3)\n",
            "Requirement already satisfied: requests-toolbelt<2.0.0,>=1.0.0 in /usr/local/lib/python3.11/dist-packages (from langsmith<0.3,>=0.1.125->langchain-core<0.4.0,>=0.3.29->langchain_groq) (1.0.0)\n",
            "Requirement already satisfied: annotated-types>=0.6.0 in /usr/local/lib/python3.11/dist-packages (from pydantic<3,>=1.9.0->groq<1,>=0.4.1->langchain_groq) (0.7.0)\n",
            "Requirement already satisfied: pydantic-core==2.27.2 in /usr/local/lib/python3.11/dist-packages (from pydantic<3,>=1.9.0->groq<1,>=0.4.1->langchain_groq) (2.27.2)\n",
            "Requirement already satisfied: charset-normalizer<4,>=2 in /usr/local/lib/python3.11/dist-packages (from requests<3,>=2->langsmith<0.3,>=0.1.125->langchain-core<0.4.0,>=0.3.29->langchain_groq) (3.4.1)\n",
            "Requirement already satisfied: urllib3<3,>=1.21.1 in /usr/local/lib/python3.11/dist-packages (from requests<3,>=2->langsmith<0.3,>=0.1.125->langchain-core<0.4.0,>=0.3.29->langchain_groq) (2.3.0)\n",
            "Downloading langchain_groq-0.2.3-py3-none-any.whl (14 kB)\n",
            "Downloading groq-0.15.0-py3-none-any.whl (109 kB)\n",
            "\u001b[2K   \u001b[90m━━━━━━━━━━━━━━━━━━━━━━━━━━━━━━━━━━━━━━━━\u001b[0m \u001b[32m109.6/109.6 kB\u001b[0m \u001b[31m3.1 MB/s\u001b[0m eta \u001b[36m0:00:00\u001b[0m\n",
            "\u001b[?25hInstalling collected packages: groq, langchain_groq\n",
            "Successfully installed groq-0.15.0 langchain_groq-0.2.3\n"
          ]
        }
      ]
    },
    {
      "cell_type": "code",
      "source": [
        "! pip install langchain_neo4j"
      ],
      "metadata": {
        "colab": {
          "base_uri": "https://localhost:8080/"
        },
        "id": "Ej7cBQpTDq6t",
        "outputId": "f2ecd2ed-03f9-43c3-822b-d1118b6be0fb",
        "collapsed": true
      },
      "execution_count": 42,
      "outputs": [
        {
          "output_type": "stream",
          "name": "stdout",
          "text": [
            "Collecting langchain_neo4j\n",
            "  Downloading langchain_neo4j-0.2.0-py3-none-any.whl.metadata (4.5 kB)\n",
            "Requirement already satisfied: langchain<0.4.0,>=0.3.7 in /usr/local/lib/python3.11/dist-packages (from langchain_neo4j) (0.3.14)\n",
            "Requirement already satisfied: langchain-core<0.4.0,>=0.3.8 in /usr/local/lib/python3.11/dist-packages (from langchain_neo4j) (0.3.29)\n",
            "Requirement already satisfied: neo4j<6.0.0,>=5.25.0 in /usr/local/lib/python3.11/dist-packages (from langchain_neo4j) (5.27.0)\n",
            "Requirement already satisfied: PyYAML>=5.3 in /usr/local/lib/python3.11/dist-packages (from langchain<0.4.0,>=0.3.7->langchain_neo4j) (6.0.2)\n",
            "Requirement already satisfied: SQLAlchemy<3,>=1.4 in /usr/local/lib/python3.11/dist-packages (from langchain<0.4.0,>=0.3.7->langchain_neo4j) (2.0.37)\n",
            "Requirement already satisfied: aiohttp<4.0.0,>=3.8.3 in /usr/local/lib/python3.11/dist-packages (from langchain<0.4.0,>=0.3.7->langchain_neo4j) (3.11.11)\n",
            "Requirement already satisfied: langchain-text-splitters<0.4.0,>=0.3.3 in /usr/local/lib/python3.11/dist-packages (from langchain<0.4.0,>=0.3.7->langchain_neo4j) (0.3.5)\n",
            "Requirement already satisfied: langsmith<0.3,>=0.1.17 in /usr/local/lib/python3.11/dist-packages (from langchain<0.4.0,>=0.3.7->langchain_neo4j) (0.2.10)\n",
            "Requirement already satisfied: numpy<2,>=1.22.4 in /usr/local/lib/python3.11/dist-packages (from langchain<0.4.0,>=0.3.7->langchain_neo4j) (1.26.4)\n",
            "Requirement already satisfied: pydantic<3.0.0,>=2.7.4 in /usr/local/lib/python3.11/dist-packages (from langchain<0.4.0,>=0.3.7->langchain_neo4j) (2.10.5)\n",
            "Requirement already satisfied: requests<3,>=2 in /usr/local/lib/python3.11/dist-packages (from langchain<0.4.0,>=0.3.7->langchain_neo4j) (2.32.3)\n",
            "Requirement already satisfied: tenacity!=8.4.0,<10,>=8.1.0 in /usr/local/lib/python3.11/dist-packages (from langchain<0.4.0,>=0.3.7->langchain_neo4j) (9.0.0)\n",
            "Requirement already satisfied: jsonpatch<2.0,>=1.33 in /usr/local/lib/python3.11/dist-packages (from langchain-core<0.4.0,>=0.3.8->langchain_neo4j) (1.33)\n",
            "Requirement already satisfied: packaging<25,>=23.2 in /usr/local/lib/python3.11/dist-packages (from langchain-core<0.4.0,>=0.3.8->langchain_neo4j) (24.2)\n",
            "Requirement already satisfied: typing-extensions>=4.7 in /usr/local/lib/python3.11/dist-packages (from langchain-core<0.4.0,>=0.3.8->langchain_neo4j) (4.12.2)\n",
            "Requirement already satisfied: pytz in /usr/local/lib/python3.11/dist-packages (from neo4j<6.0.0,>=5.25.0->langchain_neo4j) (2024.2)\n",
            "Requirement already satisfied: aiohappyeyeballs>=2.3.0 in /usr/local/lib/python3.11/dist-packages (from aiohttp<4.0.0,>=3.8.3->langchain<0.4.0,>=0.3.7->langchain_neo4j) (2.4.4)\n",
            "Requirement already satisfied: aiosignal>=1.1.2 in /usr/local/lib/python3.11/dist-packages (from aiohttp<4.0.0,>=3.8.3->langchain<0.4.0,>=0.3.7->langchain_neo4j) (1.3.2)\n",
            "Requirement already satisfied: attrs>=17.3.0 in /usr/local/lib/python3.11/dist-packages (from aiohttp<4.0.0,>=3.8.3->langchain<0.4.0,>=0.3.7->langchain_neo4j) (24.3.0)\n",
            "Requirement already satisfied: frozenlist>=1.1.1 in /usr/local/lib/python3.11/dist-packages (from aiohttp<4.0.0,>=3.8.3->langchain<0.4.0,>=0.3.7->langchain_neo4j) (1.5.0)\n",
            "Requirement already satisfied: multidict<7.0,>=4.5 in /usr/local/lib/python3.11/dist-packages (from aiohttp<4.0.0,>=3.8.3->langchain<0.4.0,>=0.3.7->langchain_neo4j) (6.1.0)\n",
            "Requirement already satisfied: propcache>=0.2.0 in /usr/local/lib/python3.11/dist-packages (from aiohttp<4.0.0,>=3.8.3->langchain<0.4.0,>=0.3.7->langchain_neo4j) (0.2.1)\n",
            "Requirement already satisfied: yarl<2.0,>=1.17.0 in /usr/local/lib/python3.11/dist-packages (from aiohttp<4.0.0,>=3.8.3->langchain<0.4.0,>=0.3.7->langchain_neo4j) (1.18.3)\n",
            "Requirement already satisfied: jsonpointer>=1.9 in /usr/local/lib/python3.11/dist-packages (from jsonpatch<2.0,>=1.33->langchain-core<0.4.0,>=0.3.8->langchain_neo4j) (3.0.0)\n",
            "Requirement already satisfied: httpx<1,>=0.23.0 in /usr/local/lib/python3.11/dist-packages (from langsmith<0.3,>=0.1.17->langchain<0.4.0,>=0.3.7->langchain_neo4j) (0.28.1)\n",
            "Requirement already satisfied: orjson<4.0.0,>=3.9.14 in /usr/local/lib/python3.11/dist-packages (from langsmith<0.3,>=0.1.17->langchain<0.4.0,>=0.3.7->langchain_neo4j) (3.10.14)\n",
            "Requirement already satisfied: requests-toolbelt<2.0.0,>=1.0.0 in /usr/local/lib/python3.11/dist-packages (from langsmith<0.3,>=0.1.17->langchain<0.4.0,>=0.3.7->langchain_neo4j) (1.0.0)\n",
            "Requirement already satisfied: annotated-types>=0.6.0 in /usr/local/lib/python3.11/dist-packages (from pydantic<3.0.0,>=2.7.4->langchain<0.4.0,>=0.3.7->langchain_neo4j) (0.7.0)\n",
            "Requirement already satisfied: pydantic-core==2.27.2 in /usr/local/lib/python3.11/dist-packages (from pydantic<3.0.0,>=2.7.4->langchain<0.4.0,>=0.3.7->langchain_neo4j) (2.27.2)\n",
            "Requirement already satisfied: charset-normalizer<4,>=2 in /usr/local/lib/python3.11/dist-packages (from requests<3,>=2->langchain<0.4.0,>=0.3.7->langchain_neo4j) (3.4.1)\n",
            "Requirement already satisfied: idna<4,>=2.5 in /usr/local/lib/python3.11/dist-packages (from requests<3,>=2->langchain<0.4.0,>=0.3.7->langchain_neo4j) (3.10)\n",
            "Requirement already satisfied: urllib3<3,>=1.21.1 in /usr/local/lib/python3.11/dist-packages (from requests<3,>=2->langchain<0.4.0,>=0.3.7->langchain_neo4j) (2.3.0)\n",
            "Requirement already satisfied: certifi>=2017.4.17 in /usr/local/lib/python3.11/dist-packages (from requests<3,>=2->langchain<0.4.0,>=0.3.7->langchain_neo4j) (2024.12.14)\n",
            "Requirement already satisfied: greenlet!=0.4.17 in /usr/local/lib/python3.11/dist-packages (from SQLAlchemy<3,>=1.4->langchain<0.4.0,>=0.3.7->langchain_neo4j) (3.1.1)\n",
            "Requirement already satisfied: anyio in /usr/local/lib/python3.11/dist-packages (from httpx<1,>=0.23.0->langsmith<0.3,>=0.1.17->langchain<0.4.0,>=0.3.7->langchain_neo4j) (3.7.1)\n",
            "Requirement already satisfied: httpcore==1.* in /usr/local/lib/python3.11/dist-packages (from httpx<1,>=0.23.0->langsmith<0.3,>=0.1.17->langchain<0.4.0,>=0.3.7->langchain_neo4j) (1.0.7)\n",
            "Requirement already satisfied: h11<0.15,>=0.13 in /usr/local/lib/python3.11/dist-packages (from httpcore==1.*->httpx<1,>=0.23.0->langsmith<0.3,>=0.1.17->langchain<0.4.0,>=0.3.7->langchain_neo4j) (0.14.0)\n",
            "Requirement already satisfied: sniffio>=1.1 in /usr/local/lib/python3.11/dist-packages (from anyio->httpx<1,>=0.23.0->langsmith<0.3,>=0.1.17->langchain<0.4.0,>=0.3.7->langchain_neo4j) (1.3.1)\n",
            "Downloading langchain_neo4j-0.2.0-py3-none-any.whl (38 kB)\n",
            "Installing collected packages: langchain_neo4j\n",
            "Successfully installed langchain_neo4j-0.2.0\n"
          ]
        }
      ]
    },
    {
      "cell_type": "code",
      "source": [
        "! pip install langchain_groq"
      ],
      "metadata": {
        "colab": {
          "base_uri": "https://localhost:8080/"
        },
        "collapsed": true,
        "id": "AuW0oGUioivQ",
        "outputId": "8caeda03-0e44-4a3c-804b-5c3858541adf"
      },
      "execution_count": 9,
      "outputs": [
        {
          "output_type": "stream",
          "name": "stdout",
          "text": [
            "Collecting langchain_groq\n",
            "  Downloading langchain_groq-0.2.3-py3-none-any.whl.metadata (3.0 kB)\n",
            "Collecting groq<1,>=0.4.1 (from langchain_groq)\n",
            "  Downloading groq-0.15.0-py3-none-any.whl.metadata (14 kB)\n",
            "Requirement already satisfied: langchain-core<0.4.0,>=0.3.29 in /usr/local/lib/python3.11/dist-packages (from langchain_groq) (0.3.29)\n",
            "Requirement already satisfied: anyio<5,>=3.5.0 in /usr/local/lib/python3.11/dist-packages (from groq<1,>=0.4.1->langchain_groq) (3.7.1)\n",
            "Requirement already satisfied: distro<2,>=1.7.0 in /usr/local/lib/python3.11/dist-packages (from groq<1,>=0.4.1->langchain_groq) (1.9.0)\n",
            "Requirement already satisfied: httpx<1,>=0.23.0 in /usr/local/lib/python3.11/dist-packages (from groq<1,>=0.4.1->langchain_groq) (0.28.1)\n",
            "Requirement already satisfied: pydantic<3,>=1.9.0 in /usr/local/lib/python3.11/dist-packages (from groq<1,>=0.4.1->langchain_groq) (2.10.5)\n",
            "Requirement already satisfied: sniffio in /usr/local/lib/python3.11/dist-packages (from groq<1,>=0.4.1->langchain_groq) (1.3.1)\n",
            "Requirement already satisfied: typing-extensions<5,>=4.10 in /usr/local/lib/python3.11/dist-packages (from groq<1,>=0.4.1->langchain_groq) (4.12.2)\n",
            "Requirement already satisfied: PyYAML>=5.3 in /usr/local/lib/python3.11/dist-packages (from langchain-core<0.4.0,>=0.3.29->langchain_groq) (6.0.2)\n",
            "Requirement already satisfied: jsonpatch<2.0,>=1.33 in /usr/local/lib/python3.11/dist-packages (from langchain-core<0.4.0,>=0.3.29->langchain_groq) (1.33)\n",
            "Requirement already satisfied: langsmith<0.3,>=0.1.125 in /usr/local/lib/python3.11/dist-packages (from langchain-core<0.4.0,>=0.3.29->langchain_groq) (0.2.10)\n",
            "Requirement already satisfied: packaging<25,>=23.2 in /usr/local/lib/python3.11/dist-packages (from langchain-core<0.4.0,>=0.3.29->langchain_groq) (24.2)\n",
            "Requirement already satisfied: tenacity!=8.4.0,<10.0.0,>=8.1.0 in /usr/local/lib/python3.11/dist-packages (from langchain-core<0.4.0,>=0.3.29->langchain_groq) (9.0.0)\n",
            "Requirement already satisfied: idna>=2.8 in /usr/local/lib/python3.11/dist-packages (from anyio<5,>=3.5.0->groq<1,>=0.4.1->langchain_groq) (3.10)\n",
            "Requirement already satisfied: certifi in /usr/local/lib/python3.11/dist-packages (from httpx<1,>=0.23.0->groq<1,>=0.4.1->langchain_groq) (2024.12.14)\n",
            "Requirement already satisfied: httpcore==1.* in /usr/local/lib/python3.11/dist-packages (from httpx<1,>=0.23.0->groq<1,>=0.4.1->langchain_groq) (1.0.7)\n",
            "Requirement already satisfied: h11<0.15,>=0.13 in /usr/local/lib/python3.11/dist-packages (from httpcore==1.*->httpx<1,>=0.23.0->groq<1,>=0.4.1->langchain_groq) (0.14.0)\n",
            "Requirement already satisfied: jsonpointer>=1.9 in /usr/local/lib/python3.11/dist-packages (from jsonpatch<2.0,>=1.33->langchain-core<0.4.0,>=0.3.29->langchain_groq) (3.0.0)\n",
            "Requirement already satisfied: orjson<4.0.0,>=3.9.14 in /usr/local/lib/python3.11/dist-packages (from langsmith<0.3,>=0.1.125->langchain-core<0.4.0,>=0.3.29->langchain_groq) (3.10.14)\n",
            "Requirement already satisfied: requests<3,>=2 in /usr/local/lib/python3.11/dist-packages (from langsmith<0.3,>=0.1.125->langchain-core<0.4.0,>=0.3.29->langchain_groq) (2.32.3)\n",
            "Requirement already satisfied: requests-toolbelt<2.0.0,>=1.0.0 in /usr/local/lib/python3.11/dist-packages (from langsmith<0.3,>=0.1.125->langchain-core<0.4.0,>=0.3.29->langchain_groq) (1.0.0)\n",
            "Requirement already satisfied: annotated-types>=0.6.0 in /usr/local/lib/python3.11/dist-packages (from pydantic<3,>=1.9.0->groq<1,>=0.4.1->langchain_groq) (0.7.0)\n",
            "Requirement already satisfied: pydantic-core==2.27.2 in /usr/local/lib/python3.11/dist-packages (from pydantic<3,>=1.9.0->groq<1,>=0.4.1->langchain_groq) (2.27.2)\n",
            "Requirement already satisfied: charset-normalizer<4,>=2 in /usr/local/lib/python3.11/dist-packages (from requests<3,>=2->langsmith<0.3,>=0.1.125->langchain-core<0.4.0,>=0.3.29->langchain_groq) (3.4.1)\n",
            "Requirement already satisfied: urllib3<3,>=1.21.1 in /usr/local/lib/python3.11/dist-packages (from requests<3,>=2->langsmith<0.3,>=0.1.125->langchain-core<0.4.0,>=0.3.29->langchain_groq) (2.3.0)\n",
            "Downloading langchain_groq-0.2.3-py3-none-any.whl (14 kB)\n",
            "Downloading groq-0.15.0-py3-none-any.whl (109 kB)\n",
            "\u001b[2K   \u001b[90m━━━━━━━━━━━━━━━━━━━━━━━━━━━━━━━━━━━━━━━━\u001b[0m \u001b[32m109.6/109.6 kB\u001b[0m \u001b[31m6.0 MB/s\u001b[0m eta \u001b[36m0:00:00\u001b[0m\n",
            "\u001b[?25hInstalling collected packages: groq, langchain_groq\n",
            "Successfully installed groq-0.15.0 langchain_groq-0.2.3\n"
          ]
        }
      ]
    },
    {
      "cell_type": "code",
      "source": [
        "from langchain_groq import ChatGroq\n",
        "\n",
        "\n",
        "llm = ChatGroq (\n",
        "    temperature=0,\n",
        "    groq_api_key = \"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\",\n",
        "    model_name=\"llama-3.1-70b-versatile\"\n",
        ")"
      ],
      "metadata": {
        "id": "zTmxds9PCDQ5"
      },
      "execution_count": 56,
      "outputs": []
    },
    {
      "cell_type": "code",
      "source": [
        "from langchain_experimental.graph_transformers import LLMGraphTransformer\n",
        "llm_transformer = LLMGraphTransformer(llm=llm)"
      ],
      "metadata": {
        "id": "7SNuUu-QCrjK"
      },
      "execution_count": 32,
      "outputs": []
    },
    {
      "cell_type": "code",
      "source": [
        "graph_documents = llm_transformer.convert_to_graph_documents(documents)"
      ],
      "metadata": {
        "id": "7QL4Z_MmCrfq"
      },
      "execution_count": 33,
      "outputs": []
    },
    {
      "cell_type": "code",
      "source": [
        "graph_documents"
      ],
      "metadata": {
        "id": "f0lUO7J5Crdj",
        "colab": {
          "base_uri": "https://localhost:8080/"
        },
        "outputId": "b1ae04c9-334d-43f4-88a3-58a9a3aa6e99"
      },
      "execution_count": 34,
      "outputs": [
        {
          "output_type": "execute_result",
          "data": {
            "text/plain": [
              "[GraphDocument(nodes=[Node(id='Mona Lisa', type='Person', properties={}), Node(id='Leonardo Da Vinci', type='Person', properties={}), Node(id='Lisa Del Giocondo', type='Person', properties={}), Node(id='King Francis I Of France', type='Person', properties={}), Node(id='Vincenzo Peruggia', type='Person', properties={})], relationships=[Relationship(source=Node(id='Mona Lisa', type='Person', properties={}), target=Node(id='Leonardo Da Vinci', type='Person', properties={}), type='CREATED', properties={}), Relationship(source=Node(id='Mona Lisa', type='Person', properties={}), target=Node(id='Lisa Del Giocondo', type='Person', properties={}), type='DEPICTS', properties={}), Relationship(source=Node(id='Mona Lisa', type='Person', properties={}), target=Node(id='King Francis I Of France', type='Person', properties={}), type='OWNED', properties={}), Relationship(source=Node(id='Mona Lisa', type='Person', properties={}), target=Node(id='Vincenzo Peruggia', type='Person', properties={}), type='STOLEN', properties={})], source=Document(metadata={'title': 'Mona Lisa', 'summary': 'The Mona Lisa ( MOH-nə LEE-sə; Italian: la Gioconda [la dʒoˈkonda] or Monna Lisa [ˈmɔnna ˈliːza]; French: la Joconde [la ʒɔkɔ̃d]) is a half-length portrait painting by Italian artist Leonardo da Vinci. Considered an archetypal masterpiece of the Italian Renaissance, it has been described as \"the best known, the most visited, the most written about, the most sung about, [and] the most parodied work of art in the world.\" The painting\\'s novel qualities include the subject\\'s enigmatic expression, monumentality of the composition, the subtle modelling of forms, and the atmospheric illusionism.\\nThe painting has been traditionally considered to depict the Italian noblewoman Lisa del Giocondo. It is painted in oil on a white poplar panel. Leonardo never gave the painting to the Giocondo family. It was believed to have been painted between 1503 and 1506; however, Leonardo may have continued working on it as late as 1517. King Francis I of France acquired the Mona Lisa after Leonardo\\'s death in 1519, and it is now the property of the French Republic. It has normally been on display at the Louvre in Paris since 1797.\\nThe painting\\'s global fame and popularity partly stem from its 1911 theft by Vincenzo Peruggia, who attributed his actions to Italian patriotism—a belief it should belong to Italy. The theft and subsequent recovery in 1914 generated unprecedented publicity for an art theft, and led to the publication of many cultural depictions such as the 1915 opera Mona Lisa, two early 1930s films (The Theft of the Mona Lisa and Arsène Lupin), and the song \"Mona Lisa\" recorded by Nat King Cole—one of the most successful songs of the 1950s.\\nThe Mona Lisa is one of the most valuable paintings in the world. It holds the Guinness World Record for the highest known painting insurance valuation in history at US$100 million in 1962, equivalent to $1 billion as of 2023.', 'source': 'https://en.wikipedia.org/wiki/Mona_Lisa'}, page_content='The Mona Lisa ( MOH-nə LEE-sə; Italian: la Gioconda [la dʒoˈkonda] or Monna Lisa [ˈmɔnna ˈliːza]; French: la Joconde [la ʒɔkɔ̃d]) is a half-length portrait painting by Italian artist Leonardo da Vinci. Considered an archetypal masterpiece of the Italian Renaissance, it has been described as \"the best known, the most visited, the most written about, the most sung about, [and] the most parodied work of art in the world.\" The painting\\'s novel qualities include the subject\\'s enigmatic expression, monumentality of the composition, the subtle modelling of forms, and the atmospheric illusionism.\\nThe painting has been traditionally considered to depict the Italian noblewoman Lisa del Giocondo. It is painted in oil on a white poplar panel. Leonardo never gave the painting to the Giocondo family. It was believed to have been painted between 1503 and 1506; however, Leonardo may have continued working on it as late as 1517. King Francis I of France acquired the Mona Lisa after Leonardo\\'s death in 1519, and it is now the property of the French Republic. It has normally been on display at the Louvre in Paris since 1797.\\nThe painting\\'s global fame and popularity partly stem from its 1911 theft by Vincenzo Peruggia, who attributed his actions to Italian patriotism—a belief it should belong to Italy. The theft and subsequent recovery in 1914 generated unprecedented publicity for an art theft, and led to the publication of many cultural depictions such as the 1915 opera Mona Lisa, two early 1930s films (The Theft of the Mona Lisa and Arsène Lupin), and the song \"Mona Lisa\" recorded by Nat King Cole—one of the most successful songs of the 1950s.\\nThe Mona Lisa is one of the most valuable paintings in the world. It holds the Guinness World Record for the highest known painting insurance valuation in history at US$100 million in 1962, equivalent to $1 billion as of 2023.\\n\\n\\n== Title and subject ==\\n\\nThe title of the painting, which is known in English as Mona Lisa, is based on the presumption that it depicts Lisa del Giocondo, although her likeness is uncertain. Renaissance art historian Giorgio Vasari wrote that \"Leonardo undertook to paint,')),\n",
              " GraphDocument(nodes=[Node(id='Leonardo', type='Person', properties={}), Node(id='Francesco Del Giocondo', type='Person', properties={}), Node(id='Lisa Del Giocondo', type='Person', properties={}), Node(id='Giorgio Vasari', type='Person', properties={}), Node(id='Salaì', type='Person', properties={}), Node(id='Agostino Vespucci', type='Person', properties={}), Node(id='Apelles', type='Person', properties={})], relationships=[Relationship(source=Node(id='Leonardo', type='Person', properties={}), target=Node(id='Lisa Del Giocondo', type='Person', properties={}), type='PROFESSOR', properties={}), Relationship(source=Node(id='Francesco Del Giocondo', type='Person', properties={}), target=Node(id='Lisa Del Giocondo', type='Person', properties={}), type='MARRIED_TO', properties={}), Relationship(source=Node(id='Giorgio Vasari', type='Person', properties={}), target=Node(id='Leonardo', type='Person', properties={}), type='WROTE_ABOUT', properties={}), Relationship(source=Node(id='Salaì', type='Person', properties={}), target=Node(id='Leonardo', type='Person', properties={}), type='ASSISTANT', properties={}), Relationship(source=Node(id='Agostino Vespucci', type='Person', properties={}), target=Node(id='Leonardo', type='Person', properties={}), type='WROTE_ABOUT', properties={}), Relationship(source=Node(id='Apelles', type='Person', properties={}), target=Node(id='Leonardo', type='Person', properties={}), type='COMPARED_TO', properties={})], source=Document(metadata={'title': 'Mona Lisa', 'summary': 'The Mona Lisa ( MOH-nə LEE-sə; Italian: la Gioconda [la dʒoˈkonda] or Monna Lisa [ˈmɔnna ˈliːza]; French: la Joconde [la ʒɔkɔ̃d]) is a half-length portrait painting by Italian artist Leonardo da Vinci. Considered an archetypal masterpiece of the Italian Renaissance, it has been described as \"the best known, the most visited, the most written about, the most sung about, [and] the most parodied work of art in the world.\" The painting\\'s novel qualities include the subject\\'s enigmatic expression, monumentality of the composition, the subtle modelling of forms, and the atmospheric illusionism.\\nThe painting has been traditionally considered to depict the Italian noblewoman Lisa del Giocondo. It is painted in oil on a white poplar panel. Leonardo never gave the painting to the Giocondo family. It was believed to have been painted between 1503 and 1506; however, Leonardo may have continued working on it as late as 1517. King Francis I of France acquired the Mona Lisa after Leonardo\\'s death in 1519, and it is now the property of the French Republic. It has normally been on display at the Louvre in Paris since 1797.\\nThe painting\\'s global fame and popularity partly stem from its 1911 theft by Vincenzo Peruggia, who attributed his actions to Italian patriotism—a belief it should belong to Italy. The theft and subsequent recovery in 1914 generated unprecedented publicity for an art theft, and led to the publication of many cultural depictions such as the 1915 opera Mona Lisa, two early 1930s films (The Theft of the Mona Lisa and Arsène Lupin), and the song \"Mona Lisa\" recorded by Nat King Cole—one of the most successful songs of the 1950s.\\nThe Mona Lisa is one of the most valuable paintings in the world. It holds the Guinness World Record for the highest known painting insurance valuation in history at US$100 million in 1962, equivalent to $1 billion as of 2023.', 'source': 'https://en.wikipedia.org/wiki/Mona_Lisa'}, page_content=', although her likeness is uncertain. Renaissance art historian Giorgio Vasari wrote that \"Leonardo undertook to paint, for Francesco del Giocondo, the portrait of Mona Lisa, his wife.\" Monna in Italian is a polite form of address originating as ma donna—similar to Ma\\'am, Madam, or my lady in English. This became madonna, and its contraction monna. The title of the painting is spelled in Italian as Monna Lisa (mona being a vulgarity in Italian), which is rare in English, where it is traditionally spelled Mona.\\nLisa del Giocondo was a member of the Gherardini family of Florence and Tuscany, and the wife of wealthy Florentine silk merchant Francesco del Giocondo. The painting is thought to have been commissioned for their new home, and to celebrate the birth of their second son, Andrea. The Italian name for the painting, La Gioconda, means \"jocund\" (\"happy\" or \"jovial\"), or literally \"the jocund one\", a pun on the feminine form of Lisa\\'s married name, Giocondo. In French, the title La Joconde has the same meaning. Vasari\\'s account of the Mona Lisa comes from his biography of Leonardo published in 1550, 31 years after the artist\\'s death. It has long been the best-known source of information on the provenance of the work and identity of the sitter. Leonardo\\'s assistant Salaì, at his death in 1524, owned a portrait which in his personal papers was named la Gioconda, a painting bequeathed to him by Leonardo.\\nThat Leonardo painted such a work, and its date, were confirmed in 2005 when a scholar at Heidelberg University discovered a marginal note in a 1477 printing of a volume by ancient Roman philosopher Cicero. Dated October 1503, the note was written by Leonardo\\'s contemporary Agostino Vespucci. This note likens Leonardo to renowned Greek painter Apelles, who is mentioned in the text, and states that Leonardo was at that time working on a painting of Lisa del Giocondo. In response to the announcement of the discovery of this document,')),\n",
              " GraphDocument(nodes=[Node(id='Mona Lisa Smile', type='Movie', properties={}), Node(id='Julia Roberts', type='Person', properties={}), Node(id='Kirsten Dunst', type='Person', properties={}), Node(id='Julia Stiles', type='Person', properties={}), Node(id='Maggie Gyllenhaal', type='Person', properties={}), Node(id='Leonardo Da Vinci', type='Person', properties={}), Node(id='Nat King Cole', type='Person', properties={}), Node(id='Seal', type='Person', properties={}), Node(id='Katherine Ann Watson', type='Person', properties={}), Node(id='Betty Warren', type='Person', properties={}), Node(id='Amanda Armstrong', type='Person', properties={}), Node(id='Spencer', type='Person', properties={}), Node(id='Connie Baker', type='Person', properties={}), Node(id='Charlie', type='Person', properties={}), Node(id='Deb', type='Person', properties={}), Node(id='Joan Brandwyn', type='Person', properties={})], relationships=[Relationship(source=Node(id='Mona Lisa Smile', type='Movie', properties={}), target=Node(id='Julia Roberts', type='Person', properties={}), type='STARRING', properties={}), Relationship(source=Node(id='Mona Lisa Smile', type='Movie', properties={}), target=Node(id='Kirsten Dunst', type='Person', properties={}), type='STARRING', properties={}), Relationship(source=Node(id='Mona Lisa Smile', type='Movie', properties={}), target=Node(id='Julia Stiles', type='Person', properties={}), type='STARRING', properties={}), Relationship(source=Node(id='Mona Lisa Smile', type='Movie', properties={}), target=Node(id='Maggie Gyllenhaal', type='Person', properties={}), type='STARRING', properties={}), Relationship(source=Node(id='Mona Lisa Smile', type='Movie', properties={}), target=Node(id='Leonardo Da Vinci', type='Person', properties={}), type='INSPIRATION', properties={}), Relationship(source=Node(id='Mona Lisa Smile', type='Movie', properties={}), target=Node(id='Nat King Cole', type='Person', properties={}), type='INSPIRATION', properties={}), Relationship(source=Node(id='Mona Lisa Smile', type='Movie', properties={}), target=Node(id='Seal', type='Person', properties={}), type='INSPIRATION', properties={}), Relationship(source=Node(id='Katherine Ann Watson', type='Person', properties={}), target=Node(id='Mona Lisa Smile', type='Movie', properties={}), type='TEACHER', properties={}), Relationship(source=Node(id='Betty Warren', type='Person', properties={}), target=Node(id='Mona Lisa Smile', type='Movie', properties={}), type='STUDENT', properties={}), Relationship(source=Node(id='Amanda Armstrong', type='Person', properties={}), target=Node(id='Mona Lisa Smile', type='Movie', properties={}), type='STUDENT', properties={}), Relationship(source=Node(id='Spencer', type='Person', properties={}), target=Node(id='Betty Warren', type='Person', properties={}), type='FIANCÉ', properties={}), Relationship(source=Node(id='Connie Baker', type='Person', properties={}), target=Node(id='Charlie', type='Person', properties={}), type='ROMANTIC_PARTNER', properties={}), Relationship(source=Node(id='Charlie', type='Person', properties={}), target=Node(id='Connie Baker', type='Person', properties={}), type='ROMANTIC_PARTNER', properties={}), Relationship(source=Node(id='Joan Brandwyn', type='Person', properties={}), target=Node(id='Yale Law School', type='Educational institution', properties={}), type='STUDENT', properties={})], source=Document(metadata={'title': 'Mona Lisa Smile', 'summary': 'Mona Lisa Smile is a 2003 American drama film produced by Revolution Studios and Columbia Pictures in association with Red Om Films Productions, directed by Mike Newell, written by Lawrence Konner and Mark Rosenthal, and starring Julia Roberts, Kirsten Dunst, Julia Stiles, and Maggie Gyllenhaal.\\nThe title is a reference to the Mona Lisa, the famous painting by Leonardo da Vinci, and to the song of the same name, originally performed by Nat King Cole, which was covered by Seal for the film. Julia Roberts received a record $25 million for her performance, the highest ever earned by an actress at that time.\\n\\n', 'source': 'https://en.wikipedia.org/wiki/Mona_Lisa_Smile'}, page_content=\"Mona Lisa Smile is a 2003 American drama film produced by Revolution Studios and Columbia Pictures in association with Red Om Films Productions, directed by Mike Newell, written by Lawrence Konner and Mark Rosenthal, and starring Julia Roberts, Kirsten Dunst, Julia Stiles, and Maggie Gyllenhaal.\\nThe title is a reference to the Mona Lisa, the famous painting by Leonardo da Vinci, and to the song of the same name, originally performed by Nat King Cole, which was covered by Seal for the film. Julia Roberts received a record $25 million for her performance, the highest ever earned by an actress at that time.\\n\\n\\n== Plot ==\\nIn 1953, 30-year-old Katherine Ann Watson accepts an Art History teaching position at Wellesley College. She quickly discovers her students have memorized the entire textbook and syllabus, so she introduces modern art and encourages discussion about what good art is. Katherine also challenges her students to achieve more than marriage.\\nOutspoken conservative Betty Warren writes editorials for the college paper, and insists that a universal standard exists for what is good art. She attacks Katherine for advocating that women seek careers in addition to marriage, and exposes campus nurse and lesbian Amanda Armstrong for supplying contraception to the students, resulting in her termination.\\nBetty is eager to marry her fiancé Spencer and expects the traditional married-student exemptions; however, Katherine insists she will grade her based on merit and expects her to complete all assignments and tests. When her married life does not go smoothly, she begins taking out her frustrations on the other girls in the class, particularly Connie and Giselle.\\nBetty often ridicules Connie Baker, insisting her cousin Charlie is only taking her to the dance as a favor. Connie attempts to leave after one dance but is surprised when he expresses genuine interest. They begin dating and go on holiday, where Charlie hides from family friends. Connie breaks things off after Betty claims he is seeing Deb, the daughter of the couple Charlie avoided on their trip. She says Connie is just a casual fling.\\nHowever, weeks later, Connie and Charlie reconnect with him insisting he had stopped seeing Deb the previous summer and had only begun seeing his current girlfriend after Connie cut contact with him. Connie tearfully confronts Betty for lying and being hurtful, asking why Betty couldn't let her be happy. Later, Connie breaks into Charlie's dorm to ask for another chance and they kiss, rekindling their relationship.\\nJoan Brandwyn considers studying law at Yale Law School\")),\n",
              " GraphDocument(nodes=[Node(id='Joan Brandwyn', type='Person', properties={}), Node(id='Katherine', type='Person', properties={}), Node(id='Tom Donegal', type='Person', properties={}), Node(id='Giselle Levy', type='Person', properties={}), Node(id='Bill Dunbar', type='Person', properties={}), Node(id='Betty', type='Person', properties={}), Node(id='Spencer', type='Person', properties={})], relationships=[Relationship(source=Node(id='Joan Brandwyn', type='Person', properties={}), target=Node(id='Katherine', type='Person', properties={}), type='FRIEND', properties={}), Relationship(source=Node(id='Joan Brandwyn', type='Person', properties={}), target=Node(id='Tom Donegal', type='Person', properties={}), type='SPOUSE', properties={}), Relationship(source=Node(id='Giselle Levy', type='Person', properties={}), target=Node(id='Bill Dunbar', type='Person', properties={}), type='LOVER', properties={}), Relationship(source=Node(id='Katherine', type='Person', properties={}), target=Node(id='Bill Dunbar', type='Person', properties={}), type='LOVER', properties={}), Relationship(source=Node(id='Betty', type='Person', properties={}), target=Node(id='Spencer', type='Person', properties={}), type='SPOUSE', properties={})], source=Document(metadata={'title': 'Mona Lisa Smile', 'summary': 'Mona Lisa Smile is a 2003 American drama film produced by Revolution Studios and Columbia Pictures in association with Red Om Films Productions, directed by Mike Newell, written by Lawrence Konner and Mark Rosenthal, and starring Julia Roberts, Kirsten Dunst, Julia Stiles, and Maggie Gyllenhaal.\\nThe title is a reference to the Mona Lisa, the famous painting by Leonardo da Vinci, and to the song of the same name, originally performed by Nat King Cole, which was covered by Seal for the film. Julia Roberts received a record $25 million for her performance, the highest ever earned by an actress at that time.\\n\\n', 'source': 'https://en.wikipedia.org/wiki/Mona_Lisa_Smile'}, page_content=\" another chance and they kiss, rekindling their relationship.\\nJoan Brandwyn considers studying law at Yale Law School, so Katherine encourages her to apply. Although accepted, she declines admission to instead marry Tom Donegal, telling Katherine that choosing to be a wife and mother does not reduce her intelligence. Fearing Joan may regret not pursuing a career, Joan explains it is what she truly wants, Katherine congratulates her, wishing her happiness.\\nGiselle Levy is liberal about sex and has had several lovers, including Bill Dunbar, who she fell in love with. She moves on from him when he and Katherine begin dating. Giselle admires Katherine for encouraging students' independence. She earns Betty's enmity as her marriage falls apart.\\nKatherine's California boyfriend Paul visits unexpectedly and proposes, but Katherine declines. She starts dating Wellesley Italian professor, Bill Dunbar. Charming, he often tells stories about Europe and Italy during the war. He also has had affairs with students, including Giselle, so Katherine insists he stop.\\nKatherine later learns that, contrary to his stories, Bill was stationed at the Army Languages Center on Long Island. She breaks up with him and Bill tells her that despite what she thinks, she did not come to Wellesley to help the students find their way, but rather find her own path.\\nBetty's marriage falls apart once Spencer is seen with another woman. Betty leaves him but her mother demands she forgive him. She visits Giselle in her dorm, at f\")),\n",
              " GraphDocument(nodes=[Node(id='Mona Lisa', type='Film', properties={}), Node(id='George', type='Person', properties={}), Node(id='Simone', type='Person', properties={}), Node(id='Denny Mortwell', type='Person', properties={}), Node(id='Anderson', type='Person', properties={}), Node(id='Jeannie', type='Person', properties={}), Node(id='Cathy', type='Person', properties={}), Node(id='Thomas', type='Person', properties={})], relationships=[Relationship(source=Node(id='Mona Lisa', type='Film', properties={}), target=Node(id='George', type='Person', properties={}), type='PRODUCED', properties={}), Relationship(source=Node(id='Mona Lisa', type='Film', properties={}), target=Node(id='Simone', type='Person', properties={}), type='STARRING', properties={}), Relationship(source=Node(id='Mona Lisa', type='Film', properties={}), target=Node(id='Denny Mortwell', type='Person', properties={}), type='PRODUCED', properties={}), Relationship(source=Node(id='Mona Lisa', type='Film', properties={}), target=Node(id='Anderson', type='Person', properties={}), type='PRODUCED', properties={}), Relationship(source=Node(id='George', type='Person', properties={}), target=Node(id='Simone', type='Person', properties={}), type='FRIEND', properties={}), Relationship(source=Node(id='George', type='Person', properties={}), target=Node(id='Jeannie', type='Person', properties={}), type='PARENT', properties={}), Relationship(source=Node(id='Simone', type='Person', properties={}), target=Node(id='Cathy', type='Person', properties={}), type='FRIEND', properties={}), Relationship(source=Node(id='George', type='Person', properties={}), target=Node(id='Thomas', type='Person', properties={}), type='FRIEND', properties={})], source=Document(metadata={'title': 'Mona Lisa (film)', 'summary': 'Mona Lisa is a 1986 British neo-noir crime drama film about an ex-convict who becomes entangled in the dangerous life of a high-class call girl. The film was written by Neil Jordan and David Leland, and directed by Jordan. It was produced by HandMade Films and stars Bob Hoskins, Cathy Tyson, and Michael Caine.\\nThe film was nominated for multiple awards, and Bob Hoskins was nominated for several awards for his performance (including the Academy Award for Best Actor), winning the Golden Globe Award for Best Actor – Motion Picture Drama and BAFTA Award for Best Actor in a Leading Role. The film seems to take its title from the song \"Mona Lisa\" heard during the end credits.', 'source': 'https://en.wikipedia.org/wiki/Mona_Lisa_(film)'}, page_content='Mona Lisa is a 1986 British neo-noir crime drama film about an ex-convict who becomes entangled in the dangerous life of a high-class call girl. The film was written by Neil Jordan and David Leland, and directed by Jordan. It was produced by HandMade Films and stars Bob Hoskins, Cathy Tyson, and Michael Caine.\\nThe film was nominated for multiple awards, and Bob Hoskins was nominated for several awards for his performance (including the Academy Award for Best Actor), winning the Golden Globe Award for Best Actor – Motion Picture Drama and BAFTA Award for Best Actor in a Leading Role. The film seems to take its title from the song \"Mona Lisa\" heard during the end credits.\\n\\n\\n== Plot ==\\nGeorge, a low-level working-class gangster recently released after seven years in prison, is given a job in London by his former boss, Denny Mortwell, as the driver and bodyguard for a high-priced prostitute named Simone. Mortwell also wants George to gather information on one of Simone\\'s wealthy customers for blackmail purposes. Simone, who has worked hard to develop high-class manners and an elite clientele, initially dislikes the uncouth and outspoken George, and he regards her as putting on airs. But as George and Simone find out more about each other, they form a friendship, and George begins to fall in love with her. George agrees, at the risk of his own life, to help Simone find her teenage friend Cathy, who has disappeared, and who Simone fears is being abused by her violent former pimp, Anderson.\\nGeorge increasingly finds himself torn between his feelings for Simone, his obligations to his boss Mortwell, and his relationship with his teenage daughter Jeannie, a sweet normal girl who has matured while he was in prison and wants to have her father in her life.\\nWhen Anderson stalks Simone to her flat and tries to slash her, George takes her to the secluded garage where he lives with his friend Thomas and then finds the drug-addled Cathy. He takes the two girls to a hotel in Brighton and gives Simone a gun for protection, but then discovers that the pair are lovers. When Mortwell and Anderson arrive to take back control of the girls, Simone shoots them both dead and turns her gun towards George. He punches her, takes the gun and leaves. Freed of his underworld obligations, he returns to a more normal life, working in Thomas\\'s garage and spending time with Jeannie.\\n\\n\\n== Cast')),\n",
              " GraphDocument(nodes=[Node(id='Bob Hoskins', type='Person', properties={}), Node(id='Jeannie', type='Person', properties={}), Node(id='Thomas', type='Person', properties={})], relationships=[Relationship(source=Node(id='Bob Hoskins', type='Person', properties={}), target=Node(id='Jeannie', type='Person', properties={}), type='SPENDS_TIME_WITH', properties={}), Relationship(source=Node(id='Bob Hoskins', type='Person', properties={}), target=Node(id='Thomas', type='Person', properties={}), type='WORKS_FOR', properties={})], source=Document(metadata={'title': 'Mona Lisa (film)', 'summary': 'Mona Lisa is a 1986 British neo-noir crime drama film about an ex-convict who becomes entangled in the dangerous life of a high-class call girl. The film was written by Neil Jordan and David Leland, and directed by Jordan. It was produced by HandMade Films and stars Bob Hoskins, Cathy Tyson, and Michael Caine.\\nThe film was nominated for multiple awards, and Bob Hoskins was nominated for several awards for his performance (including the Academy Award for Best Actor), winning the Golden Globe Award for Best Actor – Motion Picture Drama and BAFTA Award for Best Actor in a Leading Role. The film seems to take its title from the song \"Mona Lisa\" heard during the end credits.', 'source': 'https://en.wikipedia.org/wiki/Mona_Lisa_(film)'}, page_content=' he returns to a more normal life, working in Thomas\\'s garage and spending time with Jeannie.\\n\\n\\n== Cast ==\\n\\n\\n== Reception ==\\nThe film received positive critical reception when released in 1986. Film critic Roger Ebert wrote of the two main characters \"The relationship of their characters in the film is interesting, because both people, for personal reasons, have developed a style that doesn\\'t reveal very much.\" Halliwell\\'s Film Guide argued \"only this actor could make a hit of this unsavoury yarn, with its highlights of sex and violence. But he did.\" Vincent Canby, writing for The New York Times, dismissed the film as \"classy kitsch... as smooth and distinctive (and, ultimately, as insubstantial) as the old Nat (King) Cole recording of the song, which gives the film its title and a lot of its mood.\"\\nOn Metacritic, Mona Lisa has a score of 85 out of 100 based on reviews from 20 critics, indicating \"universal acclaim\". That of Time Out called it \"a wonderful achievement, a dark film with a generous heart in the shape of an extraordinarily touching performance from Hoskins.\"\\nOn Rotten Tomatoes, Mona Lisa holds a \"Certified Fresh\" 98% rating based on forty reviews. The site\\'s consensus states: \"Bob Hoskins is outstanding in Mona Lisa, giving this stylish neo-noir a riveting centerpiece that sets it apart from similar stories.\"\\n\\n\\n== Accolades ==\\nBob Hoskins was praised for his performance and was awarded the Golden Globe Award, BAFTA Award, Prix d\\'interprétation masculine at the Cannes Film Festival, and other awards. Despite this heavy acclaim, he lost the Academy Award for Best Actor to Paul Newman in The Color of Money.\\n\\n\\n== See also ==\\nBFI Top 100 British films\\nTrinity Court, '))]"
            ]
          },
          "metadata": {},
          "execution_count": 34
        }
      ]
    },
    {
      "cell_type": "code",
      "source": [
        "graph.add_graph_documents(\n",
        "    graph_documents,\n",
        "    baseEntityLabel=True,\n",
        "    include_source=True\n",
        ")"
      ],
      "metadata": {
        "id": "Pr5mL3orqC12"
      },
      "execution_count": 35,
      "outputs": []
    },
    {
      "cell_type": "code",
      "source": [
        "default_cypher = \"MATCH (s)-[r:!MENTIONS]->(t) RETURN s,r,t LIMIT 50\""
      ],
      "metadata": {
        "id": "-iYr_xM7qX99"
      },
      "execution_count": 36,
      "outputs": []
    },
    {
      "cell_type": "code",
      "source": [
        "def showGraph(cypher: str = default_cypher):\n",
        "    # create a neo4j session to run queries\n",
        "    driver = GraphDatabase.driver(\n",
        "        uri = os.environ[\"NEO4J_URI\"],\n",
        "        auth = (os.environ[\"NEO4J_USERNAME\"],\n",
        "                os.environ[\"NEO4J_PASSWORD\"]))\n",
        "    session = driver.session()\n",
        "    widget = GraphWidget(graph = session.run(cypher).graph())\n",
        "    widget.node_label_mapping = 'id'\n",
        "    display(widget)\n",
        "    return widget"
      ],
      "metadata": {
        "id": "40haRv98qmhT"
      },
      "execution_count": 37,
      "outputs": []
    },
    {
      "cell_type": "code",
      "source": [
        "from google.colab import output\n",
        "output.enable_custom_widget_manager()"
      ],
      "metadata": {
        "id": "h7RXgodKqyaf"
      },
      "execution_count": 39,
      "outputs": []
    },
    {
      "cell_type": "code",
      "source": [
        "showGraph()"
      ],
      "metadata": {
        "colab": {
          "base_uri": "https://localhost:8080/",
          "height": 1000,
          "referenced_widgets": [
            "e2f3a1fddfb04ab7a4cd750bf21af6ed",
            "40cb878c7ffa468786665f0b3178d751",
            "ae05cfc1c915482bb19265208de85937"
          ]
        },
        "id": "RpTKudTkqpMK",
        "outputId": "957be0d5-9d13-42f5-e576-b02fcffce795"
      },
      "execution_count": 40,
      "outputs": [
        {
          "output_type": "display_data",
          "data": {
            "text/plain": [
              "GraphWidget(layout=Layout(height='800px', width='100%'))"
            ],
            "application/vnd.jupyter.widget-view+json": {
              "version_major": 2,
              "version_minor": 0,
              "model_id": "e2f3a1fddfb04ab7a4cd750bf21af6ed"
            }
          },
          "metadata": {
            "application/vnd.jupyter.widget-view+json": {
              "colab": {
                "custom_widget_manager": {
                  "url": "https://ssl.gstatic.com/colaboratory-static/widgets/colab-cdn-widget-manager/2b70e893a8ba7c0f/manager.min.js"
                }
              }
            }
          }
        },
        {
          "output_type": "display_data",
          "data": {
            "text/plain": [
              "GraphWidget(layout=Layout(height='800px', width='100%'))"
            ],
            "application/vnd.jupyter.widget-view+json": {
              "version_major": 2,
              "version_minor": 0,
              "model_id": "e2f3a1fddfb04ab7a4cd750bf21af6ed"
            }
          },
          "metadata": {
            "application/vnd.jupyter.widget-view+json": {
              "colab": {
                "custom_widget_manager": {
                  "url": "https://ssl.gstatic.com/colaboratory-static/widgets/colab-cdn-widget-manager/2b70e893a8ba7c0f/manager.min.js"
                }
              }
            }
          }
        }
      ]
    },
    {
      "cell_type": "code",
      "source": [
        "from langchain.embeddings import HuggingFaceEmbeddings\n",
        "from langchain_neo4j import Neo4jVector\n",
        "\n",
        "# Load the Hugging Face model (replace with your desired model)\n",
        "model_name = \"sentence-transformers/all-MiniLM-L6-v2\"\n",
        "embeddings = HuggingFaceEmbeddings(model_name=model_name)\n",
        "\n",
        "vector_index = Neo4jVector.from_existing_graph(\n",
        "    embeddings,\n",
        "    search_type=\"hybrid\",\n",
        "    node_label=\"Document\",\n",
        "    text_node_properties=[\"text\"],\n",
        "    embedding_node_property=\"embedding\"\n",
        ")"
      ],
      "metadata": {
        "colab": {
          "base_uri": "https://localhost:8080/",
          "height": 176,
          "referenced_widgets": [
            "c6eb287b5f424d3db61a5e3296d1803e",
            "fb155510b5af4f38b58b7d06f6cfb936",
            "e4321872267a45df8ce5bed7dfc70bbc",
            "f107030191184e90b99ebb350d0d581f",
            "b0231f9a9b36428b936e39bc578c542d",
            "790652d973614ff3837528fe5a24f585",
            "735832f7927c42f5a69e863702f8734c",
            "755b0d422a564f61ae957ecdf4fa801f",
            "ee0ad5efc1f84196957563bc8a8ab790",
            "73dbe1813d9e49ed972cb9fd06c998cd",
            "95ffcc8b4f5e4468a2ef02aa574ec8cc",
            "6a4553b587964bc7836067030ddcd027",
            "605b317f30be433999f49465ea467622",
            "572e19cb95274a89b2a8ac749aafa4a8",
            "1f89c16102a64c9aa790808645f7a2d2",
            "15589d7603f94bef873c4d1e6905b844",
            "a714afe370b84c6582abd13b64970546",
            "ab49502a01344a1b921c932874dfb0e4",
            "680309a6b569469f8baab457a30f1a5a",
            "e19744346866465682b943f3ce54a50a",
            "3fb0a140301241ce9058ba60c0db2844",
            "4566983b48b64bd4a149885aeb416316",
            "06940ddc4eed4a49b583e7bd3ba1bfe7",
            "e6321fe613c24518b02db60571f9ec28",
            "4b2fd57f9e18461fb7e6dc8dd2d9144b",
            "d3cae3ff83bb4347992bfa22cf23f7f2",
            "a6fa575d791842119d107f18b91bf147",
            "4e103b5ed67e4bcbadde18a1c95d77d3",
            "126a83150451414484ed544bcaaacb77",
            "8dadaa14609b414ebf58be29f54938f7",
            "37b3ad75eaf3431798e1b1c9bed00281",
            "f08e6115c3f1495c9b22ae1a405cead0",
            "7661091c6e2241d5b07d3923f9f95180",
            "c6af635852d04b1fb1d78528343cc9e6",
            "91ff25537f8543a4b4a0c37289ba8672",
            "a49228801cb846a881f6c49fb138e0a1",
            "1fe8f90de5fc4d38bbbc1e04e48e57dc",
            "2f8010e7f9b042ca9270dfe50e5265f1",
            "d320ccd2077849de9cc4754379157b31",
            "4c4eb95f754c41469b7dc7bebb5e5971",
            "b22d249f0d9e437e9817bf31ad736b8b",
            "3026e7a111dc44bbbb34a72f0376af49",
            "fe140e89e95b49fb9774f7de03fef7ce",
            "a29ba7e776ca4c13bce3cd2357372490",
            "780652e89adf42a78bd665aeebf3509d",
            "94b9e963e3384dab8ee6f9b72d2872da",
            "a8c9671a4a6840f1ae3618cdb832017a",
            "f69ad6fb81344694a5325e120f774aa5",
            "2b15e6b12c1c4aea9a1be39e1bee4d6a",
            "40a26daef4ec40118541270e067c255c",
            "ba5c0cfb295f418b998a59dd55fe5245",
            "c86a65ee29c947d88e0453b13259fa4e",
            "fd690372b8fc467f996d9041bb127a15",
            "2400a4fcde214bbea56d0c3947728164",
            "48e30dc67ace4c90a39e44ac7c43a4f2",
            "ae94ebdc0b6647b18f13fa5e01e79fc9",
            "35208bf873024f11bb4d21d28a2fa8e0",
            "253025a206bd4905ae2092eccc925d31",
            "a7837b3fddb24d4cb1d0049cd60e1c34",
            "200d21b783d64c13bbaebf56e4b90fd8",
            "c9f26b0277754afdbd3d0e315bcce91d",
            "c149cd56c68a4c289f55fc2a5063d7c3",
            "e9415eba5c834bfab9b9b961ec86ab7e",
            "bcd798d5183447598cfd14e280f59aac",
            "6b6c53bb52224d63945fce4f3cc52414",
            "f926ea5395c64f3588d4562cddbbb642",
            "c20323761f1344498e8b2e9f72ee2af0",
            "fe9c356e6c284c2dad1a4b92e2257184",
            "0bbc8d815fca495ab2a57757315b93c2",
            "a1c25e06158443428db727c4a408d4bb",
            "b3ee27e4e73b4611a85de8c1378f7bce",
            "b19d69b3a96e471daf395a0e766ea773",
            "c7d76f6240bd44eda725dcbfff184108",
            "249ad8d5d5794a0194d0fdba7c303e4c",
            "58abadba809b4abc9ef106d0d5384a7f",
            "776fb986472d4ab09f099ede792ee0e3",
            "2faf1657fa734bd0a248f56e72f9b50d",
            "a9b0f95f0be640008bc6dbb1f256dc09",
            "46ddc6e8dd6641f99dd47ebdf58e1817",
            "54d73bb24c49455f9de9229342e4b4ef",
            "8882c79dd9544ce5bff8380da36095f6",
            "d1475646500e48619a684dbbd4d56f8e",
            "f9be92bd23234d209b732562f7ce243e",
            "6a87461283c0446da2bdc99fcf94987d",
            "2a7d5bdea24f4e7c949ea540f4c1dec9",
            "67e2e20937f648cfa3b5d4d58b96c3ad",
            "22459980f67e465cb0aa1e75266fa8c9",
            "7cd7e466f9ea4149aae46d20da334293",
            "6e418fd711d447e690253b770dd48b61",
            "75ab4e42087847aa8505459d6ffdf8be",
            "65ebe76b9ee24825a62c9d28fc482c9c",
            "f002682c4f1a4cff9a26a61a147863f3",
            "07957e2a61984460ae1118878dac73af",
            "bf6646a014de443c8106f28616258fa5",
            "059968c320df4dcf96052cceeb71a785",
            "0cc3e8db17cc48d78677409fa1f4c9c2",
            "d9cbe0c17bf54fbfa418ce78cb725cb9",
            "888e05018ac14dbcad54e9e183101939",
            "613e84b90a2c42b0a64af3110085d97a",
            "47b9079b34ae47a4afecddf319052a7d",
            "a75090cb64de49da9b7aadd32cc109a6",
            "ef0080b881394232b26abfe00f806147",
            "85f24ef7d92e4fed85363619ed301747",
            "7624f736bee2471d97f6e1403f6c331a",
            "09e35587c97c4999bafdc6f42232a5d0",
            "05b0d106b2dc4ccda32cb19e56bc8493",
            "44036fb4bbcb4958aa8f8e7a49bae4de",
            "bc67cbe31e0a43838d1945c4efc48c60",
            "ca8bef2f588a4df0a747963c33ec3ca8",
            "b65941fbd6b64f97abcaaed1712fb0e7",
            "c9bade9bcbc34c02b0d6e3ef71ec9e4b",
            "815b65cdf25f415d88d830ce6275567e",
            "b3e467d608db45d8a606f0ce636a8ed4",
            "51dc52703a06472faaa4e93d6997d6ed",
            "6894e381323f4be5b9d55b7e86560566",
            "b4b900b7df9049ca92550278aee16534",
            "09629ae831ce47f1a22681c15145a5fe",
            "cffd31d451e349e3ab04f23c24a83630",
            "85322f3a6e8f463abffbb032c140c2ce",
            "91bf29a7c0c3421c8616765cc96253e0",
            "320ffd9db2314652b9005fccba5cc54d"
          ]
        },
        "id": "13hsnb4Yqso7",
        "outputId": "1dc3de5b-aa51-40c7-8c8b-137d42547065"
      },
      "execution_count": 43,
      "outputs": [
        {
          "output_type": "stream",
          "name": "stderr",
          "text": [
            "<ipython-input-43-8e3569fcbae4>:6: LangChainDeprecationWarning: The class `HuggingFaceEmbeddings` was deprecated in LangChain 0.2.2 and will be removed in 1.0. An updated version of the class exists in the :class:`~langchain-huggingface package and should be used instead. To use it run `pip install -U :class:`~langchain-huggingface` and import as `from :class:`~langchain_huggingface import HuggingFaceEmbeddings``.\n",
            "  embeddings = HuggingFaceEmbeddings(model_name=model_name)\n",
            "/usr/local/lib/python3.11/dist-packages/huggingface_hub/utils/_auth.py:94: UserWarning: \n",
            "The secret `HF_TOKEN` does not exist in your Colab secrets.\n",
            "To authenticate with the Hugging Face Hub, create a token in your settings tab (https://huggingface.co/settings/tokens), set it as secret in your Google Colab and restart your session.\n",
            "You will be able to reuse this secret in all of your notebooks.\n",
            "Please note that authentication is recommended but still optional to access public models or datasets.\n",
            "  warnings.warn(\n"
          ]
        },
        {
          "output_type": "display_data",
          "data": {
            "text/plain": [
              "modules.json:   0%|          | 0.00/349 [00:00<?, ?B/s]"
            ],
            "application/vnd.jupyter.widget-view+json": {
              "version_major": 2,
              "version_minor": 0,
              "model_id": "c6eb287b5f424d3db61a5e3296d1803e"
            }
          },
          "metadata": {
            "application/vnd.jupyter.widget-view+json": {
              "colab": {
                "custom_widget_manager": {
                  "url": "https://ssl.gstatic.com/colaboratory-static/widgets/colab-cdn-widget-manager/2b70e893a8ba7c0f/manager.min.js"
                }
              }
            }
          }
        },
        {
          "output_type": "display_data",
          "data": {
            "text/plain": [
              "config_sentence_transformers.json:   0%|          | 0.00/116 [00:00<?, ?B/s]"
            ],
            "application/vnd.jupyter.widget-view+json": {
              "version_major": 2,
              "version_minor": 0,
              "model_id": "6a4553b587964bc7836067030ddcd027"
            }
          },
          "metadata": {
            "application/vnd.jupyter.widget-view+json": {
              "colab": {
                "custom_widget_manager": {
                  "url": "https://ssl.gstatic.com/colaboratory-static/widgets/colab-cdn-widget-manager/2b70e893a8ba7c0f/manager.min.js"
                }
              }
            }
          }
        },
        {
          "output_type": "display_data",
          "data": {
            "text/plain": [
              "README.md:   0%|          | 0.00/10.7k [00:00<?, ?B/s]"
            ],
            "application/vnd.jupyter.widget-view+json": {
              "version_major": 2,
              "version_minor": 0,
              "model_id": "7661091c6e2241d5b07d3923f9f95180"
            }
          },
          "metadata": {
            "application/vnd.jupyter.widget-view+json": {
              "colab": {
                "custom_widget_manager": {
                  "url": "https://ssl.gstatic.com/colaboratory-static/widgets/colab-cdn-widget-manager/2b70e893a8ba7c0f/manager.min.js"
                }
              }
            }
          }
        },
        {
          "output_type": "display_data",
          "data": {
            "text/plain": [
              "sentence_bert_config.json:   0%|          | 0.00/53.0 [00:00<?, ?B/s]"
            ],
            "application/vnd.jupyter.widget-view+json": {
              "version_major": 2,
              "version_minor": 0,
              "model_id": "a29ba7e776ca4c13bce3cd2357372490"
            }
          },
          "metadata": {
            "application/vnd.jupyter.widget-view+json": {
              "colab": {
                "custom_widget_manager": {
                  "url": "https://ssl.gstatic.com/colaboratory-static/widgets/colab-cdn-widget-manager/2b70e893a8ba7c0f/manager.min.js"
                }
              }
            }
          }
        },
        {
          "output_type": "display_data",
          "data": {
            "text/plain": [
              "config.json:   0%|          | 0.00/612 [00:00<?, ?B/s]"
            ],
            "application/vnd.jupyter.widget-view+json": {
              "version_major": 2,
              "version_minor": 0,
              "model_id": "48e30dc67ace4c90a39e44ac7c43a4f2"
            }
          },
          "metadata": {
            "application/vnd.jupyter.widget-view+json": {
              "colab": {
                "custom_widget_manager": {
                  "url": "https://ssl.gstatic.com/colaboratory-static/widgets/colab-cdn-widget-manager/2b70e893a8ba7c0f/manager.min.js"
                }
              }
            }
          }
        },
        {
          "output_type": "display_data",
          "data": {
            "text/plain": [
              "model.safetensors:   0%|          | 0.00/90.9M [00:00<?, ?B/s]"
            ],
            "application/vnd.jupyter.widget-view+json": {
              "version_major": 2,
              "version_minor": 0,
              "model_id": "f926ea5395c64f3588d4562cddbbb642"
            }
          },
          "metadata": {
            "application/vnd.jupyter.widget-view+json": {
              "colab": {
                "custom_widget_manager": {
                  "url": "https://ssl.gstatic.com/colaboratory-static/widgets/colab-cdn-widget-manager/2b70e893a8ba7c0f/manager.min.js"
                }
              }
            }
          }
        },
        {
          "output_type": "display_data",
          "data": {
            "text/plain": [
              "tokenizer_config.json:   0%|          | 0.00/350 [00:00<?, ?B/s]"
            ],
            "application/vnd.jupyter.widget-view+json": {
              "version_major": 2,
              "version_minor": 0,
              "model_id": "2faf1657fa734bd0a248f56e72f9b50d"
            }
          },
          "metadata": {
            "application/vnd.jupyter.widget-view+json": {
              "colab": {
                "custom_widget_manager": {
                  "url": "https://ssl.gstatic.com/colaboratory-static/widgets/colab-cdn-widget-manager/2b70e893a8ba7c0f/manager.min.js"
                }
              }
            }
          }
        },
        {
          "output_type": "display_data",
          "data": {
            "text/plain": [
              "vocab.txt:   0%|          | 0.00/232k [00:00<?, ?B/s]"
            ],
            "application/vnd.jupyter.widget-view+json": {
              "version_major": 2,
              "version_minor": 0,
              "model_id": "7cd7e466f9ea4149aae46d20da334293"
            }
          },
          "metadata": {
            "application/vnd.jupyter.widget-view+json": {
              "colab": {
                "custom_widget_manager": {
                  "url": "https://ssl.gstatic.com/colaboratory-static/widgets/colab-cdn-widget-manager/2b70e893a8ba7c0f/manager.min.js"
                }
              }
            }
          }
        },
        {
          "output_type": "display_data",
          "data": {
            "text/plain": [
              "tokenizer.json:   0%|          | 0.00/466k [00:00<?, ?B/s]"
            ],
            "application/vnd.jupyter.widget-view+json": {
              "version_major": 2,
              "version_minor": 0,
              "model_id": "613e84b90a2c42b0a64af3110085d97a"
            }
          },
          "metadata": {
            "application/vnd.jupyter.widget-view+json": {
              "colab": {
                "custom_widget_manager": {
                  "url": "https://ssl.gstatic.com/colaboratory-static/widgets/colab-cdn-widget-manager/2b70e893a8ba7c0f/manager.min.js"
                }
              }
            }
          }
        },
        {
          "output_type": "display_data",
          "data": {
            "text/plain": [
              "special_tokens_map.json:   0%|          | 0.00/112 [00:00<?, ?B/s]"
            ],
            "application/vnd.jupyter.widget-view+json": {
              "version_major": 2,
              "version_minor": 0,
              "model_id": "b65941fbd6b64f97abcaaed1712fb0e7"
            }
          },
          "metadata": {
            "application/vnd.jupyter.widget-view+json": {
              "colab": {
                "custom_widget_manager": {
                  "url": "https://ssl.gstatic.com/colaboratory-static/widgets/colab-cdn-widget-manager/2b70e893a8ba7c0f/manager.min.js"
                }
              }
            }
          }
        },
        {
          "output_type": "display_data",
          "data": {
            "text/plain": [
              "1_Pooling/config.json:   0%|          | 0.00/190 [00:00<?, ?B/s]"
            ],
            "application/vnd.jupyter.widget-view+json": {
              "version_major": 2,
              "version_minor": 0,
              "model_id": "320ffd9db2314652b9005fccba5cc54d"
            }
          },
          "metadata": {}
        }
      ]
    },
    {
      "cell_type": "code",
      "source": [
        "from google.colab import output\n",
        "output.enable_custom_widget_manager()"
      ],
      "metadata": {
        "id": "Os_X1HM6sN-Q"
      },
      "execution_count": 44,
      "outputs": []
    },
    {
      "cell_type": "markdown",
      "source": [
        "Support for third party widgets will remain active for the duration of the session. To disable support:"
      ],
      "metadata": {
        "id": "RcnDaVQ8sN-S"
      }
    },
    {
      "cell_type": "code",
      "source": [
        "from google.colab import output\n",
        "output.disable_custom_widget_manager()"
      ],
      "metadata": {
        "id": "qEoJ89VhsN-Y"
      },
      "execution_count": 45,
      "outputs": []
    },
    {
      "cell_type": "code",
      "source": [
        "prompt = ChatPromptTemplate.from_messages(\n",
        "    [\n",
        "        (\n",
        "            \"system\",\n",
        "            \"You are extracting organization and person entities from the text.\",\n",
        "        ),\n",
        "        (\n",
        "            \"human\",\n",
        "            \"Use the given format to extract information from the following \"\n",
        "            \"input: {question}\",\n",
        "        ),\n",
        "    ]\n",
        ")"
      ],
      "metadata": {
        "id": "V7zTzCNRsZQu"
      },
      "execution_count": 46,
      "outputs": []
    },
    {
      "cell_type": "code",
      "source": [
        "from typing import Tuple, List, Optional"
      ],
      "metadata": {
        "id": "7dqNH4S3sosF"
      },
      "execution_count": 48,
      "outputs": []
    },
    {
      "cell_type": "code",
      "source": [
        "from langchain_core.pydantic_v1 import BaseModel, Field\n",
        "# Extract entities from text\n",
        "class Entities(BaseModel):\n",
        "    \"\"\"Identifying information about entities.\"\"\"\n",
        "\n",
        "    names: List[str] = Field(\n",
        "        ...,\n",
        "        description=\"All the person, organization, or business entities that \"\n",
        "        \"appear in the text\",\n",
        "    )"
      ],
      "metadata": {
        "id": "t6OxZh_bsj8I"
      },
      "execution_count": 49,
      "outputs": []
    },
    {
      "cell_type": "code",
      "source": [
        "llm = ChatGroq (\n",
        "    temperature=0,\n",
        "    groq_api_key = \"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\",\n",
        "    model_name=\"llama-3.1-70b-versatile\"\n",
        ")"
      ],
      "metadata": {
        "id": "cEngwxeWtp-Y"
      },
      "execution_count": 59,
      "outputs": []
    },
    {
      "cell_type": "code",
      "source": [
        "entity_chain = prompt | llm.with_structured_output(Entities)"
      ],
      "metadata": {
        "id": "x_5-HCMdspm0"
      },
      "execution_count": 60,
      "outputs": []
    },
    {
      "cell_type": "code",
      "source": [
        "entity_chain.invoke({\"question\": \"Who is fuck off freind?\"}).names"
      ],
      "metadata": {
        "colab": {
          "base_uri": "https://localhost:8080/"
        },
        "id": "C5dDESuFstl-",
        "outputId": "f9a608aa-4602-44e1-d1c3-61df401503d1"
      },
      "execution_count": 63,
      "outputs": [
        {
          "output_type": "execute_result",
          "data": {
            "text/plain": [
              "['fuck off freind']"
            ]
          },
          "metadata": {},
          "execution_count": 63
        }
      ]
    },
    {
      "cell_type": "code",
      "source": [],
      "metadata": {
        "id": "IDAgFbdYsyxV"
      },
      "execution_count": null,
      "outputs": []
    }
  ]
}